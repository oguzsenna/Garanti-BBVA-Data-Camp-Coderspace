{
 "cells": [
  {
   "cell_type": "code",
   "execution_count": 37,
   "metadata": {},
   "outputs": [
    {
     "data": {
      "application/javascript": "\n            setTimeout(function() {\n                var nbb_cell_id = 37;\n                var nbb_unformatted_code = \"import os\\nimport numpy as np\\nfrom utils import *\\nimport pandas as pd\\n\\nclass config:\\n    data_path = '../../../datasets/garanti-bbva-data-camp/'\";\n                var nbb_formatted_code = \"import os\\nimport numpy as np\\nfrom utils import *\\nimport pandas as pd\\n\\n\\nclass config:\\n    data_path = \\\"../../../datasets/garanti-bbva-data-camp/\\\"\";\n                var nbb_cells = Jupyter.notebook.get_cells();\n                for (var i = 0; i < nbb_cells.length; ++i) {\n                    if (nbb_cells[i].input_prompt_number == nbb_cell_id) {\n                        if (nbb_cells[i].get_text() == nbb_unformatted_code) {\n                             nbb_cells[i].set_text(nbb_formatted_code);\n                        }\n                        break;\n                    }\n                }\n            }, 500);\n            ",
      "text/plain": [
       "<IPython.core.display.Javascript object>"
      ]
     },
     "metadata": {},
     "output_type": "display_data"
    }
   ],
   "source": [
    "import os\n",
    "import numpy as np\n",
    "from utils import *\n",
    "import pandas as pd\n",
    "\n",
    "class config:\n",
    "    data_path = '../../../datasets/garanti-bbva-data-camp/'"
   ]
  },
  {
   "cell_type": "code",
   "execution_count": 38,
   "metadata": {},
   "outputs": [
    {
     "name": "stdout",
     "output_type": "stream",
     "text": [
      "train_df shape: (53019, 4)\n",
      "test_df shape: (13255, 3)\n",
      "submission shape: (13255, 2)\n",
      "skills shape: (1398443, 2)\n",
      "work_experiences shape: (187019, 4)\n",
      "education shape: (142575, 6)\n",
      "languages shape: (76062, 3)\n"
     ]
    },
    {
     "data": {
      "application/javascript": "\n            setTimeout(function() {\n                var nbb_cell_id = 38;\n                var nbb_unformatted_code = \"train_df = pd.read_csv(os.path.join(config.data_path, 'train_users.csv'))\\ntest_df = pd.read_csv(os.path.join(config.data_path, 'test_users.csv'))\\nsubmission = pd.read_csv(os.path.join(config.data_path, 'submission.csv'))\\nskills = pd.read_csv(os.path.join(config.data_path, 'skills.csv')) \\nwork_experiences = pd.read_csv(os.path.join(config.data_path, 'work_experiences.csv')) \\nlanguages = pd.read_csv(os.path.join(config.data_path, 'languages.csv'))\\neducation = pd.read_csv(os.path.join(config.data_path, 'education.csv'))\\n\\nprint(f'train_df shape: {train_df.shape}')\\nprint(f'test_df shape: {test_df.shape}')\\nprint(f'submission shape: {submission.shape}')\\nprint(f'skills shape: {skills.shape}')\\nprint(f'work_experiences shape: {work_experiences.shape}')\\nprint(f'education shape: {education.shape}')\\nprint(f'languages shape: {languages.shape}')\";\n                var nbb_formatted_code = \"train_df = pd.read_csv(os.path.join(config.data_path, \\\"train_users.csv\\\"))\\ntest_df = pd.read_csv(os.path.join(config.data_path, \\\"test_users.csv\\\"))\\nsubmission = pd.read_csv(os.path.join(config.data_path, \\\"submission.csv\\\"))\\nskills = pd.read_csv(os.path.join(config.data_path, \\\"skills.csv\\\"))\\nwork_experiences = pd.read_csv(os.path.join(config.data_path, \\\"work_experiences.csv\\\"))\\nlanguages = pd.read_csv(os.path.join(config.data_path, \\\"languages.csv\\\"))\\neducation = pd.read_csv(os.path.join(config.data_path, \\\"education.csv\\\"))\\n\\nprint(f\\\"train_df shape: {train_df.shape}\\\")\\nprint(f\\\"test_df shape: {test_df.shape}\\\")\\nprint(f\\\"submission shape: {submission.shape}\\\")\\nprint(f\\\"skills shape: {skills.shape}\\\")\\nprint(f\\\"work_experiences shape: {work_experiences.shape}\\\")\\nprint(f\\\"education shape: {education.shape}\\\")\\nprint(f\\\"languages shape: {languages.shape}\\\")\";\n                var nbb_cells = Jupyter.notebook.get_cells();\n                for (var i = 0; i < nbb_cells.length; ++i) {\n                    if (nbb_cells[i].input_prompt_number == nbb_cell_id) {\n                        if (nbb_cells[i].get_text() == nbb_unformatted_code) {\n                             nbb_cells[i].set_text(nbb_formatted_code);\n                        }\n                        break;\n                    }\n                }\n            }, 500);\n            ",
      "text/plain": [
       "<IPython.core.display.Javascript object>"
      ]
     },
     "metadata": {},
     "output_type": "display_data"
    }
   ],
   "source": [
    "train_df = pd.read_csv(os.path.join(config.data_path, 'train_users.csv'))\n",
    "test_df = pd.read_csv(os.path.join(config.data_path, 'test_users.csv'))\n",
    "submission = pd.read_csv(os.path.join(config.data_path, 'submission.csv'))\n",
    "skills = pd.read_csv(os.path.join(config.data_path, 'skills.csv')) \n",
    "work_experiences = pd.read_csv(os.path.join(config.data_path, 'work_experiences.csv')) \n",
    "languages = pd.read_csv(os.path.join(config.data_path, 'languages.csv'))\n",
    "education = pd.read_csv(os.path.join(config.data_path, 'education.csv'))\n",
    "\n",
    "print(f'train_df shape: {train_df.shape}')\n",
    "print(f'test_df shape: {test_df.shape}')\n",
    "print(f'submission shape: {submission.shape}')\n",
    "print(f'skills shape: {skills.shape}')\n",
    "print(f'work_experiences shape: {work_experiences.shape}')\n",
    "print(f'education shape: {education.shape}')\n",
    "print(f'languages shape: {languages.shape}')"
   ]
  },
  {
   "cell_type": "code",
   "execution_count": 39,
   "metadata": {},
   "outputs": [
    {
     "data": {
      "text/html": [
       "<div>\n",
       "<style scoped>\n",
       "    .dataframe tbody tr th:only-of-type {\n",
       "        vertical-align: middle;\n",
       "    }\n",
       "\n",
       "    .dataframe tbody tr th {\n",
       "        vertical-align: top;\n",
       "    }\n",
       "\n",
       "    .dataframe thead th {\n",
       "        text-align: right;\n",
       "    }\n",
       "</style>\n",
       "<table border=\"1\" class=\"dataframe\">\n",
       "  <thead>\n",
       "    <tr style=\"text-align: right;\">\n",
       "      <th></th>\n",
       "      <th>user_id</th>\n",
       "      <th>industry</th>\n",
       "      <th>location</th>\n",
       "      <th>moved_after_2019</th>\n",
       "    </tr>\n",
       "  </thead>\n",
       "  <tbody>\n",
       "    <tr>\n",
       "      <th>0</th>\n",
       "      <td>1301</td>\n",
       "      <td>Information Technology and Services</td>\n",
       "      <td>Istanbul, Istanbul, Turkey</td>\n",
       "      <td>1</td>\n",
       "    </tr>\n",
       "    <tr>\n",
       "      <th>1</th>\n",
       "      <td>6950</td>\n",
       "      <td>Internet</td>\n",
       "      <td>Istanbul, Istanbul, Turkey</td>\n",
       "      <td>0</td>\n",
       "    </tr>\n",
       "    <tr>\n",
       "      <th>2</th>\n",
       "      <td>4880</td>\n",
       "      <td>Online Media</td>\n",
       "      <td>Turkey</td>\n",
       "      <td>0</td>\n",
       "    </tr>\n",
       "    <tr>\n",
       "      <th>3</th>\n",
       "      <td>26046</td>\n",
       "      <td>Telecommunications</td>\n",
       "      <td>Istanbul, Istanbul, Turkey</td>\n",
       "      <td>0</td>\n",
       "    </tr>\n",
       "    <tr>\n",
       "      <th>4</th>\n",
       "      <td>11005</td>\n",
       "      <td>Banking</td>\n",
       "      <td>Istanbul, Turkey</td>\n",
       "      <td>0</td>\n",
       "    </tr>\n",
       "  </tbody>\n",
       "</table>\n",
       "</div>"
      ],
      "text/plain": [
       "   user_id                             industry                    location  \\\n",
       "0     1301  Information Technology and Services  Istanbul, Istanbul, Turkey   \n",
       "1     6950                             Internet  Istanbul, Istanbul, Turkey   \n",
       "2     4880                         Online Media                      Turkey   \n",
       "3    26046                   Telecommunications  Istanbul, Istanbul, Turkey   \n",
       "4    11005                              Banking            Istanbul, Turkey   \n",
       "\n",
       "   moved_after_2019  \n",
       "0                 1  \n",
       "1                 0  \n",
       "2                 0  \n",
       "3                 0  \n",
       "4                 0  "
      ]
     },
     "execution_count": 39,
     "metadata": {},
     "output_type": "execute_result"
    },
    {
     "data": {
      "application/javascript": "\n            setTimeout(function() {\n                var nbb_cell_id = 39;\n                var nbb_unformatted_code = \"train_df.head()\";\n                var nbb_formatted_code = \"train_df.head()\";\n                var nbb_cells = Jupyter.notebook.get_cells();\n                for (var i = 0; i < nbb_cells.length; ++i) {\n                    if (nbb_cells[i].input_prompt_number == nbb_cell_id) {\n                        if (nbb_cells[i].get_text() == nbb_unformatted_code) {\n                             nbb_cells[i].set_text(nbb_formatted_code);\n                        }\n                        break;\n                    }\n                }\n            }, 500);\n            ",
      "text/plain": [
       "<IPython.core.display.Javascript object>"
      ]
     },
     "metadata": {},
     "output_type": "display_data"
    }
   ],
   "source": [
    "train_df.head()"
   ]
  },
  {
   "cell_type": "code",
   "execution_count": 40,
   "metadata": {},
   "outputs": [
    {
     "data": {
      "text/html": [
       "<div>\n",
       "<style scoped>\n",
       "    .dataframe tbody tr th:only-of-type {\n",
       "        vertical-align: middle;\n",
       "    }\n",
       "\n",
       "    .dataframe tbody tr th {\n",
       "        vertical-align: top;\n",
       "    }\n",
       "\n",
       "    .dataframe thead th {\n",
       "        text-align: right;\n",
       "    }\n",
       "</style>\n",
       "<table border=\"1\" class=\"dataframe\">\n",
       "  <thead>\n",
       "    <tr style=\"text-align: right;\">\n",
       "      <th></th>\n",
       "      <th>user_id</th>\n",
       "      <th>industry</th>\n",
       "      <th>location</th>\n",
       "    </tr>\n",
       "  </thead>\n",
       "  <tbody>\n",
       "    <tr>\n",
       "      <th>0</th>\n",
       "      <td>17449</td>\n",
       "      <td>Research</td>\n",
       "      <td>Turkey</td>\n",
       "    </tr>\n",
       "    <tr>\n",
       "      <th>1</th>\n",
       "      <td>33967</td>\n",
       "      <td>Computer Software</td>\n",
       "      <td>Istanbul, Istanbul, Turkey</td>\n",
       "    </tr>\n",
       "    <tr>\n",
       "      <th>2</th>\n",
       "      <td>2110</td>\n",
       "      <td>Automotive</td>\n",
       "      <td>Turkey</td>\n",
       "    </tr>\n",
       "    <tr>\n",
       "      <th>3</th>\n",
       "      <td>55082</td>\n",
       "      <td>Internet</td>\n",
       "      <td>Turkey</td>\n",
       "    </tr>\n",
       "    <tr>\n",
       "      <th>4</th>\n",
       "      <td>37165</td>\n",
       "      <td>Electrical/Electronic Manufacturing</td>\n",
       "      <td>Turkey</td>\n",
       "    </tr>\n",
       "  </tbody>\n",
       "</table>\n",
       "</div>"
      ],
      "text/plain": [
       "   user_id                             industry                    location\n",
       "0    17449                             Research                      Turkey\n",
       "1    33967                    Computer Software  Istanbul, Istanbul, Turkey\n",
       "2     2110                           Automotive                      Turkey\n",
       "3    55082                             Internet                      Turkey\n",
       "4    37165  Electrical/Electronic Manufacturing                      Turkey"
      ]
     },
     "execution_count": 40,
     "metadata": {},
     "output_type": "execute_result"
    },
    {
     "data": {
      "application/javascript": "\n            setTimeout(function() {\n                var nbb_cell_id = 40;\n                var nbb_unformatted_code = \"test_df.head()\";\n                var nbb_formatted_code = \"test_df.head()\";\n                var nbb_cells = Jupyter.notebook.get_cells();\n                for (var i = 0; i < nbb_cells.length; ++i) {\n                    if (nbb_cells[i].input_prompt_number == nbb_cell_id) {\n                        if (nbb_cells[i].get_text() == nbb_unformatted_code) {\n                             nbb_cells[i].set_text(nbb_formatted_code);\n                        }\n                        break;\n                    }\n                }\n            }, 500);\n            ",
      "text/plain": [
       "<IPython.core.display.Javascript object>"
      ]
     },
     "metadata": {},
     "output_type": "display_data"
    }
   ],
   "source": [
    "test_df.head()"
   ]
  },
  {
   "cell_type": "code",
   "execution_count": null,
   "metadata": {},
   "outputs": [],
   "source": []
  }
 ],
 "metadata": {
  "kernelspec": {
   "display_name": "CondaEnv",
   "language": "python",
   "name": "condaenv"
  },
  "language_info": {
   "codemirror_mode": {
    "name": "ipython",
    "version": 3
   },
   "file_extension": ".py",
   "mimetype": "text/x-python",
   "name": "python",
   "nbconvert_exporter": "python",
   "pygments_lexer": "ipython3",
   "version": "3.10.8"
  },
  "orig_nbformat": 4,
  "vscode": {
   "interpreter": {
    "hash": "31f2aee4e71d21fbe5cf8b01ff0e069b9275f58929596ceb00d14d90e3e16cd6"
   }
  }
 },
 "nbformat": 4,
 "nbformat_minor": 2
}

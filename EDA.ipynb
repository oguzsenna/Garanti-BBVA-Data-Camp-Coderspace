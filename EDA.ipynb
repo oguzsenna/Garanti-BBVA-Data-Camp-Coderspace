{
 "cells": [
  {
   "cell_type": "code",
   "execution_count": 109,
   "metadata": {},
   "outputs": [
    {
     "name": "stdout",
     "output_type": "stream",
     "text": [
      "The nb_black extension is already loaded. To reload it, use:\n",
      "  %reload_ext nb_black\n"
     ]
    },
    {
     "data": {
      "application/javascript": "\n            setTimeout(function() {\n                var nbb_cell_id = 109;\n                var nbb_unformatted_code = \"import os\\nimport numpy as np\\nimport pandas as pd\\n%load_ext nb_black\\n\\nclass config:\\n    data_path = '../../../datasets/garanti-bbva-data-camp/'\";\n                var nbb_formatted_code = \"import os\\nimport numpy as np\\nimport pandas as pd\\n\\n%load_ext nb_black\\n\\n\\nclass config:\\n    data_path = \\\"../../../datasets/garanti-bbva-data-camp/\\\"\";\n                var nbb_cells = Jupyter.notebook.get_cells();\n                for (var i = 0; i < nbb_cells.length; ++i) {\n                    if (nbb_cells[i].input_prompt_number == nbb_cell_id) {\n                        if (nbb_cells[i].get_text() == nbb_unformatted_code) {\n                             nbb_cells[i].set_text(nbb_formatted_code);\n                        }\n                        break;\n                    }\n                }\n            }, 500);\n            ",
      "text/plain": [
       "<IPython.core.display.Javascript object>"
      ]
     },
     "metadata": {},
     "output_type": "display_data"
    }
   ],
   "source": [
    "import os\n",
    "import numpy as np\n",
    "import pandas as pd\n",
    "%load_ext nb_black\n",
    "\n",
    "class config:\n",
    "    data_path = '../../../datasets/garanti-bbva-data-camp/'"
   ]
  },
  {
   "cell_type": "code",
   "execution_count": 92,
   "metadata": {},
   "outputs": [
    {
     "data": {
      "text/plain": [
       "['train_users.csv',\n",
       " 'education.csv',\n",
       " 'skills.csv',\n",
       " 'submission.csv',\n",
       " 'work_experiences.csv',\n",
       " 'test_users.csv',\n",
       " 'languages.csv']"
      ]
     },
     "execution_count": 92,
     "metadata": {},
     "output_type": "execute_result"
    },
    {
     "data": {
      "application/javascript": "\n            setTimeout(function() {\n                var nbb_cell_id = 92;\n                var nbb_unformatted_code = \"os.listdir(config.data_path)\";\n                var nbb_formatted_code = \"os.listdir(config.data_path)\";\n                var nbb_cells = Jupyter.notebook.get_cells();\n                for (var i = 0; i < nbb_cells.length; ++i) {\n                    if (nbb_cells[i].input_prompt_number == nbb_cell_id) {\n                        if (nbb_cells[i].get_text() == nbb_unformatted_code) {\n                             nbb_cells[i].set_text(nbb_formatted_code);\n                        }\n                        break;\n                    }\n                }\n            }, 500);\n            ",
      "text/plain": [
       "<IPython.core.display.Javascript object>"
      ]
     },
     "metadata": {},
     "output_type": "display_data"
    }
   ],
   "source": [
    "os.listdir(config.data_path)"
   ]
  },
  {
   "cell_type": "code",
   "execution_count": 93,
   "metadata": {},
   "outputs": [
    {
     "name": "stdout",
     "output_type": "stream",
     "text": [
      "train_df shape: (53019, 4)\n",
      "test_df shape: (13255, 3)\n",
      "submission shape: (13255, 2)\n",
      "skills shape: (1398443, 2)\n",
      "work_experiences shape: (187019, 4)\n",
      "education shape: (142575, 6)\n",
      "languages shape: (76062, 3)\n"
     ]
    },
    {
     "data": {
      "application/javascript": "\n            setTimeout(function() {\n                var nbb_cell_id = 93;\n                var nbb_unformatted_code = \"train_df = pd.read_csv(os.path.join(config.data_path, 'train_users.csv'))\\ntest_df = pd.read_csv(os.path.join(config.data_path, 'test_users.csv'))\\nsubmission = pd.read_csv(os.path.join(config.data_path, 'submission.csv'))\\nskills = pd.read_csv(os.path.join(config.data_path, 'skills.csv')) \\nwork_experiences = pd.read_csv(os.path.join(config.data_path, 'work_experiences.csv')) \\nlanguages = pd.read_csv(os.path.join(config.data_path, 'languages.csv'))\\neducation = pd.read_csv(os.path.join(config.data_path, 'education.csv'))\\n\\nprint(f'train_df shape: {train_df.shape}')\\nprint(f'test_df shape: {test_df.shape}')\\nprint(f'submission shape: {submission.shape}')\\nprint(f'skills shape: {skills.shape}')\\nprint(f'work_experiences shape: {work_experiences.shape}')\\nprint(f'education shape: {education.shape}')\\nprint(f'languages shape: {languages.shape}')\";\n                var nbb_formatted_code = \"train_df = pd.read_csv(os.path.join(config.data_path, \\\"train_users.csv\\\"))\\ntest_df = pd.read_csv(os.path.join(config.data_path, \\\"test_users.csv\\\"))\\nsubmission = pd.read_csv(os.path.join(config.data_path, \\\"submission.csv\\\"))\\nskills = pd.read_csv(os.path.join(config.data_path, \\\"skills.csv\\\"))\\nwork_experiences = pd.read_csv(os.path.join(config.data_path, \\\"work_experiences.csv\\\"))\\nlanguages = pd.read_csv(os.path.join(config.data_path, \\\"languages.csv\\\"))\\neducation = pd.read_csv(os.path.join(config.data_path, \\\"education.csv\\\"))\\n\\nprint(f\\\"train_df shape: {train_df.shape}\\\")\\nprint(f\\\"test_df shape: {test_df.shape}\\\")\\nprint(f\\\"submission shape: {submission.shape}\\\")\\nprint(f\\\"skills shape: {skills.shape}\\\")\\nprint(f\\\"work_experiences shape: {work_experiences.shape}\\\")\\nprint(f\\\"education shape: {education.shape}\\\")\\nprint(f\\\"languages shape: {languages.shape}\\\")\";\n                var nbb_cells = Jupyter.notebook.get_cells();\n                for (var i = 0; i < nbb_cells.length; ++i) {\n                    if (nbb_cells[i].input_prompt_number == nbb_cell_id) {\n                        if (nbb_cells[i].get_text() == nbb_unformatted_code) {\n                             nbb_cells[i].set_text(nbb_formatted_code);\n                        }\n                        break;\n                    }\n                }\n            }, 500);\n            ",
      "text/plain": [
       "<IPython.core.display.Javascript object>"
      ]
     },
     "metadata": {},
     "output_type": "display_data"
    }
   ],
   "source": [
    "train_df = pd.read_csv(os.path.join(config.data_path, 'train_users.csv'))\n",
    "test_df = pd.read_csv(os.path.join(config.data_path, 'test_users.csv'))\n",
    "submission = pd.read_csv(os.path.join(config.data_path, 'submission.csv'))\n",
    "skills = pd.read_csv(os.path.join(config.data_path, 'skills.csv')) \n",
    "work_experiences = pd.read_csv(os.path.join(config.data_path, 'work_experiences.csv')) \n",
    "languages = pd.read_csv(os.path.join(config.data_path, 'languages.csv'))\n",
    "education = pd.read_csv(os.path.join(config.data_path, 'education.csv'))\n",
    "\n",
    "print(f'train_df shape: {train_df.shape}')\n",
    "print(f'test_df shape: {test_df.shape}')\n",
    "print(f'submission shape: {submission.shape}')\n",
    "print(f'skills shape: {skills.shape}')\n",
    "print(f'work_experiences shape: {work_experiences.shape}')\n",
    "print(f'education shape: {education.shape}')\n",
    "print(f'languages shape: {languages.shape}')\n"
   ]
  },
  {
   "cell_type": "code",
   "execution_count": 94,
   "metadata": {},
   "outputs": [
    {
     "data": {
      "text/html": [
       "<div>\n",
       "<style scoped>\n",
       "    .dataframe tbody tr th:only-of-type {\n",
       "        vertical-align: middle;\n",
       "    }\n",
       "\n",
       "    .dataframe tbody tr th {\n",
       "        vertical-align: top;\n",
       "    }\n",
       "\n",
       "    .dataframe thead th {\n",
       "        text-align: right;\n",
       "    }\n",
       "</style>\n",
       "<table border=\"1\" class=\"dataframe\">\n",
       "  <thead>\n",
       "    <tr style=\"text-align: right;\">\n",
       "      <th></th>\n",
       "      <th>user_id</th>\n",
       "      <th>industry</th>\n",
       "      <th>location</th>\n",
       "      <th>moved_after_2019</th>\n",
       "    </tr>\n",
       "  </thead>\n",
       "  <tbody>\n",
       "    <tr>\n",
       "      <th>0</th>\n",
       "      <td>1301</td>\n",
       "      <td>Information Technology and Services</td>\n",
       "      <td>Istanbul, Istanbul, Turkey</td>\n",
       "      <td>1</td>\n",
       "    </tr>\n",
       "    <tr>\n",
       "      <th>1</th>\n",
       "      <td>6950</td>\n",
       "      <td>Internet</td>\n",
       "      <td>Istanbul, Istanbul, Turkey</td>\n",
       "      <td>0</td>\n",
       "    </tr>\n",
       "    <tr>\n",
       "      <th>2</th>\n",
       "      <td>4880</td>\n",
       "      <td>Online Media</td>\n",
       "      <td>Turkey</td>\n",
       "      <td>0</td>\n",
       "    </tr>\n",
       "    <tr>\n",
       "      <th>3</th>\n",
       "      <td>26046</td>\n",
       "      <td>Telecommunications</td>\n",
       "      <td>Istanbul, Istanbul, Turkey</td>\n",
       "      <td>0</td>\n",
       "    </tr>\n",
       "    <tr>\n",
       "      <th>4</th>\n",
       "      <td>11005</td>\n",
       "      <td>Banking</td>\n",
       "      <td>Istanbul, Turkey</td>\n",
       "      <td>0</td>\n",
       "    </tr>\n",
       "  </tbody>\n",
       "</table>\n",
       "</div>"
      ],
      "text/plain": [
       "   user_id                             industry                    location  \\\n",
       "0     1301  Information Technology and Services  Istanbul, Istanbul, Turkey   \n",
       "1     6950                             Internet  Istanbul, Istanbul, Turkey   \n",
       "2     4880                         Online Media                      Turkey   \n",
       "3    26046                   Telecommunications  Istanbul, Istanbul, Turkey   \n",
       "4    11005                              Banking            Istanbul, Turkey   \n",
       "\n",
       "   moved_after_2019  \n",
       "0                 1  \n",
       "1                 0  \n",
       "2                 0  \n",
       "3                 0  \n",
       "4                 0  "
      ]
     },
     "execution_count": 94,
     "metadata": {},
     "output_type": "execute_result"
    },
    {
     "data": {
      "application/javascript": "\n            setTimeout(function() {\n                var nbb_cell_id = 94;\n                var nbb_unformatted_code = \"train_df.head()\";\n                var nbb_formatted_code = \"train_df.head()\";\n                var nbb_cells = Jupyter.notebook.get_cells();\n                for (var i = 0; i < nbb_cells.length; ++i) {\n                    if (nbb_cells[i].input_prompt_number == nbb_cell_id) {\n                        if (nbb_cells[i].get_text() == nbb_unformatted_code) {\n                             nbb_cells[i].set_text(nbb_formatted_code);\n                        }\n                        break;\n                    }\n                }\n            }, 500);\n            ",
      "text/plain": [
       "<IPython.core.display.Javascript object>"
      ]
     },
     "metadata": {},
     "output_type": "display_data"
    }
   ],
   "source": [
    "train_df.head()"
   ]
  },
  {
   "cell_type": "code",
   "execution_count": 95,
   "metadata": {},
   "outputs": [
    {
     "data": {
      "text/html": [
       "<div>\n",
       "<style scoped>\n",
       "    .dataframe tbody tr th:only-of-type {\n",
       "        vertical-align: middle;\n",
       "    }\n",
       "\n",
       "    .dataframe tbody tr th {\n",
       "        vertical-align: top;\n",
       "    }\n",
       "\n",
       "    .dataframe thead th {\n",
       "        text-align: right;\n",
       "    }\n",
       "</style>\n",
       "<table border=\"1\" class=\"dataframe\">\n",
       "  <thead>\n",
       "    <tr style=\"text-align: right;\">\n",
       "      <th></th>\n",
       "      <th>user_id</th>\n",
       "      <th>industry</th>\n",
       "      <th>location</th>\n",
       "    </tr>\n",
       "  </thead>\n",
       "  <tbody>\n",
       "    <tr>\n",
       "      <th>0</th>\n",
       "      <td>17449</td>\n",
       "      <td>Research</td>\n",
       "      <td>Turkey</td>\n",
       "    </tr>\n",
       "    <tr>\n",
       "      <th>1</th>\n",
       "      <td>33967</td>\n",
       "      <td>Computer Software</td>\n",
       "      <td>Istanbul, Istanbul, Turkey</td>\n",
       "    </tr>\n",
       "    <tr>\n",
       "      <th>2</th>\n",
       "      <td>2110</td>\n",
       "      <td>Automotive</td>\n",
       "      <td>Turkey</td>\n",
       "    </tr>\n",
       "    <tr>\n",
       "      <th>3</th>\n",
       "      <td>55082</td>\n",
       "      <td>Internet</td>\n",
       "      <td>Turkey</td>\n",
       "    </tr>\n",
       "    <tr>\n",
       "      <th>4</th>\n",
       "      <td>37165</td>\n",
       "      <td>Electrical/Electronic Manufacturing</td>\n",
       "      <td>Turkey</td>\n",
       "    </tr>\n",
       "  </tbody>\n",
       "</table>\n",
       "</div>"
      ],
      "text/plain": [
       "   user_id                             industry                    location\n",
       "0    17449                             Research                      Turkey\n",
       "1    33967                    Computer Software  Istanbul, Istanbul, Turkey\n",
       "2     2110                           Automotive                      Turkey\n",
       "3    55082                             Internet                      Turkey\n",
       "4    37165  Electrical/Electronic Manufacturing                      Turkey"
      ]
     },
     "execution_count": 95,
     "metadata": {},
     "output_type": "execute_result"
    },
    {
     "data": {
      "application/javascript": "\n            setTimeout(function() {\n                var nbb_cell_id = 95;\n                var nbb_unformatted_code = \"test_df.head()\";\n                var nbb_formatted_code = \"test_df.head()\";\n                var nbb_cells = Jupyter.notebook.get_cells();\n                for (var i = 0; i < nbb_cells.length; ++i) {\n                    if (nbb_cells[i].input_prompt_number == nbb_cell_id) {\n                        if (nbb_cells[i].get_text() == nbb_unformatted_code) {\n                             nbb_cells[i].set_text(nbb_formatted_code);\n                        }\n                        break;\n                    }\n                }\n            }, 500);\n            ",
      "text/plain": [
       "<IPython.core.display.Javascript object>"
      ]
     },
     "metadata": {},
     "output_type": "display_data"
    }
   ],
   "source": [
    "test_df.head()"
   ]
  },
  {
   "cell_type": "code",
   "execution_count": 96,
   "metadata": {},
   "outputs": [
    {
     "data": {
      "application/javascript": "\n            setTimeout(function() {\n                var nbb_cell_id = 96;\n                var nbb_unformatted_code = \"for user in train_df['user_id'].unique():\\n\\n    if user in test_df['user_id'].unique():\\n\\n        print(user)\";\n                var nbb_formatted_code = \"for user in train_df[\\\"user_id\\\"].unique():\\n\\n    if user in test_df[\\\"user_id\\\"].unique():\\n\\n        print(user)\";\n                var nbb_cells = Jupyter.notebook.get_cells();\n                for (var i = 0; i < nbb_cells.length; ++i) {\n                    if (nbb_cells[i].input_prompt_number == nbb_cell_id) {\n                        if (nbb_cells[i].get_text() == nbb_unformatted_code) {\n                             nbb_cells[i].set_text(nbb_formatted_code);\n                        }\n                        break;\n                    }\n                }\n            }, 500);\n            ",
      "text/plain": [
       "<IPython.core.display.Javascript object>"
      ]
     },
     "metadata": {},
     "output_type": "display_data"
    }
   ],
   "source": [
    "for user in train_df['user_id'].unique():\n",
    "\n",
    "    if user in test_df['user_id'].unique():\n",
    "\n",
    "        print(user)"
   ]
  },
  {
   "cell_type": "markdown",
   "metadata": {},
   "source": [
    "### Skills Data"
   ]
  },
  {
   "cell_type": "code",
   "execution_count": 97,
   "metadata": {},
   "outputs": [
    {
     "data": {
      "application/javascript": "\n            setTimeout(function() {\n                var nbb_cell_id = 97;\n                var nbb_unformatted_code = \"def skills_preprocess(skill_df: pd.DataFrame) -> pd.DataFrame:\\n\\n    skill_df_ = skill_df.copy()\\n    skill_df_['skill'] = skill_df_['skill'].apply(lambda x: x.strip())\\n\\n    skills_to_replace = {\\n                        'Web Geli\\u015ftirme': 'Web Development',\\n                        'Proje Y\\u00f6netimi': 'Project Management',\\n                        'Programlama': 'Programming',\\n                        'Object-Oriented Programming (OOP)': 'OOP',\\n                        'Object Oriented Programming (OOP)': 'OOP',\\n                        'OOP (Nesne Y\\u00f6nelimli Programlama)': 'OOP',\\n                        'OOP(Object Oriented Programming)': 'OOP',\\n                        'OOP (Object Oriented Programming)': 'OOP',\\n                        'Objektorientierte Programmierung (OOP)': 'OOP',\\n                        'Object-Oriented Programming(OOP)': 'OOP',\\n                        'OOP(Object Orianted Programming)': 'OOP',\\n                        'OOP (Nesne Y\\u00f6nelimli Programlama': 'OOP',\\n                        'OOP programming and implementing design patterns': 'OOP',\\n                        'OOP(Object-Oriented Programming)': 'OOP',\\n                        'Nesne Y\\u00f6nelimli Programlama(OOP)': 'OOP',\\n                        'Object Oriented Programming(OOP)': 'OOP',\\n                        'Programaci\\u00f3n orientada a objetos (OOP)': 'OOP',\\n                        'OOP ( Object Oriented Programming )': 'OOP',\\n                        'OOP (Object-Oriented Programming)': 'OOP',\\n                        'OOP ( Object - Oriented Programming )': 'OOP',\\n                        'OOP(Nesne Y\\u00f6nelimli Programlama)':'OOP',\\n                        'Object-oriented Programming (OOP)': 'OOP',\\n                        'C, C++ (OOP), Linux': 'OOP',\\n                        'OOP Design': 'OOP',\\n                        'Advanced OOP': 'OOP',\\n                        }\\n\\n    for key in skills_to_replace.keys():\\n        \\n        skill_df_['skill'] = skill_df_['skill'].replace(key, skills_to_replace[key])\\n\\n    return skill_df_\";\n                var nbb_formatted_code = \"def skills_preprocess(skill_df: pd.DataFrame) -> pd.DataFrame:\\n\\n    skill_df_ = skill_df.copy()\\n    skill_df_[\\\"skill\\\"] = skill_df_[\\\"skill\\\"].apply(lambda x: x.strip())\\n\\n    skills_to_replace = {\\n        \\\"Web Geli\\u015ftirme\\\": \\\"Web Development\\\",\\n        \\\"Proje Y\\u00f6netimi\\\": \\\"Project Management\\\",\\n        \\\"Programlama\\\": \\\"Programming\\\",\\n        \\\"Object-Oriented Programming (OOP)\\\": \\\"OOP\\\",\\n        \\\"Object Oriented Programming (OOP)\\\": \\\"OOP\\\",\\n        \\\"OOP (Nesne Y\\u00f6nelimli Programlama)\\\": \\\"OOP\\\",\\n        \\\"OOP(Object Oriented Programming)\\\": \\\"OOP\\\",\\n        \\\"OOP (Object Oriented Programming)\\\": \\\"OOP\\\",\\n        \\\"Objektorientierte Programmierung (OOP)\\\": \\\"OOP\\\",\\n        \\\"Object-Oriented Programming(OOP)\\\": \\\"OOP\\\",\\n        \\\"OOP(Object Orianted Programming)\\\": \\\"OOP\\\",\\n        \\\"OOP (Nesne Y\\u00f6nelimli Programlama\\\": \\\"OOP\\\",\\n        \\\"OOP programming and implementing design patterns\\\": \\\"OOP\\\",\\n        \\\"OOP(Object-Oriented Programming)\\\": \\\"OOP\\\",\\n        \\\"Nesne Y\\u00f6nelimli Programlama(OOP)\\\": \\\"OOP\\\",\\n        \\\"Object Oriented Programming(OOP)\\\": \\\"OOP\\\",\\n        \\\"Programaci\\u00f3n orientada a objetos (OOP)\\\": \\\"OOP\\\",\\n        \\\"OOP ( Object Oriented Programming )\\\": \\\"OOP\\\",\\n        \\\"OOP (Object-Oriented Programming)\\\": \\\"OOP\\\",\\n        \\\"OOP ( Object - Oriented Programming )\\\": \\\"OOP\\\",\\n        \\\"OOP(Nesne Y\\u00f6nelimli Programlama)\\\": \\\"OOP\\\",\\n        \\\"Object-oriented Programming (OOP)\\\": \\\"OOP\\\",\\n        \\\"C, C++ (OOP), Linux\\\": \\\"OOP\\\",\\n        \\\"OOP Design\\\": \\\"OOP\\\",\\n        \\\"Advanced OOP\\\": \\\"OOP\\\",\\n    }\\n\\n    for key in skills_to_replace.keys():\\n\\n        skill_df_[\\\"skill\\\"] = skill_df_[\\\"skill\\\"].replace(key, skills_to_replace[key])\\n\\n    return skill_df_\";\n                var nbb_cells = Jupyter.notebook.get_cells();\n                for (var i = 0; i < nbb_cells.length; ++i) {\n                    if (nbb_cells[i].input_prompt_number == nbb_cell_id) {\n                        if (nbb_cells[i].get_text() == nbb_unformatted_code) {\n                             nbb_cells[i].set_text(nbb_formatted_code);\n                        }\n                        break;\n                    }\n                }\n            }, 500);\n            ",
      "text/plain": [
       "<IPython.core.display.Javascript object>"
      ]
     },
     "metadata": {},
     "output_type": "display_data"
    }
   ],
   "source": [
    "def skills_preprocess(skill_df: pd.DataFrame) -> pd.DataFrame:\n",
    "\n",
    "    skill_df_ = skill_df.copy()\n",
    "    skill_df_['skill'] = skill_df_['skill'].apply(lambda x: x.strip())\n",
    "\n",
    "    skills_to_replace = {\n",
    "                        'Web Geliştirme': 'Web Development',\n",
    "                        'Proje Yönetimi': 'Project Management',\n",
    "                        'Programlama': 'Programming',\n",
    "                        'Object-Oriented Programming (OOP)': 'OOP',\n",
    "                        'Object Oriented Programming (OOP)': 'OOP',\n",
    "                        'OOP (Nesne Yönelimli Programlama)': 'OOP',\n",
    "                        'OOP(Object Oriented Programming)': 'OOP',\n",
    "                        'OOP (Object Oriented Programming)': 'OOP',\n",
    "                        'Objektorientierte Programmierung (OOP)': 'OOP',\n",
    "                        'Object-Oriented Programming(OOP)': 'OOP',\n",
    "                        'OOP(Object Orianted Programming)': 'OOP',\n",
    "                        'OOP (Nesne Yönelimli Programlama': 'OOP',\n",
    "                        'OOP programming and implementing design patterns': 'OOP',\n",
    "                        'OOP(Object-Oriented Programming)': 'OOP',\n",
    "                        'Nesne Yönelimli Programlama(OOP)': 'OOP',\n",
    "                        'Object Oriented Programming(OOP)': 'OOP',\n",
    "                        'Programación orientada a objetos (OOP)': 'OOP',\n",
    "                        'OOP ( Object Oriented Programming )': 'OOP',\n",
    "                        'OOP (Object-Oriented Programming)': 'OOP',\n",
    "                        'OOP ( Object - Oriented Programming )': 'OOP',\n",
    "                        'OOP(Nesne Yönelimli Programlama)':'OOP',\n",
    "                        'Object-oriented Programming (OOP)': 'OOP',\n",
    "                        'C, C++ (OOP), Linux': 'OOP',\n",
    "                        'OOP Design': 'OOP',\n",
    "                        'Advanced OOP': 'OOP',\n",
    "                        }\n",
    "\n",
    "    for key in skills_to_replace.keys():\n",
    "        \n",
    "        skill_df_['skill'] = skill_df_['skill'].replace(key, skills_to_replace[key])\n",
    "\n",
    "    return skill_df_\n"
   ]
  },
  {
   "cell_type": "code",
   "execution_count": 98,
   "metadata": {},
   "outputs": [
    {
     "data": {
      "text/plain": [
       "(1398443, 2)"
      ]
     },
     "execution_count": 98,
     "metadata": {},
     "output_type": "execute_result"
    },
    {
     "data": {
      "application/javascript": "\n            setTimeout(function() {\n                var nbb_cell_id = 98;\n                var nbb_unformatted_code = \"skills.shape\";\n                var nbb_formatted_code = \"skills.shape\";\n                var nbb_cells = Jupyter.notebook.get_cells();\n                for (var i = 0; i < nbb_cells.length; ++i) {\n                    if (nbb_cells[i].input_prompt_number == nbb_cell_id) {\n                        if (nbb_cells[i].get_text() == nbb_unformatted_code) {\n                             nbb_cells[i].set_text(nbb_formatted_code);\n                        }\n                        break;\n                    }\n                }\n            }, 500);\n            ",
      "text/plain": [
       "<IPython.core.display.Javascript object>"
      ]
     },
     "metadata": {},
     "output_type": "display_data"
    }
   ],
   "source": [
    "skills.shape"
   ]
  },
  {
   "cell_type": "code",
   "execution_count": 99,
   "metadata": {},
   "outputs": [
    {
     "data": {
      "application/javascript": "\n            setTimeout(function() {\n                var nbb_cell_id = 99;\n                var nbb_unformatted_code = \"skills['skill'] = skills['skill'].apply(lambda x: x.strip())\\n\\nskills_to_replace = {'Web Geli\\u015ftirme': 'Web Development',\\n                     'Proje Y\\u00f6netimi': 'Project Management',\\n                     'Programlama': 'Programming',\\n                     'Object-Oriented Programming (OOP)': 'OOP',\\n                     'Object Oriented Programming (OOP)': 'OOP',\\n                     'OOP (Nesne Y\\u00f6nelimli Programlama)': 'OOP',\\n                     'OOP(Object Oriented Programming)': 'OOP',\\n                     'OOP (Object Oriented Programming)': 'OOP',\\n                     'Objektorientierte Programmierung (OOP)': 'OOP',\\n                     'Object-Oriented Programming(OOP)': 'OOP',\\n                     'OOP(Object Orianted Programming)': 'OOP',\\n                     'OOP (Nesne Y\\u00f6nelimli Programlama': 'OOP',\\n                     'OOP programming and implementing design patterns': 'OOP',\\n                     'OOP(Object-Oriented Programming)': 'OOP',\\n                     'Nesne Y\\u00f6nelimli Programlama(OOP)': 'OOP',\\n                     'Object Oriented Programming(OOP)': 'OOP',\\n                     'Programaci\\u00f3n orientada a objetos (OOP)': 'OOP',\\n                     'OOP ( Object Oriented Programming )': 'OOP',\\n                     'OOP (Object-Oriented Programming)': 'OOP',\\n                     'OOP ( Object - Oriented Programming )': 'OOP',\\n                     'OOP(Nesne Y\\u00f6nelimli Programlama)':'OOP',\\n                     'Object-oriented Programming (OOP)': 'OOP',\\n                     'C, C++ (OOP), Linux': 'OOP',\\n                     'OOP Design': 'OOP',\\n                     'Advanced OOP': 'OOP',\\n                     }\\n\\nfor key in skills_to_replace.keys():\\n\\n    skills['skill'] = skills['skill'].replace(key, skills_to_replace[key])\";\n                var nbb_formatted_code = \"skills[\\\"skill\\\"] = skills[\\\"skill\\\"].apply(lambda x: x.strip())\\n\\nskills_to_replace = {\\n    \\\"Web Geli\\u015ftirme\\\": \\\"Web Development\\\",\\n    \\\"Proje Y\\u00f6netimi\\\": \\\"Project Management\\\",\\n    \\\"Programlama\\\": \\\"Programming\\\",\\n    \\\"Object-Oriented Programming (OOP)\\\": \\\"OOP\\\",\\n    \\\"Object Oriented Programming (OOP)\\\": \\\"OOP\\\",\\n    \\\"OOP (Nesne Y\\u00f6nelimli Programlama)\\\": \\\"OOP\\\",\\n    \\\"OOP(Object Oriented Programming)\\\": \\\"OOP\\\",\\n    \\\"OOP (Object Oriented Programming)\\\": \\\"OOP\\\",\\n    \\\"Objektorientierte Programmierung (OOP)\\\": \\\"OOP\\\",\\n    \\\"Object-Oriented Programming(OOP)\\\": \\\"OOP\\\",\\n    \\\"OOP(Object Orianted Programming)\\\": \\\"OOP\\\",\\n    \\\"OOP (Nesne Y\\u00f6nelimli Programlama\\\": \\\"OOP\\\",\\n    \\\"OOP programming and implementing design patterns\\\": \\\"OOP\\\",\\n    \\\"OOP(Object-Oriented Programming)\\\": \\\"OOP\\\",\\n    \\\"Nesne Y\\u00f6nelimli Programlama(OOP)\\\": \\\"OOP\\\",\\n    \\\"Object Oriented Programming(OOP)\\\": \\\"OOP\\\",\\n    \\\"Programaci\\u00f3n orientada a objetos (OOP)\\\": \\\"OOP\\\",\\n    \\\"OOP ( Object Oriented Programming )\\\": \\\"OOP\\\",\\n    \\\"OOP (Object-Oriented Programming)\\\": \\\"OOP\\\",\\n    \\\"OOP ( Object - Oriented Programming )\\\": \\\"OOP\\\",\\n    \\\"OOP(Nesne Y\\u00f6nelimli Programlama)\\\": \\\"OOP\\\",\\n    \\\"Object-oriented Programming (OOP)\\\": \\\"OOP\\\",\\n    \\\"C, C++ (OOP), Linux\\\": \\\"OOP\\\",\\n    \\\"OOP Design\\\": \\\"OOP\\\",\\n    \\\"Advanced OOP\\\": \\\"OOP\\\",\\n}\\n\\nfor key in skills_to_replace.keys():\\n\\n    skills[\\\"skill\\\"] = skills[\\\"skill\\\"].replace(key, skills_to_replace[key])\";\n                var nbb_cells = Jupyter.notebook.get_cells();\n                for (var i = 0; i < nbb_cells.length; ++i) {\n                    if (nbb_cells[i].input_prompt_number == nbb_cell_id) {\n                        if (nbb_cells[i].get_text() == nbb_unformatted_code) {\n                             nbb_cells[i].set_text(nbb_formatted_code);\n                        }\n                        break;\n                    }\n                }\n            }, 500);\n            ",
      "text/plain": [
       "<IPython.core.display.Javascript object>"
      ]
     },
     "metadata": {},
     "output_type": "display_data"
    }
   ],
   "source": [
    "skills['skill'] = skills['skill'].apply(lambda x: x.strip())\n",
    "\n",
    "skills_to_replace = {'Web Geliştirme': 'Web Development',\n",
    "                     'Proje Yönetimi': 'Project Management',\n",
    "                     'Programlama': 'Programming',\n",
    "                     'Object-Oriented Programming (OOP)': 'OOP',\n",
    "                     'Object Oriented Programming (OOP)': 'OOP',\n",
    "                     'OOP (Nesne Yönelimli Programlama)': 'OOP',\n",
    "                     'OOP(Object Oriented Programming)': 'OOP',\n",
    "                     'OOP (Object Oriented Programming)': 'OOP',\n",
    "                     'Objektorientierte Programmierung (OOP)': 'OOP',\n",
    "                     'Object-Oriented Programming(OOP)': 'OOP',\n",
    "                     'OOP(Object Orianted Programming)': 'OOP',\n",
    "                     'OOP (Nesne Yönelimli Programlama': 'OOP',\n",
    "                     'OOP programming and implementing design patterns': 'OOP',\n",
    "                     'OOP(Object-Oriented Programming)': 'OOP',\n",
    "                     'Nesne Yönelimli Programlama(OOP)': 'OOP',\n",
    "                     'Object Oriented Programming(OOP)': 'OOP',\n",
    "                     'Programación orientada a objetos (OOP)': 'OOP',\n",
    "                     'OOP ( Object Oriented Programming )': 'OOP',\n",
    "                     'OOP (Object-Oriented Programming)': 'OOP',\n",
    "                     'OOP ( Object - Oriented Programming )': 'OOP',\n",
    "                     'OOP(Nesne Yönelimli Programlama)':'OOP',\n",
    "                     'Object-oriented Programming (OOP)': 'OOP',\n",
    "                     'C, C++ (OOP), Linux': 'OOP',\n",
    "                     'OOP Design': 'OOP',\n",
    "                     'Advanced OOP': 'OOP',\n",
    "                     }\n",
    "\n",
    "for key in skills_to_replace.keys():\n",
    "\n",
    "    skills['skill'] = skills['skill'].replace(key, skills_to_replace[key])"
   ]
  },
  {
   "cell_type": "code",
   "execution_count": 100,
   "metadata": {},
   "outputs": [
    {
     "data": {
      "text/plain": [
       "OOP                                                    16719\n",
       "HADOOP                                                     4\n",
       "Java OOP                                                   2\n",
       "LOOPBACK                                                   2\n",
       "OOP and Procedural Programming                             2\n",
       "OOP, Software Design Pattern, SOLID Principle              1\n",
       "C# OOP(Object Oriented Programming)                        1\n",
       "OOP & SOLID Principles                                     1\n",
       "OOP Principles                                             1\n",
       "Object-Oriented Programming (OOP) in Python and C++        1\n",
       "OOP - Design Patterns                                      1\n",
       "Python OOP                                                 1\n",
       "Name: skill, dtype: int64"
      ]
     },
     "execution_count": 100,
     "metadata": {},
     "output_type": "execute_result"
    },
    {
     "data": {
      "application/javascript": "\n            setTimeout(function() {\n                var nbb_cell_id = 100;\n                var nbb_unformatted_code = \"skills.loc[skills['skill'].str.contains('OOP'), 'skill'].value_counts()\";\n                var nbb_formatted_code = \"skills.loc[skills[\\\"skill\\\"].str.contains(\\\"OOP\\\"), \\\"skill\\\"].value_counts()\";\n                var nbb_cells = Jupyter.notebook.get_cells();\n                for (var i = 0; i < nbb_cells.length; ++i) {\n                    if (nbb_cells[i].input_prompt_number == nbb_cell_id) {\n                        if (nbb_cells[i].get_text() == nbb_unformatted_code) {\n                             nbb_cells[i].set_text(nbb_formatted_code);\n                        }\n                        break;\n                    }\n                }\n            }, 500);\n            ",
      "text/plain": [
       "<IPython.core.display.Javascript object>"
      ]
     },
     "metadata": {},
     "output_type": "display_data"
    }
   ],
   "source": [
    "skills.loc[skills['skill'].str.contains('OOP'), 'skill'].value_counts()"
   ]
  },
  {
   "cell_type": "code",
   "execution_count": 101,
   "metadata": {},
   "outputs": [
    {
     "data": {
      "text/plain": [
       "Maven                            3164\n",
       "Oracle                           3066\n",
       "Python (Programming Language)    3045\n",
       "Android Development              2971\n",
       "SOAP                             2954\n",
       "Software Design                  2732\n",
       "Machine Learning                 2650\n",
       "Software Project Management      2642\n",
       "LINQ                             2633\n",
       "TFS                              2621\n",
       "Liderlik                         2584\n",
       "Management                       2583\n",
       "Teamwork                         2497\n",
       "TCP/IP                           2497\n",
       "Angular                          2494\n",
       "UML                              2471\n",
       "Agile Metotları                  2463\n",
       "Spring Boot                      2436\n",
       "PowerPoint                       2385\n",
       "Cascading Style Sheets (CSS)     2380\n",
       "Name: skill, dtype: int64"
      ]
     },
     "execution_count": 101,
     "metadata": {},
     "output_type": "execute_result"
    },
    {
     "data": {
      "application/javascript": "\n            setTimeout(function() {\n                var nbb_cell_id = 101;\n                var nbb_unformatted_code = \"skills['skill'].value_counts()[60:80]\";\n                var nbb_formatted_code = \"skills[\\\"skill\\\"].value_counts()[60:80]\";\n                var nbb_cells = Jupyter.notebook.get_cells();\n                for (var i = 0; i < nbb_cells.length; ++i) {\n                    if (nbb_cells[i].input_prompt_number == nbb_cell_id) {\n                        if (nbb_cells[i].get_text() == nbb_unformatted_code) {\n                             nbb_cells[i].set_text(nbb_formatted_code);\n                        }\n                        break;\n                    }\n                }\n            }, 500);\n            ",
      "text/plain": [
       "<IPython.core.display.Javascript object>"
      ]
     },
     "metadata": {},
     "output_type": "display_data"
    }
   ],
   "source": [
    "skills['skill'].value_counts()[60:80]"
   ]
  },
  {
   "cell_type": "code",
   "execution_count": 102,
   "metadata": {},
   "outputs": [
    {
     "data": {
      "text/plain": [
       "CSS                                                        15117\n",
       "Cascading Style Sheets (CSS)                                2380\n",
       "CSS3                                                        1374\n",
       "SCSS                                                         179\n",
       "HTML + CSS                                                    96\n",
       "CSS Javascript                                                81\n",
       "Tailwind CSS                                                  69\n",
       "CSS 3                                                         45\n",
       "CSS Flexbox                                                   40\n",
       "Advanced CSS                                                  34\n",
       "HTML/CSS                                                      27\n",
       "OOCSS                                                         20\n",
       "Materialize CSS                                               16\n",
       "CSS Sprites                                                   14\n",
       "CSS Grid Layout                                               11\n",
       "CSS2                                                          11\n",
       "TailwindCSS                                                   11\n",
       "SASS (SCSS)                                                    8\n",
       "SCSS / SASS                                                    8\n",
       "PostCSS                                                        8\n",
       "SMACSS                                                         7\n",
       "ECSS                                                           6\n",
       "HTML & CSS                                                     5\n",
       "Programming in HTML5 with JavaScript and CSS3 Bootstrap        5\n",
       "CSS Modules                                                    5\n",
       "HTML CSS                                                       5\n",
       "CSS5                                                           4\n",
       "Sass/SCSS                                                      4\n",
       "Html / CSS                                                     4\n",
       "HTML-CSS-Javascript                                            4\n",
       "Name: skill, dtype: int64"
      ]
     },
     "execution_count": 102,
     "metadata": {},
     "output_type": "execute_result"
    },
    {
     "data": {
      "application/javascript": "\n            setTimeout(function() {\n                var nbb_cell_id = 102;\n                var nbb_unformatted_code = \"skills.loc[skills['skill'].str.contains('CSS'), 'skill'].value_counts()[:30]\";\n                var nbb_formatted_code = \"skills.loc[skills[\\\"skill\\\"].str.contains(\\\"CSS\\\"), \\\"skill\\\"].value_counts()[:30]\";\n                var nbb_cells = Jupyter.notebook.get_cells();\n                for (var i = 0; i < nbb_cells.length; ++i) {\n                    if (nbb_cells[i].input_prompt_number == nbb_cell_id) {\n                        if (nbb_cells[i].get_text() == nbb_unformatted_code) {\n                             nbb_cells[i].set_text(nbb_formatted_code);\n                        }\n                        break;\n                    }\n                }\n            }, 500);\n            ",
      "text/plain": [
       "<IPython.core.display.Javascript object>"
      ]
     },
     "metadata": {},
     "output_type": "display_data"
    }
   ],
   "source": [
    "skills.loc[skills['skill'].str.contains('CSS'), 'skill'].value_counts()[:30]"
   ]
  },
  {
   "cell_type": "code",
   "execution_count": 103,
   "metadata": {},
   "outputs": [
    {
     "data": {
      "text/html": [
       "<div>\n",
       "<style scoped>\n",
       "    .dataframe tbody tr th:only-of-type {\n",
       "        vertical-align: middle;\n",
       "    }\n",
       "\n",
       "    .dataframe tbody tr th {\n",
       "        vertical-align: top;\n",
       "    }\n",
       "\n",
       "    .dataframe thead th {\n",
       "        text-align: right;\n",
       "    }\n",
       "</style>\n",
       "<table border=\"1\" class=\"dataframe\">\n",
       "  <thead>\n",
       "    <tr style=\"text-align: right;\">\n",
       "      <th></th>\n",
       "      <th>user_id</th>\n",
       "      <th>skill</th>\n",
       "    </tr>\n",
       "  </thead>\n",
       "  <tbody>\n",
       "    <tr>\n",
       "      <th>993414</th>\n",
       "      <td>47084</td>\n",
       "      <td>Go (Programming Language)</td>\n",
       "    </tr>\n",
       "    <tr>\n",
       "      <th>993415</th>\n",
       "      <td>47084</td>\n",
       "      <td>Microservices</td>\n",
       "    </tr>\n",
       "    <tr>\n",
       "      <th>993416</th>\n",
       "      <td>47084</td>\n",
       "      <td>Software Engineering</td>\n",
       "    </tr>\n",
       "    <tr>\n",
       "      <th>993417</th>\n",
       "      <td>47084</td>\n",
       "      <td>OOP</td>\n",
       "    </tr>\n",
       "    <tr>\n",
       "      <th>993418</th>\n",
       "      <td>47084</td>\n",
       "      <td>Web Services</td>\n",
       "    </tr>\n",
       "    <tr>\n",
       "      <th>993419</th>\n",
       "      <td>47084</td>\n",
       "      <td>Object Oriented Design</td>\n",
       "    </tr>\n",
       "    <tr>\n",
       "      <th>993420</th>\n",
       "      <td>47084</td>\n",
       "      <td>Mobile Applications</td>\n",
       "    </tr>\n",
       "    <tr>\n",
       "      <th>993421</th>\n",
       "      <td>47084</td>\n",
       "      <td>Software Development</td>\n",
       "    </tr>\n",
       "    <tr>\n",
       "      <th>993422</th>\n",
       "      <td>47084</td>\n",
       "      <td>Troubleshooting</td>\n",
       "    </tr>\n",
       "    <tr>\n",
       "      <th>993423</th>\n",
       "      <td>47084</td>\n",
       "      <td>ElasticSearch</td>\n",
       "    </tr>\n",
       "    <tr>\n",
       "      <th>993424</th>\n",
       "      <td>47084</td>\n",
       "      <td>Laravel</td>\n",
       "    </tr>\n",
       "    <tr>\n",
       "      <th>993425</th>\n",
       "      <td>47084</td>\n",
       "      <td>PHP</td>\n",
       "    </tr>\n",
       "    <tr>\n",
       "      <th>993426</th>\n",
       "      <td>47084</td>\n",
       "      <td>MySQL</td>\n",
       "    </tr>\n",
       "    <tr>\n",
       "      <th>993427</th>\n",
       "      <td>47084</td>\n",
       "      <td>jQuery</td>\n",
       "    </tr>\n",
       "    <tr>\n",
       "      <th>993428</th>\n",
       "      <td>47084</td>\n",
       "      <td>Eclipse</td>\n",
       "    </tr>\n",
       "    <tr>\n",
       "      <th>993429</th>\n",
       "      <td>47084</td>\n",
       "      <td>C#</td>\n",
       "    </tr>\n",
       "    <tr>\n",
       "      <th>993430</th>\n",
       "      <td>47084</td>\n",
       "      <td>XML</td>\n",
       "    </tr>\n",
       "    <tr>\n",
       "      <th>993431</th>\n",
       "      <td>47084</td>\n",
       "      <td>Git</td>\n",
       "    </tr>\n",
       "    <tr>\n",
       "      <th>993432</th>\n",
       "      <td>47084</td>\n",
       "      <td>Visual Studio</td>\n",
       "    </tr>\n",
       "    <tr>\n",
       "      <th>993433</th>\n",
       "      <td>47084</td>\n",
       "      <td>C++</td>\n",
       "    </tr>\n",
       "    <tr>\n",
       "      <th>993434</th>\n",
       "      <td>47084</td>\n",
       "      <td>ASP.NET</td>\n",
       "    </tr>\n",
       "    <tr>\n",
       "      <th>993435</th>\n",
       "      <td>47084</td>\n",
       "      <td>Oracle</td>\n",
       "    </tr>\n",
       "    <tr>\n",
       "      <th>993436</th>\n",
       "      <td>47084</td>\n",
       "      <td>SharePoint</td>\n",
       "    </tr>\n",
       "    <tr>\n",
       "      <th>993437</th>\n",
       "      <td>47084</td>\n",
       "      <td>Objective-C</td>\n",
       "    </tr>\n",
       "    <tr>\n",
       "      <th>993438</th>\n",
       "      <td>47084</td>\n",
       "      <td>Subversion</td>\n",
       "    </tr>\n",
       "    <tr>\n",
       "      <th>993439</th>\n",
       "      <td>47084</td>\n",
       "      <td>ASP.NET MVC</td>\n",
       "    </tr>\n",
       "    <tr>\n",
       "      <th>993440</th>\n",
       "      <td>47084</td>\n",
       "      <td>Protocol Buffers</td>\n",
       "    </tr>\n",
       "    <tr>\n",
       "      <th>993441</th>\n",
       "      <td>47084</td>\n",
       "      <td>MVC</td>\n",
       "    </tr>\n",
       "    <tr>\n",
       "      <th>993442</th>\n",
       "      <td>47084</td>\n",
       "      <td>Zend Framework</td>\n",
       "    </tr>\n",
       "    <tr>\n",
       "      <th>993443</th>\n",
       "      <td>47084</td>\n",
       "      <td>OOP and Procedural Programming</td>\n",
       "    </tr>\n",
       "    <tr>\n",
       "      <th>993444</th>\n",
       "      <td>47084</td>\n",
       "      <td>Semantic Search</td>\n",
       "    </tr>\n",
       "    <tr>\n",
       "      <th>993445</th>\n",
       "      <td>47084</td>\n",
       "      <td>Transmission Control Protocol (TCP)</td>\n",
       "    </tr>\n",
       "    <tr>\n",
       "      <th>993446</th>\n",
       "      <td>47084</td>\n",
       "      <td>Analytics Skill</td>\n",
       "    </tr>\n",
       "    <tr>\n",
       "      <th>993447</th>\n",
       "      <td>47084</td>\n",
       "      <td>Distributed Databases</td>\n",
       "    </tr>\n",
       "  </tbody>\n",
       "</table>\n",
       "</div>"
      ],
      "text/plain": [
       "        user_id                                skill\n",
       "993414    47084            Go (Programming Language)\n",
       "993415    47084                        Microservices\n",
       "993416    47084                 Software Engineering\n",
       "993417    47084                                  OOP\n",
       "993418    47084                         Web Services\n",
       "993419    47084               Object Oriented Design\n",
       "993420    47084                  Mobile Applications\n",
       "993421    47084                 Software Development\n",
       "993422    47084                      Troubleshooting\n",
       "993423    47084                        ElasticSearch\n",
       "993424    47084                              Laravel\n",
       "993425    47084                                  PHP\n",
       "993426    47084                                MySQL\n",
       "993427    47084                               jQuery\n",
       "993428    47084                              Eclipse\n",
       "993429    47084                                   C#\n",
       "993430    47084                                  XML\n",
       "993431    47084                                  Git\n",
       "993432    47084                        Visual Studio\n",
       "993433    47084                                  C++\n",
       "993434    47084                              ASP.NET\n",
       "993435    47084                               Oracle\n",
       "993436    47084                           SharePoint\n",
       "993437    47084                          Objective-C\n",
       "993438    47084                           Subversion\n",
       "993439    47084                          ASP.NET MVC\n",
       "993440    47084                     Protocol Buffers\n",
       "993441    47084                                  MVC\n",
       "993442    47084                       Zend Framework\n",
       "993443    47084       OOP and Procedural Programming\n",
       "993444    47084                      Semantic Search\n",
       "993445    47084  Transmission Control Protocol (TCP)\n",
       "993446    47084                      Analytics Skill\n",
       "993447    47084                Distributed Databases"
      ]
     },
     "execution_count": 103,
     "metadata": {},
     "output_type": "execute_result"
    },
    {
     "data": {
      "application/javascript": "\n            setTimeout(function() {\n                var nbb_cell_id = 103;\n                var nbb_unformatted_code = \"skills.loc[skills['user_id'] == 47084]\";\n                var nbb_formatted_code = \"skills.loc[skills[\\\"user_id\\\"] == 47084]\";\n                var nbb_cells = Jupyter.notebook.get_cells();\n                for (var i = 0; i < nbb_cells.length; ++i) {\n                    if (nbb_cells[i].input_prompt_number == nbb_cell_id) {\n                        if (nbb_cells[i].get_text() == nbb_unformatted_code) {\n                             nbb_cells[i].set_text(nbb_formatted_code);\n                        }\n                        break;\n                    }\n                }\n            }, 500);\n            ",
      "text/plain": [
       "<IPython.core.display.Javascript object>"
      ]
     },
     "metadata": {},
     "output_type": "display_data"
    }
   ],
   "source": [
    "skills.loc[skills['user_id'] == 47084]"
   ]
  },
  {
   "cell_type": "markdown",
   "metadata": {},
   "source": [
    "### Work Experiences"
   ]
  },
  {
   "cell_type": "code",
   "execution_count": 111,
   "metadata": {},
   "outputs": [
    {
     "data": {
      "application/javascript": "\n            setTimeout(function() {\n                var nbb_cell_id = 111;\n                var nbb_unformatted_code = \"work_experiences.loc[work_experiences['location'] == 'Visual Studio Asp.Net Developer', 'location'] = np.nan\";\n                var nbb_formatted_code = \"work_experiences.loc[\\n    work_experiences[\\\"location\\\"] == \\\"Visual Studio Asp.Net Developer\\\", \\\"location\\\"\\n] = np.nan\";\n                var nbb_cells = Jupyter.notebook.get_cells();\n                for (var i = 0; i < nbb_cells.length; ++i) {\n                    if (nbb_cells[i].input_prompt_number == nbb_cell_id) {\n                        if (nbb_cells[i].get_text() == nbb_unformatted_code) {\n                             nbb_cells[i].set_text(nbb_formatted_code);\n                        }\n                        break;\n                    }\n                }\n            }, 500);\n            ",
      "text/plain": [
       "<IPython.core.display.Javascript object>"
      ]
     },
     "metadata": {},
     "output_type": "display_data"
    }
   ],
   "source": [
    "work_experiences.loc[work_experiences['location'] == 'Visual Studio Asp.Net Developer', 'location'] = np.nan"
   ]
  },
  {
   "cell_type": "code",
   "execution_count": 112,
   "metadata": {},
   "outputs": [
    {
     "data": {
      "text/html": [
       "<div>\n",
       "<style scoped>\n",
       "    .dataframe tbody tr th:only-of-type {\n",
       "        vertical-align: middle;\n",
       "    }\n",
       "\n",
       "    .dataframe tbody tr th {\n",
       "        vertical-align: top;\n",
       "    }\n",
       "\n",
       "    .dataframe thead th {\n",
       "        text-align: right;\n",
       "    }\n",
       "</style>\n",
       "<table border=\"1\" class=\"dataframe\">\n",
       "  <thead>\n",
       "    <tr style=\"text-align: right;\">\n",
       "      <th></th>\n",
       "      <th>user_id</th>\n",
       "      <th>company_id</th>\n",
       "      <th>location</th>\n",
       "      <th>start_year_month</th>\n",
       "      <th>start_date</th>\n",
       "      <th>start_year</th>\n",
       "      <th>start_month</th>\n",
       "    </tr>\n",
       "  </thead>\n",
       "  <tbody>\n",
       "    <tr>\n",
       "      <th>147720</th>\n",
       "      <td>0</td>\n",
       "      <td>0</td>\n",
       "      <td>Serbest Çalışmalar</td>\n",
       "      <td>200509</td>\n",
       "      <td>2005-09-01</td>\n",
       "      <td>2005</td>\n",
       "      <td>9</td>\n",
       "    </tr>\n",
       "    <tr>\n",
       "      <th>174454</th>\n",
       "      <td>0</td>\n",
       "      <td>0</td>\n",
       "      <td>NaN</td>\n",
       "      <td>200509</td>\n",
       "      <td>2005-09-01</td>\n",
       "      <td>2005</td>\n",
       "      <td>9</td>\n",
       "    </tr>\n",
       "    <tr>\n",
       "      <th>180157</th>\n",
       "      <td>2</td>\n",
       "      <td>10</td>\n",
       "      <td>Mersin, Turkey</td>\n",
       "      <td>201806</td>\n",
       "      <td>2018-06-01</td>\n",
       "      <td>2018</td>\n",
       "      <td>6</td>\n",
       "    </tr>\n",
       "    <tr>\n",
       "      <th>19762</th>\n",
       "      <td>2</td>\n",
       "      <td>7</td>\n",
       "      <td>Elazig, Turkey</td>\n",
       "      <td>201706</td>\n",
       "      <td>2017-06-01</td>\n",
       "      <td>2017</td>\n",
       "      <td>6</td>\n",
       "    </tr>\n",
       "    <tr>\n",
       "      <th>760</th>\n",
       "      <td>2</td>\n",
       "      <td>9</td>\n",
       "      <td>Elazig, Turkey</td>\n",
       "      <td>201612</td>\n",
       "      <td>2016-12-01</td>\n",
       "      <td>2016</td>\n",
       "      <td>12</td>\n",
       "    </tr>\n",
       "    <tr>\n",
       "      <th>30839</th>\n",
       "      <td>5</td>\n",
       "      <td>15</td>\n",
       "      <td>İstanbul</td>\n",
       "      <td>201706</td>\n",
       "      <td>2017-06-01</td>\n",
       "      <td>2017</td>\n",
       "      <td>6</td>\n",
       "    </tr>\n",
       "    <tr>\n",
       "      <th>161935</th>\n",
       "      <td>7</td>\n",
       "      <td>21</td>\n",
       "      <td>Istanbul, Turkey</td>\n",
       "      <td>201607</td>\n",
       "      <td>2016-07-01</td>\n",
       "      <td>2016</td>\n",
       "      <td>7</td>\n",
       "    </tr>\n",
       "    <tr>\n",
       "      <th>54420</th>\n",
       "      <td>7</td>\n",
       "      <td>21</td>\n",
       "      <td>Macedonia</td>\n",
       "      <td>201708</td>\n",
       "      <td>2017-08-01</td>\n",
       "      <td>2017</td>\n",
       "      <td>8</td>\n",
       "    </tr>\n",
       "    <tr>\n",
       "      <th>17649</th>\n",
       "      <td>7</td>\n",
       "      <td>20</td>\n",
       "      <td>Elazığ</td>\n",
       "      <td>201812</td>\n",
       "      <td>2018-12-01</td>\n",
       "      <td>2018</td>\n",
       "      <td>12</td>\n",
       "    </tr>\n",
       "    <tr>\n",
       "      <th>171458</th>\n",
       "      <td>7</td>\n",
       "      <td>21</td>\n",
       "      <td>Istanbul, Turkey</td>\n",
       "      <td>201707</td>\n",
       "      <td>2017-07-01</td>\n",
       "      <td>2017</td>\n",
       "      <td>7</td>\n",
       "    </tr>\n",
       "  </tbody>\n",
       "</table>\n",
       "</div>"
      ],
      "text/plain": [
       "        user_id  company_id            location  start_year_month start_date  \\\n",
       "147720        0           0  Serbest Çalışmalar            200509 2005-09-01   \n",
       "174454        0           0                 NaN            200509 2005-09-01   \n",
       "180157        2          10      Mersin, Turkey            201806 2018-06-01   \n",
       "19762         2           7      Elazig, Turkey            201706 2017-06-01   \n",
       "760           2           9      Elazig, Turkey            201612 2016-12-01   \n",
       "30839         5          15            İstanbul            201706 2017-06-01   \n",
       "161935        7          21    Istanbul, Turkey            201607 2016-07-01   \n",
       "54420         7          21           Macedonia            201708 2017-08-01   \n",
       "17649         7          20              Elazığ            201812 2018-12-01   \n",
       "171458        7          21    Istanbul, Turkey            201707 2017-07-01   \n",
       "\n",
       "        start_year  start_month  \n",
       "147720        2005            9  \n",
       "174454        2005            9  \n",
       "180157        2018            6  \n",
       "19762         2017            6  \n",
       "760           2016           12  \n",
       "30839         2017            6  \n",
       "161935        2016            7  \n",
       "54420         2017            8  \n",
       "17649         2018           12  \n",
       "171458        2017            7  "
      ]
     },
     "execution_count": 112,
     "metadata": {},
     "output_type": "execute_result"
    },
    {
     "data": {
      "application/javascript": "\n            setTimeout(function() {\n                var nbb_cell_id = 112;\n                var nbb_unformatted_code = \"work_experiences.sort_values('user_id')[:10]\";\n                var nbb_formatted_code = \"work_experiences.sort_values(\\\"user_id\\\")[:10]\";\n                var nbb_cells = Jupyter.notebook.get_cells();\n                for (var i = 0; i < nbb_cells.length; ++i) {\n                    if (nbb_cells[i].input_prompt_number == nbb_cell_id) {\n                        if (nbb_cells[i].get_text() == nbb_unformatted_code) {\n                             nbb_cells[i].set_text(nbb_formatted_code);\n                        }\n                        break;\n                    }\n                }\n            }, 500);\n            ",
      "text/plain": [
       "<IPython.core.display.Javascript object>"
      ]
     },
     "metadata": {},
     "output_type": "display_data"
    }
   ],
   "source": [
    "work_experiences.sort_values('user_id')[:10]"
   ]
  },
  {
   "cell_type": "code",
   "execution_count": 105,
   "metadata": {},
   "outputs": [
    {
     "data": {
      "text/html": [
       "<div>\n",
       "<style scoped>\n",
       "    .dataframe tbody tr th:only-of-type {\n",
       "        vertical-align: middle;\n",
       "    }\n",
       "\n",
       "    .dataframe tbody tr th {\n",
       "        vertical-align: top;\n",
       "    }\n",
       "\n",
       "    .dataframe thead th {\n",
       "        text-align: right;\n",
       "    }\n",
       "</style>\n",
       "<table border=\"1\" class=\"dataframe\">\n",
       "  <thead>\n",
       "    <tr style=\"text-align: right;\">\n",
       "      <th></th>\n",
       "      <th>user_id</th>\n",
       "      <th>company_id</th>\n",
       "      <th>location</th>\n",
       "      <th>start_year_month</th>\n",
       "      <th>start_date</th>\n",
       "      <th>start_year</th>\n",
       "      <th>start_month</th>\n",
       "    </tr>\n",
       "  </thead>\n",
       "  <tbody>\n",
       "    <tr>\n",
       "      <th>0</th>\n",
       "      <td>53442</td>\n",
       "      <td>2651</td>\n",
       "      <td>Istanbul, Turkey</td>\n",
       "      <td>201509</td>\n",
       "      <td>2015-09-01</td>\n",
       "      <td>2015</td>\n",
       "      <td>9</td>\n",
       "    </tr>\n",
       "    <tr>\n",
       "      <th>1</th>\n",
       "      <td>34558</td>\n",
       "      <td>815</td>\n",
       "      <td>Istanbul, Turkey</td>\n",
       "      <td>201210</td>\n",
       "      <td>2012-10-01</td>\n",
       "      <td>2012</td>\n",
       "      <td>10</td>\n",
       "    </tr>\n",
       "    <tr>\n",
       "      <th>2</th>\n",
       "      <td>63761</td>\n",
       "      <td>26354</td>\n",
       "      <td>NaN</td>\n",
       "      <td>200010</td>\n",
       "      <td>2000-10-01</td>\n",
       "      <td>2000</td>\n",
       "      <td>10</td>\n",
       "    </tr>\n",
       "    <tr>\n",
       "      <th>3</th>\n",
       "      <td>10738</td>\n",
       "      <td>89</td>\n",
       "      <td>NaN</td>\n",
       "      <td>201610</td>\n",
       "      <td>2016-10-01</td>\n",
       "      <td>2016</td>\n",
       "      <td>10</td>\n",
       "    </tr>\n",
       "    <tr>\n",
       "      <th>4</th>\n",
       "      <td>8711</td>\n",
       "      <td>3113</td>\n",
       "      <td>Istanbul, Turkey</td>\n",
       "      <td>201801</td>\n",
       "      <td>2018-01-01</td>\n",
       "      <td>2018</td>\n",
       "      <td>1</td>\n",
       "    </tr>\n",
       "  </tbody>\n",
       "</table>\n",
       "</div>"
      ],
      "text/plain": [
       "   user_id  company_id          location  start_year_month start_date  \\\n",
       "0    53442        2651  Istanbul, Turkey            201509 2015-09-01   \n",
       "1    34558         815  Istanbul, Turkey            201210 2012-10-01   \n",
       "2    63761       26354               NaN            200010 2000-10-01   \n",
       "3    10738          89               NaN            201610 2016-10-01   \n",
       "4     8711        3113  Istanbul, Turkey            201801 2018-01-01   \n",
       "\n",
       "   start_year  start_month  \n",
       "0        2015            9  \n",
       "1        2012           10  \n",
       "2        2000           10  \n",
       "3        2016           10  \n",
       "4        2018            1  "
      ]
     },
     "execution_count": 105,
     "metadata": {},
     "output_type": "execute_result"
    },
    {
     "data": {
      "application/javascript": "\n            setTimeout(function() {\n                var nbb_cell_id = 105;\n                var nbb_unformatted_code = \"work_experiences['start_date'] = pd.to_datetime(work_experiences['start_year_month'].apply(lambda x: '-'.join([str(x)[:4], str(x)[4:]])))\\n\\nwork_experiences['start_year'] = work_experiences['start_date'].dt.year\\nwork_experiences['start_month'] = work_experiences['start_date'].dt.month\\n\\nwork_experiences.head()\";\n                var nbb_formatted_code = \"work_experiences[\\\"start_date\\\"] = pd.to_datetime(\\n    work_experiences[\\\"start_year_month\\\"].apply(\\n        lambda x: \\\"-\\\".join([str(x)[:4], str(x)[4:]])\\n    )\\n)\\n\\nwork_experiences[\\\"start_year\\\"] = work_experiences[\\\"start_date\\\"].dt.year\\nwork_experiences[\\\"start_month\\\"] = work_experiences[\\\"start_date\\\"].dt.month\\n\\nwork_experiences.head()\";\n                var nbb_cells = Jupyter.notebook.get_cells();\n                for (var i = 0; i < nbb_cells.length; ++i) {\n                    if (nbb_cells[i].input_prompt_number == nbb_cell_id) {\n                        if (nbb_cells[i].get_text() == nbb_unformatted_code) {\n                             nbb_cells[i].set_text(nbb_formatted_code);\n                        }\n                        break;\n                    }\n                }\n            }, 500);\n            ",
      "text/plain": [
       "<IPython.core.display.Javascript object>"
      ]
     },
     "metadata": {},
     "output_type": "display_data"
    }
   ],
   "source": [
    "work_experiences['start_date'] = pd.to_datetime(work_experiences['start_year_month'].apply(lambda x: '-'.join([str(x)[:4], str(x)[4:]])))\n",
    "\n",
    "work_experiences['start_year'] = work_experiences['start_date'].dt.year\n",
    "work_experiences['start_month'] = work_experiences['start_date'].dt.month\n",
    "\n",
    "work_experiences.head()"
   ]
  },
  {
   "cell_type": "code",
   "execution_count": 114,
   "metadata": {},
   "outputs": [
    {
     "data": {
      "text/plain": [
       "Istanbul, Turkey     44774\n",
       "Ankara, Turkey       14200\n",
       "İstanbul, Türkiye    13174\n",
       "Ankara, Türkiye       4556\n",
       "Izmir, Turkey         4284\n",
       "Kocaeli, Turkey       2418\n",
       "İstanbul              1896\n",
       "İzmir, Türkiye        1640\n",
       "Turkey                1562\n",
       "Ankara                1242\n",
       "Kocaeli, Türkiye      1124\n",
       "Bursa, Turkey         1012\n",
       "Eskisehir, Turkey      915\n",
       "Türkiye                868\n",
       "Sakarya, Turkey        805\n",
       "Manisa, Turkey         678\n",
       "Antalya, Turkey        663\n",
       "İzmir                  630\n",
       "Kayseri, Turkey        479\n",
       "Adana, Turkey          468\n",
       "Name: location, dtype: int64"
      ]
     },
     "execution_count": 114,
     "metadata": {},
     "output_type": "execute_result"
    },
    {
     "data": {
      "application/javascript": "\n            setTimeout(function() {\n                var nbb_cell_id = 114;\n                var nbb_unformatted_code = \"work_experiences['location'].value_counts()[:20]\";\n                var nbb_formatted_code = \"work_experiences[\\\"location\\\"].value_counts()[:20]\";\n                var nbb_cells = Jupyter.notebook.get_cells();\n                for (var i = 0; i < nbb_cells.length; ++i) {\n                    if (nbb_cells[i].input_prompt_number == nbb_cell_id) {\n                        if (nbb_cells[i].get_text() == nbb_unformatted_code) {\n                             nbb_cells[i].set_text(nbb_formatted_code);\n                        }\n                        break;\n                    }\n                }\n            }, 500);\n            ",
      "text/plain": [
       "<IPython.core.display.Javascript object>"
      ]
     },
     "metadata": {},
     "output_type": "display_data"
    }
   ],
   "source": [
    "work_experiences['location'].value_counts()[:20]"
   ]
  },
  {
   "cell_type": "markdown",
   "metadata": {},
   "source": [
    "### Languages"
   ]
  },
  {
   "cell_type": "code",
   "execution_count": 118,
   "metadata": {},
   "outputs": [
    {
     "data": {
      "text/html": [
       "<div>\n",
       "<style scoped>\n",
       "    .dataframe tbody tr th:only-of-type {\n",
       "        vertical-align: middle;\n",
       "    }\n",
       "\n",
       "    .dataframe tbody tr th {\n",
       "        vertical-align: top;\n",
       "    }\n",
       "\n",
       "    .dataframe thead th {\n",
       "        text-align: right;\n",
       "    }\n",
       "</style>\n",
       "<table border=\"1\" class=\"dataframe\">\n",
       "  <thead>\n",
       "    <tr style=\"text-align: right;\">\n",
       "      <th></th>\n",
       "      <th>user_id</th>\n",
       "      <th>language</th>\n",
       "      <th>proficiency</th>\n",
       "    </tr>\n",
       "  </thead>\n",
       "  <tbody>\n",
       "    <tr>\n",
       "      <th>0</th>\n",
       "      <td>8</td>\n",
       "      <td>İngilizce</td>\n",
       "      <td>full_professional</td>\n",
       "    </tr>\n",
       "    <tr>\n",
       "      <th>1</th>\n",
       "      <td>8</td>\n",
       "      <td>Türkçe</td>\n",
       "      <td>native_or_bilingual</td>\n",
       "    </tr>\n",
       "    <tr>\n",
       "      <th>2</th>\n",
       "      <td>8</td>\n",
       "      <td>Fransızca</td>\n",
       "      <td>elementary</td>\n",
       "    </tr>\n",
       "    <tr>\n",
       "      <th>3</th>\n",
       "      <td>10</td>\n",
       "      <td>ingilizce</td>\n",
       "      <td>NaN</td>\n",
       "    </tr>\n",
       "    <tr>\n",
       "      <th>4</th>\n",
       "      <td>11</td>\n",
       "      <td>Turkish</td>\n",
       "      <td>native_or_bilingual</td>\n",
       "    </tr>\n",
       "  </tbody>\n",
       "</table>\n",
       "</div>"
      ],
      "text/plain": [
       "   user_id   language          proficiency\n",
       "0        8  İngilizce    full_professional\n",
       "1        8     Türkçe  native_or_bilingual\n",
       "2        8  Fransızca           elementary\n",
       "3       10  ingilizce                  NaN\n",
       "4       11    Turkish  native_or_bilingual"
      ]
     },
     "execution_count": 118,
     "metadata": {},
     "output_type": "execute_result"
    },
    {
     "data": {
      "application/javascript": "\n            setTimeout(function() {\n                var nbb_cell_id = 118;\n                var nbb_unformatted_code = \"languages.head()\";\n                var nbb_formatted_code = \"languages.head()\";\n                var nbb_cells = Jupyter.notebook.get_cells();\n                for (var i = 0; i < nbb_cells.length; ++i) {\n                    if (nbb_cells[i].input_prompt_number == nbb_cell_id) {\n                        if (nbb_cells[i].get_text() == nbb_unformatted_code) {\n                             nbb_cells[i].set_text(nbb_formatted_code);\n                        }\n                        break;\n                    }\n                }\n            }, 500);\n            ",
      "text/plain": [
       "<IPython.core.display.Javascript object>"
      ]
     },
     "metadata": {},
     "output_type": "display_data"
    }
   ],
   "source": [
    "languages.head()"
   ]
  },
  {
   "cell_type": "code",
   "execution_count": 120,
   "metadata": {},
   "outputs": [
    {
     "data": {
      "text/plain": [
       "İngilizce                          20702\n",
       "English                            14863\n",
       "Türkçe                             14007\n",
       "Turkish                             8261\n",
       "Almanca                             3732\n",
       "                                   ...  \n",
       "İngilizce (Upper-Intermediate)         1\n",
       "Wollof                                 1\n",
       "Adıge dili                             1\n",
       "Circassian                             1\n",
       "Swiss German (Schweizerdeutsch)        1\n",
       "Name: language, Length: 513, dtype: int64"
      ]
     },
     "execution_count": 120,
     "metadata": {},
     "output_type": "execute_result"
    },
    {
     "data": {
      "application/javascript": "\n            setTimeout(function() {\n                var nbb_cell_id = 120;\n                var nbb_unformatted_code = \"languages['language'].value_counts()\";\n                var nbb_formatted_code = \"languages[\\\"language\\\"].value_counts()\";\n                var nbb_cells = Jupyter.notebook.get_cells();\n                for (var i = 0; i < nbb_cells.length; ++i) {\n                    if (nbb_cells[i].input_prompt_number == nbb_cell_id) {\n                        if (nbb_cells[i].get_text() == nbb_unformatted_code) {\n                             nbb_cells[i].set_text(nbb_formatted_code);\n                        }\n                        break;\n                    }\n                }\n            }, 500);\n            ",
      "text/plain": [
       "<IPython.core.display.Javascript object>"
      ]
     },
     "metadata": {},
     "output_type": "display_data"
    }
   ],
   "source": [
    "languages['language'].value_counts()"
   ]
  }
 ],
 "metadata": {
  "kernelspec": {
   "display_name": "CondaEnv",
   "language": "python",
   "name": "condaenv"
  },
  "language_info": {
   "codemirror_mode": {
    "name": "ipython",
    "version": 3
   },
   "file_extension": ".py",
   "mimetype": "text/x-python",
   "name": "python",
   "nbconvert_exporter": "python",
   "pygments_lexer": "ipython3",
   "version": "3.10.8"
  },
  "orig_nbformat": 4,
  "vscode": {
   "interpreter": {
    "hash": "31f2aee4e71d21fbe5cf8b01ff0e069b9275f58929596ceb00d14d90e3e16cd6"
   }
  }
 },
 "nbformat": 4,
 "nbformat_minor": 2
}

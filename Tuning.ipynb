{
 "cells": [
  {
   "cell_type": "code",
   "execution_count": 7,
   "metadata": {},
   "outputs": [],
   "source": [
    "import os\n",
    "import gc\n",
    "import optuna\n",
    "import numpy as np\n",
    "from utils import *\n",
    "import pandas as pd\n",
    "from xgboost import XGBClassifier\n",
    "from catboost import CatBoostClassifier\n",
    "from sklearn.model_selection import train_test_split, KFold\n",
    "from sklearn.metrics import accuracy_score, f1_score\n",
    "%run skills.ipynb\n",
    "%run languages.ipynb\n",
    "%run work_experiences.ipynb\n",
    "%run education.ipynb\n",
    "\n",
    "class config:\n",
    "    path = '../../../datasets/garanti-bbva-data-camp/'\n",
    "    sub_path = '../../../datasets/garanti-bbva-data-camp/submission.csv'\n",
    "    skills_path = '../../../datasets/garanti-bbva-data-camp/skills.csv'\n",
    "    languages_path = '../../../datasets/garanti-bbva-data-camp/languages.csv'\n",
    "    education_path = '../../../datasets/garanti-bbva-data-camp/education.csv'\n",
    "    exp_path = '../../../datasets/garanti-bbva-data-camp/work_experiences.csv'\n",
    "    seed = 42\n",
    "    n_folds = 6"
   ]
  },
  {
   "cell_type": "code",
   "execution_count": 8,
   "metadata": {},
   "outputs": [
    {
     "name": "stdout",
     "output_type": "stream",
     "text": [
      "train_df shape: (53019, 4)\n",
      "test_df shape: (13255, 3)\n"
     ]
    },
    {
     "data": {
      "text/html": [
       "<div>\n",
       "<style scoped>\n",
       "    .dataframe tbody tr th:only-of-type {\n",
       "        vertical-align: middle;\n",
       "    }\n",
       "\n",
       "    .dataframe tbody tr th {\n",
       "        vertical-align: top;\n",
       "    }\n",
       "\n",
       "    .dataframe thead th {\n",
       "        text-align: right;\n",
       "    }\n",
       "</style>\n",
       "<table border=\"1\" class=\"dataframe\">\n",
       "  <thead>\n",
       "    <tr style=\"text-align: right;\">\n",
       "      <th></th>\n",
       "      <th>user_id</th>\n",
       "      <th>industry</th>\n",
       "      <th>location</th>\n",
       "      <th>moved_after_2019</th>\n",
       "    </tr>\n",
       "  </thead>\n",
       "  <tbody>\n",
       "    <tr>\n",
       "      <th>0</th>\n",
       "      <td>1301</td>\n",
       "      <td>Information Technology and Services</td>\n",
       "      <td>Istanbul, Istanbul, Turkey</td>\n",
       "      <td>1.0</td>\n",
       "    </tr>\n",
       "    <tr>\n",
       "      <th>1</th>\n",
       "      <td>6950</td>\n",
       "      <td>Internet</td>\n",
       "      <td>Istanbul, Istanbul, Turkey</td>\n",
       "      <td>0.0</td>\n",
       "    </tr>\n",
       "    <tr>\n",
       "      <th>2</th>\n",
       "      <td>4880</td>\n",
       "      <td>Online Media</td>\n",
       "      <td>Turkey</td>\n",
       "      <td>0.0</td>\n",
       "    </tr>\n",
       "    <tr>\n",
       "      <th>3</th>\n",
       "      <td>26046</td>\n",
       "      <td>Telecommunications</td>\n",
       "      <td>Istanbul, Istanbul, Turkey</td>\n",
       "      <td>0.0</td>\n",
       "    </tr>\n",
       "    <tr>\n",
       "      <th>4</th>\n",
       "      <td>11005</td>\n",
       "      <td>Banking</td>\n",
       "      <td>Istanbul, Turkey</td>\n",
       "      <td>0.0</td>\n",
       "    </tr>\n",
       "  </tbody>\n",
       "</table>\n",
       "</div>"
      ],
      "text/plain": [
       "   user_id                             industry                    location  \\\n",
       "0     1301  Information Technology and Services  Istanbul, Istanbul, Turkey   \n",
       "1     6950                             Internet  Istanbul, Istanbul, Turkey   \n",
       "2     4880                         Online Media                      Turkey   \n",
       "3    26046                   Telecommunications  Istanbul, Istanbul, Turkey   \n",
       "4    11005                              Banking            Istanbul, Turkey   \n",
       "\n",
       "   moved_after_2019  \n",
       "0               1.0  \n",
       "1               0.0  \n",
       "2               0.0  \n",
       "3               0.0  \n",
       "4               0.0  "
      ]
     },
     "execution_count": 8,
     "metadata": {},
     "output_type": "execute_result"
    }
   ],
   "source": [
    "train_df = pd.read_csv(os.path.join(config.path, 'train_users.csv'))\n",
    "test_df = pd.read_csv(os.path.join(config.path, 'test_users.csv'))\n",
    "sub = pd.read_csv(config.sub_path)\n",
    "\n",
    "print(f'train_df shape: {train_df.shape}')\n",
    "print(f'test_df shape: {test_df.shape}')\n",
    "df = train_df.append(test_df).reset_index(drop = True)\n",
    "df.head()"
   ]
  },
  {
   "cell_type": "code",
   "execution_count": 10,
   "metadata": {},
   "outputs": [],
   "source": [
    "def fix_location(dataframe: pd.DataFrame) -> pd.DataFrame:\n",
    "\n",
    "    df_ = dataframe.copy()\n",
    "    df_.loc[df_['location'].astype(str).str.contains('Kahraman Maras'), 'location'] = 'Kahramanmaras, Turkey'\n",
    "    df_.loc[df_['location'].astype(str).str.contains('Şanliurfa'), 'location'] = 'Sanliurfa, Turkey'\n",
    "    df_.loc[df_['location'].astype(str).str.contains('İçel'), 'location'] = 'Mersin, Turkey'\n",
    "    df_.loc[df_['location'].astype(str).str.contains('Afyon'), 'location'] = 'Afyonkarahisar, Turkey'\n",
    "    df_['location'] = df_['location'].apply(lambda x: str(x).replace('Türkiye', 'Turkey'))\n",
    "    df_['location'] = df_['location'].apply(lambda x: x.upper().strip())\n",
    "    df_['location'] = df_['location'].apply(lambda x: translation(str(x)))\n",
    "    tr_cities = load_tr_cities()\n",
    "    for city in tr_cities:\n",
    "        df_['location'] = df_['location'].apply(lambda x: city if city in x else x)\n",
    "        df_['based_on_tr'] = df_['location'].apply(lambda x: 1 if x in tr_cities or x == 'TURKEY' else 0)\n",
    "\n",
    "    return df_\n",
    "\n",
    "df = fix_location(df)"
   ]
  },
  {
   "cell_type": "code",
   "execution_count": 4,
   "metadata": {},
   "outputs": [
    {
     "name": "stdout",
     "output_type": "stream",
     "text": [
      "Frequency of top 20 skills before preprocess: 294433\n",
      "Frequency of top 20 skills after preprocess: 318624\n"
     ]
    },
    {
     "name": "stderr",
     "output_type": "stream",
     "text": [
      "100%|██████████| 30/30 [00:07<00:00,  4.23it/s]\n",
      "100%|██████████| 12/12 [00:01<00:00,  7.81it/s]\n",
      "100%|██████████| 12/12 [00:02<00:00,  4.29it/s]\n",
      "100%|██████████| 10/10 [00:02<00:00,  4.37it/s]\n"
     ]
    },
    {
     "name": "stdout",
     "output_type": "stream",
     "text": [
      "(66274, 78)\n"
     ]
    },
    {
     "data": {
      "text/html": [
       "<div>\n",
       "<style scoped>\n",
       "    .dataframe tbody tr th:only-of-type {\n",
       "        vertical-align: middle;\n",
       "    }\n",
       "\n",
       "    .dataframe tbody tr th {\n",
       "        vertical-align: top;\n",
       "    }\n",
       "\n",
       "    .dataframe thead th {\n",
       "        text-align: right;\n",
       "    }\n",
       "</style>\n",
       "<table border=\"1\" class=\"dataframe\">\n",
       "  <thead>\n",
       "    <tr style=\"text-align: right;\">\n",
       "      <th></th>\n",
       "      <th>user_id</th>\n",
       "      <th>industry</th>\n",
       "      <th>location</th>\n",
       "      <th>moved_after_2019</th>\n",
       "      <th>based_on_tr</th>\n",
       "      <th>skill_Java</th>\n",
       "      <th>skill_JavaScript</th>\n",
       "      <th>skill_SQL</th>\n",
       "      <th>skill_C#</th>\n",
       "      <th>skill_Software Development</th>\n",
       "      <th>...</th>\n",
       "      <th>degree_Master of Science</th>\n",
       "      <th>degree_Associate's degree</th>\n",
       "      <th>degree_Bachelor of Engineering</th>\n",
       "      <th>degree_Doctor of Philosophy</th>\n",
       "      <th>degree_Master of Business Administration</th>\n",
       "      <th>degree_Mühendislik Fakültesi Mezunu</th>\n",
       "      <th>total_experience</th>\n",
       "      <th>last_experience</th>\n",
       "      <th>unique_company</th>\n",
       "      <th>avg_days_to_quit</th>\n",
       "    </tr>\n",
       "  </thead>\n",
       "  <tbody>\n",
       "    <tr>\n",
       "      <th>0</th>\n",
       "      <td>1301</td>\n",
       "      <td>Information Technology and Services</td>\n",
       "      <td>ISTANBUL</td>\n",
       "      <td>1.0</td>\n",
       "      <td>1</td>\n",
       "      <td>1.0</td>\n",
       "      <td>0.0</td>\n",
       "      <td>0.0</td>\n",
       "      <td>0.0</td>\n",
       "      <td>1.0</td>\n",
       "      <td>...</td>\n",
       "      <td>0.0</td>\n",
       "      <td>1.0</td>\n",
       "      <td>0.0</td>\n",
       "      <td>0.0</td>\n",
       "      <td>0.0</td>\n",
       "      <td>0.0</td>\n",
       "      <td>1341.0</td>\n",
       "      <td>306.0</td>\n",
       "      <td>3.0</td>\n",
       "      <td>447.000000</td>\n",
       "    </tr>\n",
       "    <tr>\n",
       "      <th>1</th>\n",
       "      <td>6950</td>\n",
       "      <td>Internet</td>\n",
       "      <td>ISTANBUL</td>\n",
       "      <td>0.0</td>\n",
       "      <td>1</td>\n",
       "      <td>1.0</td>\n",
       "      <td>1.0</td>\n",
       "      <td>1.0</td>\n",
       "      <td>1.0</td>\n",
       "      <td>1.0</td>\n",
       "      <td>...</td>\n",
       "      <td>0.0</td>\n",
       "      <td>0.0</td>\n",
       "      <td>0.0</td>\n",
       "      <td>0.0</td>\n",
       "      <td>0.0</td>\n",
       "      <td>0.0</td>\n",
       "      <td>2101.0</td>\n",
       "      <td>699.0</td>\n",
       "      <td>4.0</td>\n",
       "      <td>525.250000</td>\n",
       "    </tr>\n",
       "    <tr>\n",
       "      <th>2</th>\n",
       "      <td>4880</td>\n",
       "      <td>Online Media</td>\n",
       "      <td>TURKEY</td>\n",
       "      <td>0.0</td>\n",
       "      <td>1</td>\n",
       "      <td>0.0</td>\n",
       "      <td>0.0</td>\n",
       "      <td>1.0</td>\n",
       "      <td>1.0</td>\n",
       "      <td>0.0</td>\n",
       "      <td>...</td>\n",
       "      <td>0.0</td>\n",
       "      <td>0.0</td>\n",
       "      <td>0.0</td>\n",
       "      <td>0.0</td>\n",
       "      <td>0.0</td>\n",
       "      <td>0.0</td>\n",
       "      <td>1826.0</td>\n",
       "      <td>610.0</td>\n",
       "      <td>4.0</td>\n",
       "      <td>456.500000</td>\n",
       "    </tr>\n",
       "    <tr>\n",
       "      <th>3</th>\n",
       "      <td>26046</td>\n",
       "      <td>Telecommunications</td>\n",
       "      <td>ISTANBUL</td>\n",
       "      <td>0.0</td>\n",
       "      <td>1</td>\n",
       "      <td>0.0</td>\n",
       "      <td>0.0</td>\n",
       "      <td>0.0</td>\n",
       "      <td>0.0</td>\n",
       "      <td>0.0</td>\n",
       "      <td>...</td>\n",
       "      <td>0.0</td>\n",
       "      <td>0.0</td>\n",
       "      <td>0.0</td>\n",
       "      <td>0.0</td>\n",
       "      <td>0.0</td>\n",
       "      <td>0.0</td>\n",
       "      <td>3409.0</td>\n",
       "      <td>1553.0</td>\n",
       "      <td>1.0</td>\n",
       "      <td>3409.000000</td>\n",
       "    </tr>\n",
       "    <tr>\n",
       "      <th>4</th>\n",
       "      <td>11005</td>\n",
       "      <td>Banking</td>\n",
       "      <td>ISTANBUL</td>\n",
       "      <td>0.0</td>\n",
       "      <td>1</td>\n",
       "      <td>0.0</td>\n",
       "      <td>0.0</td>\n",
       "      <td>0.0</td>\n",
       "      <td>1.0</td>\n",
       "      <td>0.0</td>\n",
       "      <td>...</td>\n",
       "      <td>0.0</td>\n",
       "      <td>0.0</td>\n",
       "      <td>0.0</td>\n",
       "      <td>0.0</td>\n",
       "      <td>0.0</td>\n",
       "      <td>0.0</td>\n",
       "      <td>3409.0</td>\n",
       "      <td>640.0</td>\n",
       "      <td>3.0</td>\n",
       "      <td>1136.333333</td>\n",
       "    </tr>\n",
       "  </tbody>\n",
       "</table>\n",
       "<p>5 rows × 78 columns</p>\n",
       "</div>"
      ],
      "text/plain": [
       "  user_id                             industry  location  moved_after_2019  \\\n",
       "0    1301  Information Technology and Services  ISTANBUL               1.0   \n",
       "1    6950                             Internet  ISTANBUL               0.0   \n",
       "2    4880                         Online Media    TURKEY               0.0   \n",
       "3   26046                   Telecommunications  ISTANBUL               0.0   \n",
       "4   11005                              Banking  ISTANBUL               0.0   \n",
       "\n",
       "   based_on_tr  skill_Java  skill_JavaScript  skill_SQL  skill_C#  \\\n",
       "0            1         1.0               0.0        0.0       0.0   \n",
       "1            1         1.0               1.0        1.0       1.0   \n",
       "2            1         0.0               0.0        1.0       1.0   \n",
       "3            1         0.0               0.0        0.0       0.0   \n",
       "4            1         0.0               0.0        0.0       1.0   \n",
       "\n",
       "   skill_Software Development  ...  degree_Master of Science  \\\n",
       "0                         1.0  ...                       0.0   \n",
       "1                         1.0  ...                       0.0   \n",
       "2                         0.0  ...                       0.0   \n",
       "3                         0.0  ...                       0.0   \n",
       "4                         0.0  ...                       0.0   \n",
       "\n",
       "   degree_Associate's degree  degree_Bachelor of Engineering  \\\n",
       "0                        1.0                             0.0   \n",
       "1                        0.0                             0.0   \n",
       "2                        0.0                             0.0   \n",
       "3                        0.0                             0.0   \n",
       "4                        0.0                             0.0   \n",
       "\n",
       "   degree_Doctor of Philosophy  degree_Master of Business Administration  \\\n",
       "0                          0.0                                       0.0   \n",
       "1                          0.0                                       0.0   \n",
       "2                          0.0                                       0.0   \n",
       "3                          0.0                                       0.0   \n",
       "4                          0.0                                       0.0   \n",
       "\n",
       "   degree_Mühendislik Fakültesi Mezunu  total_experience  last_experience  \\\n",
       "0                                  0.0            1341.0            306.0   \n",
       "1                                  0.0            2101.0            699.0   \n",
       "2                                  0.0            1826.0            610.0   \n",
       "3                                  0.0            3409.0           1553.0   \n",
       "4                                  0.0            3409.0            640.0   \n",
       "\n",
       "   unique_company  avg_days_to_quit  \n",
       "0             3.0        447.000000  \n",
       "1             4.0        525.250000  \n",
       "2             4.0        456.500000  \n",
       "3             1.0       3409.000000  \n",
       "4             3.0       1136.333333  \n",
       "\n",
       "[5 rows x 78 columns]"
      ]
     },
     "execution_count": 4,
     "metadata": {},
     "output_type": "execute_result"
    }
   ],
   "source": [
    "skills_df = load_skills(config.skills_path, 30)\n",
    "lang_df = load_languages(config.languages_path)\n",
    "edu_df = load_education(config.education_path, 12)\n",
    "exp_df = load_work_experiences(config.exp_path)\n",
    "\n",
    "df = df.merge(skills_df, on = ['user_id'], how = 'left')\n",
    "df = df.merge(lang_df, on = ['user_id'], how = 'left')\n",
    "df = df.merge(edu_df, on = ['user_id'], how = 'left')\n",
    "df = df.merge(exp_df, on = ['user_id'], how = 'left')\n",
    "\n",
    "print(df.shape)\n",
    "df.head()"
   ]
  },
  {
   "cell_type": "code",
   "execution_count": 5,
   "metadata": {},
   "outputs": [
    {
     "name": "stdout",
     "output_type": "stream",
     "text": [
      "train_set: (53019, 77)\n",
      "test_set: (13255, 77)\n"
     ]
    }
   ],
   "source": [
    "target = 'moved_after_2019'\n",
    "cat_features = ['industry', 'location']\n",
    "drop_features = ['user_id']\n",
    "\n",
    "for caterogical_col in cat_features:\n",
    "    df[caterogical_col] = df[caterogical_col].astype(str).astype(\"category\")\n",
    "\n",
    "train_set = df.loc[df[target].notnull()].drop(columns=drop_features, axis = 1)\n",
    "test_set = df.loc[df[target].isnull()].drop(columns=drop_features, axis = 1)\n",
    "\n",
    "print(f'train_set: {train_set.shape}')\n",
    "print(f'test_set: {test_set.shape}')"
   ]
  },
  {
   "cell_type": "code",
   "execution_count": 11,
   "metadata": {},
   "outputs": [
    {
     "name": "stderr",
     "output_type": "stream",
     "text": [
      "\u001b[32m[I 2023-02-07 10:27:53,659]\u001b[0m A new study created in memory with name: no-name-a21c3264-b7ad-4c9b-aabd-dd4d54e81901\u001b[0m\n"
     ]
    },
    {
     "name": "stdout",
     "output_type": "stream",
     "text": [
      "Frequency of top 20 skills before preprocess: 294433\n",
      "Frequency of top 20 skills after preprocess: 318624\n"
     ]
    },
    {
     "name": "stderr",
     "output_type": "stream",
     "text": [
      "100%|██████████| 16/16 [00:03<00:00,  4.17it/s]\n",
      "100%|██████████| 7/7 [00:00<00:00,  7.89it/s]\n",
      "100%|██████████| 18/18 [00:04<00:00,  4.40it/s]\n",
      "100%|██████████| 19/19 [00:04<00:00,  4.40it/s]\n"
     ]
    },
    {
     "name": "stdout",
     "output_type": "stream",
     "text": [
      "fold: 1\n",
      "fold: 2\n",
      "fold: 3\n",
      "fold: 4\n",
      "fold: 5\n",
      "fold: 6\n"
     ]
    },
    {
     "name": "stderr",
     "output_type": "stream",
     "text": [
      "\u001b[32m[I 2023-02-07 10:45:39,541]\u001b[0m Trial 0 finished with value: 0.7668381317464009 and parameters: {'skill_size': 16, 'lang_size': 7, 'study_size': 18, 'degree_size': 19}. Best is trial 0 with value: 0.7668381317464009.\u001b[0m\n"
     ]
    },
    {
     "name": "stdout",
     "output_type": "stream",
     "text": [
      "Frequency of top 20 skills before preprocess: 294433\n",
      "Frequency of top 20 skills after preprocess: 318624\n"
     ]
    },
    {
     "name": "stderr",
     "output_type": "stream",
     "text": [
      "100%|██████████| 30/30 [00:07<00:00,  4.27it/s]\n",
      "100%|██████████| 19/19 [00:02<00:00,  7.75it/s]\n",
      "100%|██████████| 15/15 [00:03<00:00,  4.39it/s]\n",
      "100%|██████████| 15/15 [00:03<00:00,  4.38it/s]\n"
     ]
    },
    {
     "name": "stdout",
     "output_type": "stream",
     "text": [
      "fold: 1\n",
      "fold: 2\n",
      "fold: 3\n",
      "fold: 4\n",
      "fold: 5\n",
      "fold: 6\n"
     ]
    },
    {
     "name": "stderr",
     "output_type": "stream",
     "text": [
      "\u001b[32m[I 2023-02-07 11:03:14,608]\u001b[0m Trial 1 finished with value: 0.7680830090617765 and parameters: {'skill_size': 30, 'lang_size': 19, 'study_size': 15, 'degree_size': 15}. Best is trial 1 with value: 0.7680830090617765.\u001b[0m\n"
     ]
    },
    {
     "name": "stdout",
     "output_type": "stream",
     "text": [
      "Frequency of top 20 skills before preprocess: 294433\n",
      "Frequency of top 20 skills after preprocess: 318624\n"
     ]
    },
    {
     "name": "stderr",
     "output_type": "stream",
     "text": [
      "100%|██████████| 21/21 [00:05<00:00,  3.99it/s]\n",
      "100%|██████████| 15/15 [00:02<00:00,  6.85it/s]\n",
      "100%|██████████| 15/15 [00:04<00:00,  3.21it/s]\n",
      "100%|██████████| 6/6 [00:01<00:00,  3.98it/s]\n"
     ]
    },
    {
     "name": "stdout",
     "output_type": "stream",
     "text": [
      "fold: 1\n",
      "fold: 2\n",
      "fold: 3\n",
      "fold: 4\n",
      "fold: 5\n",
      "fold: 6\n"
     ]
    },
    {
     "name": "stderr",
     "output_type": "stream",
     "text": [
      "\u001b[32m[I 2023-02-07 11:19:28,229]\u001b[0m Trial 2 finished with value: 0.7681019182501846 and parameters: {'skill_size': 21, 'lang_size': 15, 'study_size': 15, 'degree_size': 6}. Best is trial 2 with value: 0.7681019182501846.\u001b[0m\n"
     ]
    },
    {
     "name": "stdout",
     "output_type": "stream",
     "text": [
      "Frequency of top 20 skills before preprocess: 294433\n",
      "Frequency of top 20 skills after preprocess: 318624\n"
     ]
    },
    {
     "name": "stderr",
     "output_type": "stream",
     "text": [
      "100%|██████████| 10/10 [00:02<00:00,  4.33it/s]\n",
      "100%|██████████| 9/9 [00:01<00:00,  7.86it/s]\n",
      "100%|██████████| 12/12 [00:02<00:00,  4.35it/s]\n",
      "100%|██████████| 18/18 [00:04<00:00,  4.33it/s]\n"
     ]
    },
    {
     "name": "stdout",
     "output_type": "stream",
     "text": [
      "fold: 1\n",
      "fold: 2\n",
      "fold: 3\n",
      "fold: 4\n",
      "fold: 5\n",
      "fold: 6\n"
     ]
    },
    {
     "name": "stderr",
     "output_type": "stream",
     "text": [
      "\u001b[32m[I 2023-02-07 11:38:49,702]\u001b[0m Trial 3 finished with value: 0.7653669823739128 and parameters: {'skill_size': 10, 'lang_size': 9, 'study_size': 12, 'degree_size': 18}. Best is trial 2 with value: 0.7681019182501846.\u001b[0m\n"
     ]
    },
    {
     "name": "stdout",
     "output_type": "stream",
     "text": [
      "Frequency of top 20 skills before preprocess: 294433\n",
      "Frequency of top 20 skills after preprocess: 318624\n"
     ]
    },
    {
     "name": "stderr",
     "output_type": "stream",
     "text": [
      "100%|██████████| 12/12 [00:03<00:00,  3.97it/s]\n",
      "100%|██████████| 4/4 [00:00<00:00,  7.78it/s]\n",
      "100%|██████████| 18/18 [00:04<00:00,  4.43it/s]\n",
      "100%|██████████| 19/19 [00:04<00:00,  4.46it/s]\n"
     ]
    },
    {
     "name": "stdout",
     "output_type": "stream",
     "text": [
      "fold: 1\n",
      "fold: 2\n",
      "fold: 3\n",
      "fold: 4\n",
      "fold: 5\n",
      "fold: 6\n"
     ]
    },
    {
     "name": "stderr",
     "output_type": "stream",
     "text": [
      "\u001b[32m[I 2023-02-07 11:56:37,948]\u001b[0m Trial 4 finished with value: 0.765555604676614 and parameters: {'skill_size': 12, 'lang_size': 4, 'study_size': 18, 'degree_size': 19}. Best is trial 2 with value: 0.7681019182501846.\u001b[0m\n"
     ]
    },
    {
     "name": "stdout",
     "output_type": "stream",
     "text": [
      "Frequency of top 20 skills before preprocess: 294433\n",
      "Frequency of top 20 skills after preprocess: 318624\n"
     ]
    },
    {
     "name": "stderr",
     "output_type": "stream",
     "text": [
      "100%|██████████| 15/15 [00:03<00:00,  4.34it/s]\n",
      "100%|██████████| 13/13 [00:01<00:00,  7.91it/s]\n",
      "100%|██████████| 13/13 [00:02<00:00,  4.45it/s]\n",
      "100%|██████████| 19/19 [00:04<00:00,  4.44it/s]\n"
     ]
    },
    {
     "name": "stdout",
     "output_type": "stream",
     "text": [
      "fold: 1\n",
      "fold: 2\n",
      "fold: 3\n",
      "fold: 4\n",
      "fold: 5\n",
      "fold: 6\n"
     ]
    },
    {
     "name": "stderr",
     "output_type": "stream",
     "text": [
      "\u001b[32m[I 2023-02-07 12:12:58,640]\u001b[0m Trial 5 finished with value: 0.7661780497376842 and parameters: {'skill_size': 15, 'lang_size': 13, 'study_size': 13, 'degree_size': 19}. Best is trial 2 with value: 0.7681019182501846.\u001b[0m\n"
     ]
    },
    {
     "name": "stdout",
     "output_type": "stream",
     "text": [
      "Frequency of top 20 skills before preprocess: 294433\n",
      "Frequency of top 20 skills after preprocess: 318624\n"
     ]
    },
    {
     "name": "stderr",
     "output_type": "stream",
     "text": [
      "100%|██████████| 36/36 [00:08<00:00,  4.17it/s]\n",
      "100%|██████████| 14/14 [00:01<00:00,  7.73it/s]\n",
      "100%|██████████| 5/5 [00:01<00:00,  4.34it/s]\n",
      "100%|██████████| 5/5 [00:01<00:00,  4.28it/s]\n"
     ]
    },
    {
     "name": "stdout",
     "output_type": "stream",
     "text": [
      "fold: 1\n",
      "fold: 2\n",
      "fold: 3\n",
      "fold: 4\n",
      "fold: 5\n",
      "fold: 6\n"
     ]
    },
    {
     "name": "stderr",
     "output_type": "stream",
     "text": [
      "\u001b[32m[I 2023-02-07 12:30:51,070]\u001b[0m Trial 6 finished with value: 0.7687431785833869 and parameters: {'skill_size': 36, 'lang_size': 14, 'study_size': 5, 'degree_size': 5}. Best is trial 6 with value: 0.7687431785833869.\u001b[0m\n"
     ]
    },
    {
     "name": "stdout",
     "output_type": "stream",
     "text": [
      "Frequency of top 20 skills before preprocess: 294433\n",
      "Frequency of top 20 skills after preprocess: 318624\n"
     ]
    },
    {
     "name": "stderr",
     "output_type": "stream",
     "text": [
      "100%|██████████| 39/39 [00:09<00:00,  4.26it/s]\n",
      "100%|██████████| 13/13 [00:01<00:00,  7.67it/s]\n",
      "100%|██████████| 15/15 [00:03<00:00,  4.40it/s]\n",
      "100%|██████████| 16/16 [00:03<00:00,  4.41it/s]\n"
     ]
    },
    {
     "name": "stdout",
     "output_type": "stream",
     "text": [
      "fold: 1\n",
      "fold: 2\n",
      "fold: 3\n",
      "fold: 4\n",
      "fold: 5\n",
      "fold: 6\n"
     ]
    },
    {
     "name": "stderr",
     "output_type": "stream",
     "text": [
      "\u001b[32m[I 2023-02-07 12:47:32,685]\u001b[0m Trial 7 finished with value: 0.7703085985524701 and parameters: {'skill_size': 39, 'lang_size': 13, 'study_size': 15, 'degree_size': 16}. Best is trial 7 with value: 0.7703085985524701.\u001b[0m\n"
     ]
    },
    {
     "name": "stdout",
     "output_type": "stream",
     "text": [
      "Frequency of top 20 skills before preprocess: 294433\n",
      "Frequency of top 20 skills after preprocess: 318624\n"
     ]
    },
    {
     "name": "stderr",
     "output_type": "stream",
     "text": [
      "100%|██████████| 21/21 [00:04<00:00,  4.24it/s]\n",
      "100%|██████████| 18/18 [00:02<00:00,  7.81it/s]\n",
      "100%|██████████| 6/6 [00:01<00:00,  4.36it/s]\n",
      "100%|██████████| 6/6 [00:01<00:00,  4.39it/s]\n"
     ]
    },
    {
     "name": "stdout",
     "output_type": "stream",
     "text": [
      "fold: 1\n",
      "fold: 2\n",
      "fold: 3\n",
      "fold: 4\n",
      "fold: 5\n",
      "fold: 6\n"
     ]
    },
    {
     "name": "stderr",
     "output_type": "stream",
     "text": [
      "\u001b[32m[I 2023-02-07 13:02:48,683]\u001b[0m Trial 8 finished with value: 0.767724620283262 and parameters: {'skill_size': 21, 'lang_size': 18, 'study_size': 6, 'degree_size': 6}. Best is trial 7 with value: 0.7703085985524701.\u001b[0m\n"
     ]
    },
    {
     "name": "stdout",
     "output_type": "stream",
     "text": [
      "Frequency of top 20 skills before preprocess: 294433\n",
      "Frequency of top 20 skills after preprocess: 318624\n"
     ]
    },
    {
     "name": "stderr",
     "output_type": "stream",
     "text": [
      "100%|██████████| 18/18 [00:04<00:00,  4.28it/s]\n",
      "100%|██████████| 15/15 [00:01<00:00,  7.78it/s]\n",
      "100%|██████████| 8/8 [00:01<00:00,  4.39it/s]\n",
      "100%|██████████| 19/19 [00:04<00:00,  4.42it/s]\n"
     ]
    },
    {
     "name": "stdout",
     "output_type": "stream",
     "text": [
      "fold: 1\n",
      "fold: 2\n",
      "fold: 3\n",
      "fold: 4\n",
      "fold: 5\n",
      "fold: 6\n"
     ]
    },
    {
     "name": "stderr",
     "output_type": "stream",
     "text": [
      "\u001b[32m[I 2023-02-07 13:19:56,107]\u001b[0m Trial 9 finished with value: 0.7666118234034545 and parameters: {'skill_size': 18, 'lang_size': 15, 'study_size': 8, 'degree_size': 19}. Best is trial 7 with value: 0.7703085985524701.\u001b[0m\n"
     ]
    },
    {
     "name": "stdout",
     "output_type": "stream",
     "text": [
      "Frequency of top 20 skills before preprocess: 294433\n",
      "Frequency of top 20 skills after preprocess: 318624\n"
     ]
    },
    {
     "name": "stderr",
     "output_type": "stream",
     "text": [
      "100%|██████████| 50/50 [00:11<00:00,  4.29it/s]\n",
      "100%|██████████| 10/10 [00:01<00:00,  7.90it/s]\n",
      "100%|██████████| 10/10 [00:02<00:00,  4.42it/s]\n",
      "100%|██████████| 11/11 [00:02<00:00,  4.44it/s]\n"
     ]
    },
    {
     "name": "stdout",
     "output_type": "stream",
     "text": [
      "fold: 1\n",
      "fold: 2\n",
      "fold: 3\n",
      "fold: 4\n",
      "fold: 5\n",
      "fold: 6\n"
     ]
    },
    {
     "name": "stderr",
     "output_type": "stream",
     "text": [
      "\u001b[32m[I 2023-02-07 13:37:29,242]\u001b[0m Trial 10 finished with value: 0.7707424149074568 and parameters: {'skill_size': 50, 'lang_size': 10, 'study_size': 10, 'degree_size': 11}. Best is trial 10 with value: 0.7707424149074568.\u001b[0m\n"
     ]
    },
    {
     "name": "stdout",
     "output_type": "stream",
     "text": [
      "Frequency of top 20 skills before preprocess: 294433\n",
      "Frequency of top 20 skills after preprocess: 318624\n"
     ]
    },
    {
     "name": "stderr",
     "output_type": "stream",
     "text": [
      "100%|██████████| 48/48 [00:11<00:00,  4.34it/s]\n",
      "100%|██████████| 10/10 [00:01<00:00,  7.89it/s]\n",
      "100%|██████████| 9/9 [00:02<00:00,  4.44it/s]\n",
      "100%|██████████| 11/11 [00:02<00:00,  4.45it/s]\n"
     ]
    },
    {
     "name": "stdout",
     "output_type": "stream",
     "text": [
      "fold: 1\n",
      "fold: 2\n",
      "fold: 3\n",
      "fold: 4\n",
      "fold: 5\n",
      "fold: 6\n"
     ]
    },
    {
     "name": "stderr",
     "output_type": "stream",
     "text": [
      "\u001b[32m[I 2023-02-07 13:55:24,321]\u001b[0m Trial 11 finished with value: 0.7720249697252345 and parameters: {'skill_size': 48, 'lang_size': 10, 'study_size': 9, 'degree_size': 11}. Best is trial 11 with value: 0.7720249697252345.\u001b[0m\n"
     ]
    },
    {
     "name": "stdout",
     "output_type": "stream",
     "text": [
      "Frequency of top 20 skills before preprocess: 294433\n",
      "Frequency of top 20 skills after preprocess: 318624\n"
     ]
    },
    {
     "name": "stderr",
     "output_type": "stream",
     "text": [
      "100%|██████████| 49/49 [00:11<00:00,  4.29it/s]\n",
      "100%|██████████| 10/10 [00:01<00:00,  7.71it/s]\n",
      "100%|██████████| 9/9 [00:02<00:00,  4.39it/s]\n",
      "100%|██████████| 10/10 [00:02<00:00,  4.39it/s]\n"
     ]
    },
    {
     "name": "stdout",
     "output_type": "stream",
     "text": [
      "fold: 1\n",
      "fold: 2\n",
      "fold: 3\n",
      "fold: 4\n",
      "fold: 5\n",
      "fold: 6\n"
     ]
    },
    {
     "name": "stderr",
     "output_type": "stream",
     "text": [
      "\u001b[32m[I 2023-02-07 14:12:31,869]\u001b[0m Trial 12 finished with value: 0.7704594899912486 and parameters: {'skill_size': 49, 'lang_size': 10, 'study_size': 9, 'degree_size': 10}. Best is trial 11 with value: 0.7720249697252345.\u001b[0m\n"
     ]
    },
    {
     "name": "stdout",
     "output_type": "stream",
     "text": [
      "Frequency of top 20 skills before preprocess: 294433\n",
      "Frequency of top 20 skills after preprocess: 318624\n"
     ]
    },
    {
     "name": "stderr",
     "output_type": "stream",
     "text": [
      "100%|██████████| 50/50 [00:11<00:00,  4.29it/s]\n",
      "100%|██████████| 9/9 [00:01<00:00,  7.67it/s]\n",
      "100%|██████████| 10/10 [00:02<00:00,  4.44it/s]\n",
      "100%|██████████| 11/11 [00:02<00:00,  4.45it/s]\n"
     ]
    },
    {
     "name": "stdout",
     "output_type": "stream",
     "text": [
      "fold: 1\n",
      "fold: 2\n",
      "fold: 3\n",
      "fold: 4\n",
      "fold: 5\n",
      "fold: 6\n"
     ]
    },
    {
     "name": "stderr",
     "output_type": "stream",
     "text": [
      "\u001b[32m[I 2023-02-07 14:27:56,734]\u001b[0m Trial 13 finished with value: 0.7707801884605961 and parameters: {'skill_size': 50, 'lang_size': 9, 'study_size': 10, 'degree_size': 11}. Best is trial 11 with value: 0.7720249697252345.\u001b[0m\n"
     ]
    },
    {
     "name": "stdout",
     "output_type": "stream",
     "text": [
      "Frequency of top 20 skills before preprocess: 294433\n",
      "Frequency of top 20 skills after preprocess: 318624\n"
     ]
    },
    {
     "name": "stderr",
     "output_type": "stream",
     "text": [
      "100%|██████████| 44/44 [00:10<00:00,  4.34it/s]\n",
      "100%|██████████| 6/6 [00:00<00:00,  7.85it/s]\n",
      "100%|██████████| 7/7 [00:01<00:00,  4.44it/s]\n",
      "100%|██████████| 9/9 [00:02<00:00,  4.46it/s]\n"
     ]
    },
    {
     "name": "stdout",
     "output_type": "stream",
     "text": [
      "fold: 1\n",
      "fold: 2\n",
      "fold: 3\n",
      "fold: 4\n",
      "fold: 5\n",
      "fold: 6\n"
     ]
    },
    {
     "name": "stderr",
     "output_type": "stream",
     "text": [
      "\u001b[32m[I 2023-02-07 14:42:48,944]\u001b[0m Trial 14 finished with value: 0.770968761670698 and parameters: {'skill_size': 44, 'lang_size': 6, 'study_size': 7, 'degree_size': 9}. Best is trial 11 with value: 0.7720249697252345.\u001b[0m\n"
     ]
    },
    {
     "name": "stdout",
     "output_type": "stream",
     "text": [
      "Frequency of top 20 skills before preprocess: 294433\n",
      "Frequency of top 20 skills after preprocess: 318624\n"
     ]
    },
    {
     "name": "stderr",
     "output_type": "stream",
     "text": [
      "100%|██████████| 43/43 [00:10<00:00,  4.27it/s]\n",
      "100%|██████████| 5/5 [00:00<00:00,  7.64it/s]\n",
      "100%|██████████| 4/4 [00:00<00:00,  4.24it/s]\n",
      "100%|██████████| 8/8 [00:01<00:00,  4.22it/s]\n"
     ]
    },
    {
     "name": "stdout",
     "output_type": "stream",
     "text": [
      "fold: 1\n",
      "fold: 2\n",
      "fold: 3\n",
      "fold: 4\n",
      "fold: 5\n",
      "fold: 6\n"
     ]
    },
    {
     "name": "stderr",
     "output_type": "stream",
     "text": [
      "\u001b[32m[I 2023-02-07 14:58:31,653]\u001b[0m Trial 15 finished with value: 0.7698936679068226 and parameters: {'skill_size': 43, 'lang_size': 5, 'study_size': 4, 'degree_size': 8}. Best is trial 11 with value: 0.7720249697252345.\u001b[0m\n"
     ]
    },
    {
     "name": "stdout",
     "output_type": "stream",
     "text": [
      "Frequency of top 20 skills before preprocess: 294433\n",
      "Frequency of top 20 skills after preprocess: 318624\n"
     ]
    },
    {
     "name": "stderr",
     "output_type": "stream",
     "text": [
      "100%|██████████| 43/43 [00:09<00:00,  4.37it/s]\n",
      "100%|██████████| 6/6 [00:00<00:00,  7.83it/s]\n",
      "100%|██████████| 7/7 [00:01<00:00,  4.46it/s]\n",
      "100%|██████████| 14/14 [00:03<00:00,  4.45it/s]\n"
     ]
    },
    {
     "name": "stdout",
     "output_type": "stream",
     "text": [
      "fold: 1\n",
      "fold: 2\n",
      "fold: 3\n",
      "fold: 4\n",
      "fold: 5\n",
      "fold: 6\n"
     ]
    },
    {
     "name": "stderr",
     "output_type": "stream",
     "text": [
      "\u001b[32m[I 2023-02-07 15:13:49,622]\u001b[0m Trial 16 finished with value: 0.7702331432280073 and parameters: {'skill_size': 43, 'lang_size': 6, 'study_size': 7, 'degree_size': 14}. Best is trial 11 with value: 0.7720249697252345.\u001b[0m\n"
     ]
    },
    {
     "name": "stdout",
     "output_type": "stream",
     "text": [
      "Frequency of top 20 skills before preprocess: 294433\n",
      "Frequency of top 20 skills after preprocess: 318624\n"
     ]
    },
    {
     "name": "stderr",
     "output_type": "stream",
     "text": [
      "100%|██████████| 31/31 [00:07<00:00,  4.33it/s]\n",
      "100%|██████████| 7/7 [00:00<00:00,  7.89it/s]\n",
      "100%|██████████| 12/12 [00:02<00:00,  4.42it/s]\n",
      "100%|██████████| 9/9 [00:02<00:00,  4.45it/s]\n"
     ]
    },
    {
     "name": "stdout",
     "output_type": "stream",
     "text": [
      "fold: 1\n",
      "fold: 2\n",
      "fold: 3\n",
      "fold: 4\n",
      "fold: 5\n",
      "fold: 6\n"
     ]
    },
    {
     "name": "stderr",
     "output_type": "stream",
     "text": [
      "\u001b[32m[I 2023-02-07 15:28:20,609]\u001b[0m Trial 17 finished with value: 0.7685545029191654 and parameters: {'skill_size': 31, 'lang_size': 7, 'study_size': 12, 'degree_size': 9}. Best is trial 11 with value: 0.7720249697252345.\u001b[0m\n"
     ]
    },
    {
     "name": "stdout",
     "output_type": "stream",
     "text": [
      "Frequency of top 20 skills before preprocess: 294433\n",
      "Frequency of top 20 skills after preprocess: 318624\n"
     ]
    },
    {
     "name": "stderr",
     "output_type": "stream",
     "text": [
      "100%|██████████| 44/44 [00:10<00:00,  4.27it/s]\n",
      "100%|██████████| 11/11 [00:01<00:00,  7.74it/s]\n",
      "100%|██████████| 7/7 [00:01<00:00,  4.38it/s]\n",
      "100%|██████████| 13/13 [00:02<00:00,  4.40it/s]\n"
     ]
    },
    {
     "name": "stdout",
     "output_type": "stream",
     "text": [
      "fold: 1\n",
      "fold: 2\n",
      "fold: 3\n",
      "fold: 4\n",
      "fold: 5\n",
      "fold: 6\n"
     ]
    },
    {
     "name": "stderr",
     "output_type": "stream",
     "text": [
      "\u001b[32m[I 2023-02-07 15:47:45,381]\u001b[0m Trial 18 finished with value: 0.7702143642417091 and parameters: {'skill_size': 44, 'lang_size': 11, 'study_size': 7, 'degree_size': 13}. Best is trial 11 with value: 0.7720249697252345.\u001b[0m\n"
     ]
    },
    {
     "name": "stdout",
     "output_type": "stream",
     "text": [
      "Frequency of top 20 skills before preprocess: 294433\n",
      "Frequency of top 20 skills after preprocess: 318624\n"
     ]
    },
    {
     "name": "stderr",
     "output_type": "stream",
     "text": [
      "100%|██████████| 35/35 [00:08<00:00,  4.00it/s]\n",
      "100%|██████████| 7/7 [00:00<00:00,  7.48it/s]\n",
      "100%|██████████| 4/4 [00:00<00:00,  4.33it/s]\n",
      "100%|██████████| 8/8 [00:01<00:00,  4.38it/s]\n"
     ]
    },
    {
     "name": "stdout",
     "output_type": "stream",
     "text": [
      "fold: 1\n",
      "fold: 2\n",
      "fold: 3\n",
      "fold: 4\n",
      "fold: 5\n",
      "fold: 6\n"
     ]
    },
    {
     "name": "stderr",
     "output_type": "stream",
     "text": [
      "\u001b[32m[I 2023-02-07 16:02:26,139]\u001b[0m Trial 19 finished with value: 0.7678754519571375 and parameters: {'skill_size': 35, 'lang_size': 7, 'study_size': 4, 'degree_size': 8}. Best is trial 11 with value: 0.7720249697252345.\u001b[0m\n"
     ]
    }
   ],
   "source": [
    "def objective(trial):\n",
    "\n",
    "    df_ = df.copy()\n",
    "    skill_size = trial.suggest_int('skill_size', 10, 50)\n",
    "    lang_size = trial.suggest_int('lang_size', 4, 20)\n",
    "    study_size = trial.suggest_int('study_size', 4, 20)\n",
    "    degree_size = trial.suggest_int('degree_size', 4, 20)\n",
    "\n",
    "    skills_df = load_skills(config.skills_path, skill_size)\n",
    "    lang_df = load_languages(config.languages_path, lang_size)\n",
    "    edu_df = load_education(config.education_path, study_size, degree_size)\n",
    "    exp_df = load_work_experiences(config.exp_path)\n",
    "\n",
    "    df_ = df_.merge(skills_df, on = ['user_id'], how = 'left')\n",
    "    df_ = df_.merge(lang_df, on = ['user_id'], how = 'left')\n",
    "    df_ = df_.merge(edu_df, on = ['user_id'], how = 'left')\n",
    "    df_ = df_.merge(exp_df, on = ['user_id'], how = 'left')\n",
    "\n",
    "    target = 'moved_after_2019'\n",
    "    cat_features = ['industry', 'location']\n",
    "    drop_features = ['user_id']\n",
    "\n",
    "    for caterogical_col in cat_features:\n",
    "        df_[caterogical_col] = df_[caterogical_col].astype(str).astype(\"category\")\n",
    "\n",
    "    train_set = df_.loc[df_[target].notnull()].drop(columns=drop_features, axis = 1)\n",
    "    test_set = df_.loc[df_[target].isnull()].drop(columns=drop_features, axis = 1)\n",
    "\n",
    "    X = train_set.drop(columns = [target], axis = 1)\n",
    "    y = train_set[target]\n",
    "\n",
    "    params = {'one_hot_max_size': 179,\n",
    "              'depth': 12,\n",
    "              'boosting_type': 'Plain',\n",
    "              'bootstrap_type': 'MVS'}\n",
    "\n",
    "    params['verbose'] = False\n",
    "    params['random_state'] = config.seed\n",
    "    params['cat_features'] = cat_features\n",
    "    params['eval_metric'] = 'Accuracy'\n",
    "    params['allow_writing_files'] = False\n",
    "    params[\"iterations\"] = 5000\n",
    "\n",
    "    model = CatBoostClassifier(**params)\n",
    "    kf = KFold(n_splits=config.n_folds)\n",
    "\n",
    "    scores = list()\n",
    "    for idx, (train_ind, val_ind) in enumerate(kf.split(X, y)):\n",
    "        print(f'fold: {idx+1}')\n",
    "        model = CatBoostClassifier(**params)\n",
    "        X_train = X.iloc[train_ind]\n",
    "        y_train = y.iloc[train_ind]\n",
    "        X_val = X.iloc[val_ind]\n",
    "        y_val = y.iloc[val_ind]\n",
    "\n",
    "        model.fit(\n",
    "            X_train,\n",
    "            y_train,\n",
    "            eval_set=[(X_val, y_val)],\n",
    "            early_stopping_rounds=400,\n",
    "            verbose=False,\n",
    "        )\n",
    "\n",
    "        val_pred = model.predict(X_val)\n",
    "        scores.append(accuracy_score(y_val, val_pred))\n",
    "        del X_train, y_train, X_val, y_val\n",
    "        gc.collect()\n",
    "\n",
    "    return np.mean(scores)\n",
    "\n",
    "study = optuna.create_study(direction=\"maximize\")\n",
    "study.optimize(objective, n_trials=20)"
   ]
  },
  {
   "cell_type": "code",
   "execution_count": 12,
   "metadata": {},
   "outputs": [
    {
     "data": {
      "text/plain": [
       "{'skill_size': 48, 'lang_size': 10, 'study_size': 9, 'degree_size': 11}"
      ]
     },
     "execution_count": 12,
     "metadata": {},
     "output_type": "execute_result"
    }
   ],
   "source": [
    "study.best_params"
   ]
  },
  {
   "cell_type": "code",
   "execution_count": 6,
   "metadata": {},
   "outputs": [
    {
     "name": "stderr",
     "output_type": "stream",
     "text": [
      "\u001b[32m[I 2023-02-07 02:58:19,452]\u001b[0m A new study created in memory with name: no-name-da7bc7d7-99f6-4fd6-8beb-f3562d742998\u001b[0m\n"
     ]
    },
    {
     "name": "stdout",
     "output_type": "stream",
     "text": [
      "fold: 1\n",
      "fold: 2\n",
      "fold: 3\n",
      "fold: 4\n",
      "fold: 5\n",
      "fold: 6\n"
     ]
    },
    {
     "name": "stderr",
     "output_type": "stream",
     "text": [
      "\u001b[32m[I 2023-02-07 03:11:49,344]\u001b[0m Trial 0 finished with value: 0.7687431849867695 and parameters: {'one_hot_max_size': 149, 'depth': 11, 'boosting_type': 'Plain', 'bootstrap_type': 'MVS'}. Best is trial 0 with value: 0.7687431849867695.\u001b[0m\n"
     ]
    },
    {
     "name": "stdout",
     "output_type": "stream",
     "text": [
      "fold: 1\n",
      "fold: 2\n",
      "fold: 3\n",
      "fold: 4\n",
      "fold: 5\n",
      "fold: 6\n"
     ]
    },
    {
     "name": "stderr",
     "output_type": "stream",
     "text": [
      "\u001b[32m[I 2023-02-07 03:34:29,279]\u001b[0m Trial 1 finished with value: 0.7580489322240216 and parameters: {'one_hot_max_size': 124, 'depth': 12, 'boosting_type': 'Plain', 'bootstrap_type': 'Bayesian', 'bagging_temperature': 9.565425252754782}. Best is trial 0 with value: 0.7687431849867695.\u001b[0m\n"
     ]
    },
    {
     "name": "stdout",
     "output_type": "stream",
     "text": [
      "fold: 1\n",
      "fold: 2\n",
      "fold: 3\n",
      "fold: 4\n",
      "fold: 5\n",
      "fold: 6\n"
     ]
    },
    {
     "name": "stderr",
     "output_type": "stream",
     "text": [
      "\u001b[32m[I 2023-02-07 03:48:21,627]\u001b[0m Trial 2 finished with value: 0.7605951582846989 and parameters: {'one_hot_max_size': 122, 'depth': 10, 'boosting_type': 'Plain', 'bootstrap_type': 'Bayesian', 'bagging_temperature': 4.530481827061648}. Best is trial 0 with value: 0.7687431849867695.\u001b[0m\n"
     ]
    },
    {
     "name": "stdout",
     "output_type": "stream",
     "text": [
      "fold: 1\n",
      "fold: 2\n",
      "fold: 3\n",
      "fold: 4\n",
      "fold: 5\n",
      "fold: 6\n"
     ]
    },
    {
     "name": "stderr",
     "output_type": "stream",
     "text": [
      "\u001b[32m[I 2023-02-07 03:58:55,699]\u001b[0m Trial 3 finished with value: 0.7124612973160658 and parameters: {'one_hot_max_size': 200, 'depth': 7, 'boosting_type': 'Ordered', 'bootstrap_type': 'MVS'}. Best is trial 0 with value: 0.7687431849867695.\u001b[0m\n"
     ]
    },
    {
     "name": "stdout",
     "output_type": "stream",
     "text": [
      "fold: 1\n",
      "fold: 2\n",
      "fold: 3\n",
      "fold: 4\n",
      "fold: 5\n",
      "fold: 6\n"
     ]
    },
    {
     "name": "stderr",
     "output_type": "stream",
     "text": [
      "\u001b[32m[I 2023-02-07 05:07:21,616]\u001b[0m Trial 4 finished with value: 0.7127821729456613 and parameters: {'one_hot_max_size': 169, 'depth': 11, 'boosting_type': 'Ordered', 'bootstrap_type': 'Bayesian', 'bagging_temperature': 9.856402252264319}. Best is trial 0 with value: 0.7687431849867695.\u001b[0m\n"
     ]
    },
    {
     "name": "stdout",
     "output_type": "stream",
     "text": [
      "fold: 1\n",
      "fold: 2\n",
      "fold: 3\n",
      "fold: 4\n",
      "fold: 5\n",
      "fold: 6\n"
     ]
    },
    {
     "name": "stderr",
     "output_type": "stream",
     "text": [
      "\u001b[32m[I 2023-02-07 08:02:47,342]\u001b[0m Trial 5 finished with value: 0.7302475800379692 and parameters: {'one_hot_max_size': 197, 'depth': 12, 'boosting_type': 'Ordered', 'bootstrap_type': 'Bayesian', 'bagging_temperature': 5.880338042966729}. Best is trial 0 with value: 0.7687431849867695.\u001b[0m\n"
     ]
    },
    {
     "name": "stdout",
     "output_type": "stream",
     "text": [
      "fold: 1\n",
      "fold: 2\n",
      "fold: 3\n",
      "fold: 4\n",
      "fold: 5\n"
     ]
    },
    {
     "name": "stderr",
     "output_type": "stream",
     "text": [
      "\u001b[33m[W 2023-02-07 10:18:05,814]\u001b[0m Trial 6 failed because of the following error: KeyboardInterrupt('')\u001b[0m\n",
      "Traceback (most recent call last):\n",
      "  File \"/Users/sercanyesiloz/opt/anaconda3/lib/python3.9/site-packages/optuna/study/_optimize.py\", line 196, in _run_trial\n",
      "    value_or_values = func(trial)\n",
      "  File \"/var/folders/67/wq_xsymd3jvc5w2fx1ld_18h0000gn/T/ipykernel_42069/4198301420.py\", line 37, in objective\n",
      "    model.fit(\n",
      "  File \"/Users/sercanyesiloz/opt/anaconda3/lib/python3.9/site-packages/catboost/core.py\", line 5128, in fit\n",
      "    self._fit(X, y, cat_features, text_features, embedding_features, None, sample_weight, None, None, None, None, baseline, use_best_model,\n",
      "  File \"/Users/sercanyesiloz/opt/anaconda3/lib/python3.9/site-packages/catboost/core.py\", line 2355, in _fit\n",
      "    self._train(\n",
      "  File \"/Users/sercanyesiloz/opt/anaconda3/lib/python3.9/site-packages/catboost/core.py\", line 1759, in _train\n",
      "    self._object._train(train_pool, test_pool, params, allow_clear_pool, init_model._object if init_model else None)\n",
      "  File \"_catboost.pyx\", line 4623, in _catboost._CatBoost._train\n",
      "  File \"_catboost.pyx\", line 4672, in _catboost._CatBoost._train\n",
      "KeyboardInterrupt\n"
     ]
    },
    {
     "ename": "KeyboardInterrupt",
     "evalue": "",
     "output_type": "error",
     "traceback": [
      "\u001b[0;31m---------------------------------------------------------------------------\u001b[0m",
      "\u001b[0;31mKeyboardInterrupt\u001b[0m                         Traceback (most recent call last)",
      "\u001b[0;32m/var/folders/67/wq_xsymd3jvc5w2fx1ld_18h0000gn/T/ipykernel_42069/4198301420.py\u001b[0m in \u001b[0;36m<module>\u001b[0;34m\u001b[0m\n\u001b[1;32m     52\u001b[0m \u001b[0;34m\u001b[0m\u001b[0m\n\u001b[1;32m     53\u001b[0m \u001b[0mstudy\u001b[0m \u001b[0;34m=\u001b[0m \u001b[0moptuna\u001b[0m\u001b[0;34m.\u001b[0m\u001b[0mcreate_study\u001b[0m\u001b[0;34m(\u001b[0m\u001b[0mdirection\u001b[0m\u001b[0;34m=\u001b[0m\u001b[0;34m\"maximize\"\u001b[0m\u001b[0;34m)\u001b[0m\u001b[0;34m\u001b[0m\u001b[0;34m\u001b[0m\u001b[0m\n\u001b[0;32m---> 54\u001b[0;31m \u001b[0mstudy\u001b[0m\u001b[0;34m.\u001b[0m\u001b[0moptimize\u001b[0m\u001b[0;34m(\u001b[0m\u001b[0mobjective\u001b[0m\u001b[0;34m,\u001b[0m \u001b[0mn_trials\u001b[0m\u001b[0;34m=\u001b[0m\u001b[0;36m50\u001b[0m\u001b[0;34m)\u001b[0m\u001b[0;34m\u001b[0m\u001b[0;34m\u001b[0m\u001b[0m\n\u001b[0m",
      "\u001b[0;32m~/opt/anaconda3/lib/python3.9/site-packages/optuna/study/study.py\u001b[0m in \u001b[0;36moptimize\u001b[0;34m(self, func, n_trials, timeout, n_jobs, catch, callbacks, gc_after_trial, show_progress_bar)\u001b[0m\n\u001b[1;32m    417\u001b[0m         \"\"\"\n\u001b[1;32m    418\u001b[0m \u001b[0;34m\u001b[0m\u001b[0m\n\u001b[0;32m--> 419\u001b[0;31m         _optimize(\n\u001b[0m\u001b[1;32m    420\u001b[0m             \u001b[0mstudy\u001b[0m\u001b[0;34m=\u001b[0m\u001b[0mself\u001b[0m\u001b[0;34m,\u001b[0m\u001b[0;34m\u001b[0m\u001b[0;34m\u001b[0m\u001b[0m\n\u001b[1;32m    421\u001b[0m             \u001b[0mfunc\u001b[0m\u001b[0;34m=\u001b[0m\u001b[0mfunc\u001b[0m\u001b[0;34m,\u001b[0m\u001b[0;34m\u001b[0m\u001b[0;34m\u001b[0m\u001b[0m\n",
      "\u001b[0;32m~/opt/anaconda3/lib/python3.9/site-packages/optuna/study/_optimize.py\u001b[0m in \u001b[0;36m_optimize\u001b[0;34m(study, func, n_trials, timeout, n_jobs, catch, callbacks, gc_after_trial, show_progress_bar)\u001b[0m\n\u001b[1;32m     64\u001b[0m     \u001b[0;32mtry\u001b[0m\u001b[0;34m:\u001b[0m\u001b[0;34m\u001b[0m\u001b[0;34m\u001b[0m\u001b[0m\n\u001b[1;32m     65\u001b[0m         \u001b[0;32mif\u001b[0m \u001b[0mn_jobs\u001b[0m \u001b[0;34m==\u001b[0m \u001b[0;36m1\u001b[0m\u001b[0;34m:\u001b[0m\u001b[0;34m\u001b[0m\u001b[0;34m\u001b[0m\u001b[0m\n\u001b[0;32m---> 66\u001b[0;31m             _optimize_sequential(\n\u001b[0m\u001b[1;32m     67\u001b[0m                 \u001b[0mstudy\u001b[0m\u001b[0;34m,\u001b[0m\u001b[0;34m\u001b[0m\u001b[0;34m\u001b[0m\u001b[0m\n\u001b[1;32m     68\u001b[0m                 \u001b[0mfunc\u001b[0m\u001b[0;34m,\u001b[0m\u001b[0;34m\u001b[0m\u001b[0;34m\u001b[0m\u001b[0m\n",
      "\u001b[0;32m~/opt/anaconda3/lib/python3.9/site-packages/optuna/study/_optimize.py\u001b[0m in \u001b[0;36m_optimize_sequential\u001b[0;34m(study, func, n_trials, timeout, catch, callbacks, gc_after_trial, reseed_sampler_rng, time_start, progress_bar)\u001b[0m\n\u001b[1;32m    158\u001b[0m \u001b[0;34m\u001b[0m\u001b[0m\n\u001b[1;32m    159\u001b[0m         \u001b[0;32mtry\u001b[0m\u001b[0;34m:\u001b[0m\u001b[0;34m\u001b[0m\u001b[0;34m\u001b[0m\u001b[0m\n\u001b[0;32m--> 160\u001b[0;31m             \u001b[0mfrozen_trial\u001b[0m \u001b[0;34m=\u001b[0m \u001b[0m_run_trial\u001b[0m\u001b[0;34m(\u001b[0m\u001b[0mstudy\u001b[0m\u001b[0;34m,\u001b[0m \u001b[0mfunc\u001b[0m\u001b[0;34m,\u001b[0m \u001b[0mcatch\u001b[0m\u001b[0;34m)\u001b[0m\u001b[0;34m\u001b[0m\u001b[0;34m\u001b[0m\u001b[0m\n\u001b[0m\u001b[1;32m    161\u001b[0m         \u001b[0;32mfinally\u001b[0m\u001b[0;34m:\u001b[0m\u001b[0;34m\u001b[0m\u001b[0;34m\u001b[0m\u001b[0m\n\u001b[1;32m    162\u001b[0m             \u001b[0;31m# The following line mitigates memory problems that can be occurred in some\u001b[0m\u001b[0;34m\u001b[0m\u001b[0;34m\u001b[0m\u001b[0m\n",
      "\u001b[0;32m~/opt/anaconda3/lib/python3.9/site-packages/optuna/study/_optimize.py\u001b[0m in \u001b[0;36m_run_trial\u001b[0;34m(study, func, catch)\u001b[0m\n\u001b[1;32m    232\u001b[0m         \u001b[0;32mand\u001b[0m \u001b[0;32mnot\u001b[0m \u001b[0misinstance\u001b[0m\u001b[0;34m(\u001b[0m\u001b[0mfunc_err\u001b[0m\u001b[0;34m,\u001b[0m \u001b[0mcatch\u001b[0m\u001b[0;34m)\u001b[0m\u001b[0;34m\u001b[0m\u001b[0;34m\u001b[0m\u001b[0m\n\u001b[1;32m    233\u001b[0m     ):\n\u001b[0;32m--> 234\u001b[0;31m         \u001b[0;32mraise\u001b[0m \u001b[0mfunc_err\u001b[0m\u001b[0;34m\u001b[0m\u001b[0;34m\u001b[0m\u001b[0m\n\u001b[0m\u001b[1;32m    235\u001b[0m     \u001b[0;32mreturn\u001b[0m \u001b[0mfrozen_trial\u001b[0m\u001b[0;34m\u001b[0m\u001b[0;34m\u001b[0m\u001b[0m\n\u001b[1;32m    236\u001b[0m \u001b[0;34m\u001b[0m\u001b[0m\n",
      "\u001b[0;32m~/opt/anaconda3/lib/python3.9/site-packages/optuna/study/_optimize.py\u001b[0m in \u001b[0;36m_run_trial\u001b[0;34m(study, func, catch)\u001b[0m\n\u001b[1;32m    194\u001b[0m     \u001b[0;32mwith\u001b[0m \u001b[0mget_heartbeat_thread\u001b[0m\u001b[0;34m(\u001b[0m\u001b[0mtrial\u001b[0m\u001b[0;34m.\u001b[0m\u001b[0m_trial_id\u001b[0m\u001b[0;34m,\u001b[0m \u001b[0mstudy\u001b[0m\u001b[0;34m.\u001b[0m\u001b[0m_storage\u001b[0m\u001b[0;34m)\u001b[0m\u001b[0;34m:\u001b[0m\u001b[0;34m\u001b[0m\u001b[0;34m\u001b[0m\u001b[0m\n\u001b[1;32m    195\u001b[0m         \u001b[0;32mtry\u001b[0m\u001b[0;34m:\u001b[0m\u001b[0;34m\u001b[0m\u001b[0;34m\u001b[0m\u001b[0m\n\u001b[0;32m--> 196\u001b[0;31m             \u001b[0mvalue_or_values\u001b[0m \u001b[0;34m=\u001b[0m \u001b[0mfunc\u001b[0m\u001b[0;34m(\u001b[0m\u001b[0mtrial\u001b[0m\u001b[0;34m)\u001b[0m\u001b[0;34m\u001b[0m\u001b[0;34m\u001b[0m\u001b[0m\n\u001b[0m\u001b[1;32m    197\u001b[0m         \u001b[0;32mexcept\u001b[0m \u001b[0mexceptions\u001b[0m\u001b[0;34m.\u001b[0m\u001b[0mTrialPruned\u001b[0m \u001b[0;32mas\u001b[0m \u001b[0me\u001b[0m\u001b[0;34m:\u001b[0m\u001b[0;34m\u001b[0m\u001b[0;34m\u001b[0m\u001b[0m\n\u001b[1;32m    198\u001b[0m             \u001b[0;31m# TODO(mamu): Handle multi-objective cases.\u001b[0m\u001b[0;34m\u001b[0m\u001b[0;34m\u001b[0m\u001b[0m\n",
      "\u001b[0;32m/var/folders/67/wq_xsymd3jvc5w2fx1ld_18h0000gn/T/ipykernel_42069/4198301420.py\u001b[0m in \u001b[0;36mobjective\u001b[0;34m(trial)\u001b[0m\n\u001b[1;32m     35\u001b[0m         \u001b[0my_val\u001b[0m \u001b[0;34m=\u001b[0m \u001b[0my\u001b[0m\u001b[0;34m.\u001b[0m\u001b[0miloc\u001b[0m\u001b[0;34m[\u001b[0m\u001b[0mval_ind\u001b[0m\u001b[0;34m]\u001b[0m\u001b[0;34m\u001b[0m\u001b[0;34m\u001b[0m\u001b[0m\n\u001b[1;32m     36\u001b[0m \u001b[0;34m\u001b[0m\u001b[0m\n\u001b[0;32m---> 37\u001b[0;31m         model.fit(\n\u001b[0m\u001b[1;32m     38\u001b[0m             \u001b[0mX_train\u001b[0m\u001b[0;34m,\u001b[0m\u001b[0;34m\u001b[0m\u001b[0;34m\u001b[0m\u001b[0m\n\u001b[1;32m     39\u001b[0m             \u001b[0my_train\u001b[0m\u001b[0;34m,\u001b[0m\u001b[0;34m\u001b[0m\u001b[0;34m\u001b[0m\u001b[0m\n",
      "\u001b[0;32m~/opt/anaconda3/lib/python3.9/site-packages/catboost/core.py\u001b[0m in \u001b[0;36mfit\u001b[0;34m(self, X, y, cat_features, text_features, embedding_features, sample_weight, baseline, use_best_model, eval_set, verbose, logging_level, plot, plot_file, column_description, verbose_eval, metric_period, silent, early_stopping_rounds, save_snapshot, snapshot_file, snapshot_interval, init_model, callbacks, log_cout, log_cerr)\u001b[0m\n\u001b[1;32m   5126\u001b[0m             \u001b[0mCatBoostClassifier\u001b[0m\u001b[0;34m.\u001b[0m\u001b[0m_check_is_compatible_loss\u001b[0m\u001b[0;34m(\u001b[0m\u001b[0mparams\u001b[0m\u001b[0;34m[\u001b[0m\u001b[0;34m'loss_function'\u001b[0m\u001b[0;34m]\u001b[0m\u001b[0;34m)\u001b[0m\u001b[0;34m\u001b[0m\u001b[0;34m\u001b[0m\u001b[0m\n\u001b[1;32m   5127\u001b[0m \u001b[0;34m\u001b[0m\u001b[0m\n\u001b[0;32m-> 5128\u001b[0;31m         self._fit(X, y, cat_features, text_features, embedding_features, None, sample_weight, None, None, None, None, baseline, use_best_model,\n\u001b[0m\u001b[1;32m   5129\u001b[0m                   \u001b[0meval_set\u001b[0m\u001b[0;34m,\u001b[0m \u001b[0mverbose\u001b[0m\u001b[0;34m,\u001b[0m \u001b[0mlogging_level\u001b[0m\u001b[0;34m,\u001b[0m \u001b[0mplot\u001b[0m\u001b[0;34m,\u001b[0m \u001b[0mplot_file\u001b[0m\u001b[0;34m,\u001b[0m \u001b[0mcolumn_description\u001b[0m\u001b[0;34m,\u001b[0m \u001b[0mverbose_eval\u001b[0m\u001b[0;34m,\u001b[0m \u001b[0mmetric_period\u001b[0m\u001b[0;34m,\u001b[0m\u001b[0;34m\u001b[0m\u001b[0;34m\u001b[0m\u001b[0m\n\u001b[1;32m   5130\u001b[0m                   silent, early_stopping_rounds, save_snapshot, snapshot_file, snapshot_interval, init_model, callbacks, log_cout, log_cerr)\n",
      "\u001b[0;32m~/opt/anaconda3/lib/python3.9/site-packages/catboost/core.py\u001b[0m in \u001b[0;36m_fit\u001b[0;34m(self, X, y, cat_features, text_features, embedding_features, pairs, sample_weight, group_id, group_weight, subgroup_id, pairs_weight, baseline, use_best_model, eval_set, verbose, logging_level, plot, plot_file, column_description, verbose_eval, metric_period, silent, early_stopping_rounds, save_snapshot, snapshot_file, snapshot_interval, init_model, callbacks, log_cout, log_cerr)\u001b[0m\n\u001b[1;32m   2353\u001b[0m         \u001b[0;32mwith\u001b[0m \u001b[0mlog_fixup\u001b[0m\u001b[0;34m(\u001b[0m\u001b[0mlog_cout\u001b[0m\u001b[0;34m,\u001b[0m \u001b[0mlog_cerr\u001b[0m\u001b[0;34m)\u001b[0m\u001b[0;34m,\u001b[0m\u001b[0;31m \u001b[0m\u001b[0;31m\\\u001b[0m\u001b[0;34m\u001b[0m\u001b[0;34m\u001b[0m\u001b[0m\n\u001b[1;32m   2354\u001b[0m             \u001b[0mplot_wrapper\u001b[0m\u001b[0;34m(\u001b[0m\u001b[0mplot\u001b[0m\u001b[0;34m,\u001b[0m \u001b[0mplot_file\u001b[0m\u001b[0;34m,\u001b[0m \u001b[0;34m'Training plots'\u001b[0m\u001b[0;34m,\u001b[0m \u001b[0;34m[\u001b[0m\u001b[0m_get_train_dir\u001b[0m\u001b[0;34m(\u001b[0m\u001b[0mself\u001b[0m\u001b[0;34m.\u001b[0m\u001b[0mget_params\u001b[0m\u001b[0;34m(\u001b[0m\u001b[0;34m)\u001b[0m\u001b[0;34m)\u001b[0m\u001b[0;34m]\u001b[0m\u001b[0;34m)\u001b[0m\u001b[0;34m:\u001b[0m\u001b[0;34m\u001b[0m\u001b[0;34m\u001b[0m\u001b[0m\n\u001b[0;32m-> 2355\u001b[0;31m             self._train(\n\u001b[0m\u001b[1;32m   2356\u001b[0m                 \u001b[0mtrain_pool\u001b[0m\u001b[0;34m,\u001b[0m\u001b[0;34m\u001b[0m\u001b[0;34m\u001b[0m\u001b[0m\n\u001b[1;32m   2357\u001b[0m                 \u001b[0mtrain_params\u001b[0m\u001b[0;34m[\u001b[0m\u001b[0;34m\"eval_sets\"\u001b[0m\u001b[0;34m]\u001b[0m\u001b[0;34m,\u001b[0m\u001b[0;34m\u001b[0m\u001b[0;34m\u001b[0m\u001b[0m\n",
      "\u001b[0;32m~/opt/anaconda3/lib/python3.9/site-packages/catboost/core.py\u001b[0m in \u001b[0;36m_train\u001b[0;34m(self, train_pool, test_pool, params, allow_clear_pool, init_model)\u001b[0m\n\u001b[1;32m   1757\u001b[0m \u001b[0;34m\u001b[0m\u001b[0m\n\u001b[1;32m   1758\u001b[0m     \u001b[0;32mdef\u001b[0m \u001b[0m_train\u001b[0m\u001b[0;34m(\u001b[0m\u001b[0mself\u001b[0m\u001b[0;34m,\u001b[0m \u001b[0mtrain_pool\u001b[0m\u001b[0;34m,\u001b[0m \u001b[0mtest_pool\u001b[0m\u001b[0;34m,\u001b[0m \u001b[0mparams\u001b[0m\u001b[0;34m,\u001b[0m \u001b[0mallow_clear_pool\u001b[0m\u001b[0;34m,\u001b[0m \u001b[0minit_model\u001b[0m\u001b[0;34m)\u001b[0m\u001b[0;34m:\u001b[0m\u001b[0;34m\u001b[0m\u001b[0;34m\u001b[0m\u001b[0m\n\u001b[0;32m-> 1759\u001b[0;31m         \u001b[0mself\u001b[0m\u001b[0;34m.\u001b[0m\u001b[0m_object\u001b[0m\u001b[0;34m.\u001b[0m\u001b[0m_train\u001b[0m\u001b[0;34m(\u001b[0m\u001b[0mtrain_pool\u001b[0m\u001b[0;34m,\u001b[0m \u001b[0mtest_pool\u001b[0m\u001b[0;34m,\u001b[0m \u001b[0mparams\u001b[0m\u001b[0;34m,\u001b[0m \u001b[0mallow_clear_pool\u001b[0m\u001b[0;34m,\u001b[0m \u001b[0minit_model\u001b[0m\u001b[0;34m.\u001b[0m\u001b[0m_object\u001b[0m \u001b[0;32mif\u001b[0m \u001b[0minit_model\u001b[0m \u001b[0;32melse\u001b[0m \u001b[0;32mNone\u001b[0m\u001b[0;34m)\u001b[0m\u001b[0;34m\u001b[0m\u001b[0;34m\u001b[0m\u001b[0m\n\u001b[0m\u001b[1;32m   1760\u001b[0m         \u001b[0mself\u001b[0m\u001b[0;34m.\u001b[0m\u001b[0m_set_trained_model_attributes\u001b[0m\u001b[0;34m(\u001b[0m\u001b[0;34m)\u001b[0m\u001b[0;34m\u001b[0m\u001b[0;34m\u001b[0m\u001b[0m\n\u001b[1;32m   1761\u001b[0m \u001b[0;34m\u001b[0m\u001b[0m\n",
      "\u001b[0;32m_catboost.pyx\u001b[0m in \u001b[0;36m_catboost._CatBoost._train\u001b[0;34m()\u001b[0m\n",
      "\u001b[0;32m_catboost.pyx\u001b[0m in \u001b[0;36m_catboost._CatBoost._train\u001b[0;34m()\u001b[0m\n",
      "\u001b[0;31mKeyboardInterrupt\u001b[0m: "
     ]
    }
   ],
   "source": [
    "X = train_set.drop(columns=[target], axis=1)\n",
    "y = train_set[target]\n",
    "\n",
    "def objective(trial):\n",
    "\n",
    "    params = {\n",
    "        \"one_hot_max_size\": trial.suggest_int(\"one_hot_max_size\", 120, 200),\n",
    "        #\"colsample_bylevel\": trial.suggest_float(\"colsample_bylevel\", 0.01, 0.1),\n",
    "        \"depth\": trial.suggest_int(\"depth\", 6, 12),\n",
    "        \"boosting_type\": trial.suggest_categorical(\"boosting_type\", [\"Ordered\", \"Plain\"]),\n",
    "        \"bootstrap_type\": trial.suggest_categorical(\"bootstrap_type\", [\"Bayesian\", \"Bernoulli\", \"MVS\"]),\n",
    "    }\n",
    "\n",
    "    if params[\"bootstrap_type\"] == \"Bayesian\":\n",
    "        params[\"bagging_temperature\"] = trial.suggest_float(\"bagging_temperature\", 0, 10)\n",
    "    elif params[\"bootstrap_type\"] == \"Bernoulli\":\n",
    "        params[\"subsample\"] = trial.suggest_float(\"subsample\", 0.1, 1)\n",
    "\n",
    "    params['eval_metric'] = 'Accuracy'\n",
    "    params['cat_features'] = cat_features\n",
    "    params['random_state'] = config.seed\n",
    "    params['allow_writing_files'] = False\n",
    "    params[\"iterations\"] = 5000\n",
    "\n",
    "    model = CatBoostClassifier(**params)\n",
    "    kf = KFold(n_splits=config.n_folds)\n",
    "\n",
    "    scores = list()\n",
    "    for idx, (train_ind, val_ind) in enumerate(kf.split(X, y)):\n",
    "        print(f'fold: {idx+1}')\n",
    "        model = CatBoostClassifier(**params)\n",
    "        X_train = X.iloc[train_ind]\n",
    "        y_train = y.iloc[train_ind]\n",
    "        X_val = X.iloc[val_ind]\n",
    "        y_val = y.iloc[val_ind]\n",
    "\n",
    "        model.fit(\n",
    "            X_train,\n",
    "            y_train,\n",
    "            eval_set=[(X_val, y_val)],\n",
    "            early_stopping_rounds=400,\n",
    "            verbose=False,\n",
    "        )\n",
    "\n",
    "        val_pred = model.predict(X_val)\n",
    "        scores.append(accuracy_score(y_val, val_pred))\n",
    "        del X_train, y_train, X_val, y_val\n",
    "        gc.collect()\n",
    "\n",
    "    return np.mean(scores)\n",
    "\n",
    "\n",
    "study = optuna.create_study(direction=\"maximize\")\n",
    "study.optimize(objective, n_trials=50)"
   ]
  },
  {
   "cell_type": "code",
   "execution_count": null,
   "metadata": {},
   "outputs": [],
   "source": []
  }
 ],
 "metadata": {
  "kernelspec": {
   "display_name": "Python 3.9.13 ('base')",
   "language": "python",
   "name": "python3"
  },
  "language_info": {
   "codemirror_mode": {
    "name": "ipython",
    "version": 3
   },
   "file_extension": ".py",
   "mimetype": "text/x-python",
   "name": "python",
   "nbconvert_exporter": "python",
   "pygments_lexer": "ipython3",
   "version": "3.9.13"
  },
  "orig_nbformat": 4,
  "vscode": {
   "interpreter": {
    "hash": "35371f657a4770bb32286f2b1d2d1b12c4bc2be917cf11a1e3547ec3dbe6c433"
   }
  }
 },
 "nbformat": 4,
 "nbformat_minor": 2
}

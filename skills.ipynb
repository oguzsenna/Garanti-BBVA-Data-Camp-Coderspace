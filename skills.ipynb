{
 "cells": [
  {
   "cell_type": "code",
   "execution_count": 2,
   "metadata": {},
   "outputs": [],
   "source": [
    "import re\n",
    "import warnings\n",
    "import pandas as pd\n",
    "from tqdm import tqdm\n",
    "from langdetect import detect\n",
    "from utils import translation, fix_skills\n",
    "from deep_translator import GoogleTranslator\n",
    "from sklearn.feature_extraction.text import CountVectorizer\n",
    "from nltk.corpus import stopwords\n",
    "warnings.filterwarnings('ignore')\n",
    "\n",
    "def my_tokenizer(text):\n",
    "    return re.split(\"\\\\s+\",text)"
   ]
  },
  {
   "cell_type": "code",
   "execution_count": 52,
   "metadata": {},
   "outputs": [],
   "source": [
    "def load_skills(path: str, size: int = 50, seperator: str = \"skill\") -> pd.DataFrame:\n",
    "\n",
    "    df_ = pd.read_csv(path)\n",
    "    print(\n",
    "        f'Frequency of top 20 skills before preprocess: {df_[\"skill\"].value_counts()[:20].values.sum()}'\n",
    "    )\n",
    "\n",
    "    df_ = fix_skills(df_)\n",
    "    df_[\"skill\"] = df_[\"skill\"].apply(lambda x: str(x).lower().strip())\n",
    "    df_[\"skill\"] = df_[\"skill\"].apply(lambda x: translation(str(x)))\n",
    "\n",
    "    print(\n",
    "        f'Frequency of top 20 skills after preprocess: {df_[\"skill\"].value_counts()[:20].values.sum()}'\n",
    "    )\n",
    "\n",
    "    df_ = df_.drop_duplicates()\n",
    "    total_skills_df = df_.groupby(by=\"user_id\", as_index=False).agg(\n",
    "        total_skills=(\n",
    "            \"skill\",\n",
    "            lambda x: len([s.strip() for s in \", \".join(x.unique()).split(\",\")]),\n",
    "        )\n",
    "    )\n",
    "    \n",
    "    df_['skill'] = df_['skill'].apply(lambda x: x.replace(',', ' '))\n",
    "    df_ = df_.groupby(by=\"user_id\", as_index=False).agg(\n",
    "        {\"skill\": lambda x: \" \".join(x.unique())}\n",
    "    )\n",
    "\n",
    "    vectorizer = CountVectorizer(\n",
    "        max_features=size,\n",
    "        stop_words=stopwords.words(\"english\"),\n",
    "        ngram_range=(1, 2),\n",
    "        tokenizer=my_tokenizer,\n",
    "    )\n",
    "\n",
    "    return (\n",
    "        pd.DataFrame(\n",
    "            vectorizer.fit_transform(df_[\"skill\"]).toarray(),\n",
    "            columns=[f\"{seperator}_{str(f)}\" for f in vectorizer.get_feature_names()],\n",
    "        )\n",
    "        .assign(user_id=df_[\"user_id\"])\n",
    "        .merge(total_skills_df, on=[\"user_id\"], how=\"left\")\n",
    "    )\n",
    "\n",
    "    # df_ = df_.drop_duplicates()\n",
    "    # total_skills = df_.groupby(by=\"user_id\", as_index=False).agg(\n",
    "    #    total_skills=(\n",
    "    #        \"skill\",\n",
    "    #        lambda x: len([s.strip() for s in \", \".join(x.unique()).split(\",\")]),\n",
    "    #    )\n",
    "    # )\n",
    "    # most_freq_skills = df_[\"skill\"].value_counts().keys()[:size].tolist()\n",
    "    # grouped = df_.groupby(by=\"user_id\", as_index=False).agg(\n",
    "    #    {\n",
    "    #        \"skill\": lambda x: [s.strip() for s in \", \".join(x.unique()).split(\",\")],\n",
    "    #    }\n",
    "    # )\n",
    "    # for skill in tqdm(most_freq_skills):\n",
    "    #    grouped[f\"{seperator}_{skill}\"] = grouped[\"skill\"].apply(\n",
    "    #        lambda x: 1 if skill in x else 0\n",
    "    #    )\n",
    "    # grouped = grouped.merge(total_skills, on = ['user_id'], how = 'left')\n",
    "    # grouped = grouped.drop(columns=[\"skill\"], axis=1)\n",
    "    # return df_\n"
   ]
  },
  {
   "cell_type": "code",
   "execution_count": 57,
   "metadata": {},
   "outputs": [],
   "source": [
    "#df = load_skills('../../../datasets/garanti-bbva-data-camp/skills.csv')\n",
    "#\n",
    "#df"
   ]
  },
  {
   "cell_type": "code",
   "execution_count": 56,
   "metadata": {},
   "outputs": [],
   "source": [
    "#df.columns"
   ]
  },
  {
   "cell_type": "code",
   "execution_count": 55,
   "metadata": {},
   "outputs": [],
   "source": [
    "#df.columns"
   ]
  },
  {
   "cell_type": "code",
   "execution_count": 28,
   "metadata": {},
   "outputs": [],
   "source": []
  },
  {
   "cell_type": "code",
   "execution_count": 27,
   "metadata": {},
   "outputs": [],
   "source": [
    "#df.loc[df['skill'].str.contains('SQL', regex=False), 'skill'].value_counts()[20:40]"
   ]
  },
  {
   "cell_type": "code",
   "execution_count": 28,
   "metadata": {},
   "outputs": [],
   "source": [
    "#for i in df.loc[df['skill'].str.contains('Programlama'), 'skill'].value_counts()[:50].keys():\n",
    "#    translated = GoogleTranslator(source='auto', target='en').translate(i)\n",
    "#    if df.loc[df['skill'] == translated].shape[0] != 0:\n",
    "#        print(f'df.loc[df[\"skill\"] == \"{i}\", \"skill\"] = \"{translated.title()}\"')"
   ]
  },
  {
   "cell_type": "code",
   "execution_count": null,
   "metadata": {},
   "outputs": [],
   "source": []
  },
  {
   "cell_type": "code",
   "execution_count": 29,
   "metadata": {},
   "outputs": [],
   "source": [
    "#df.loc[df['skill'].str.contains('Object Orie'), 'skill'].value_counts()[:20]"
   ]
  },
  {
   "cell_type": "code",
   "execution_count": 30,
   "metadata": {},
   "outputs": [],
   "source": [
    "#df['skill'].value_counts()"
   ]
  },
  {
   "cell_type": "code",
   "execution_count": 55,
   "metadata": {},
   "outputs": [],
   "source": [
    "#tr_chars = ['İ', 'ğ', 'ı', 'ş', 'Ğ', 'Ş', 'Ö', 'ö', 'Ü', 'ü', 'Ç', 'ç', 'bilgisayar']\n",
    "#translated = dict()\n",
    "#\n",
    "#for c in tr_chars:\n",
    "#    sub_df = df.loc[df['skill'].str.contains(c)]\n",
    "#    if sub_df.shape[0] != 0:\n",
    "#        for s in tqdm(sub_df['skill'].unique()):\n",
    "#            if s not in translated.keys():\n",
    "#                translated[s] = GoogleTranslator(source='auto', target='en').translate(s)"
   ]
  },
  {
   "cell_type": "code",
   "execution_count": 56,
   "metadata": {},
   "outputs": [],
   "source": [
    "#translated[s] = GoogleTranslator(source='auto', target='en').translate(s)"
   ]
  },
  {
   "cell_type": "code",
   "execution_count": 5,
   "metadata": {},
   "outputs": [],
   "source": [
    "#df['user_id'].astype(int)"
   ]
  },
  {
   "cell_type": "code",
   "execution_count": 15,
   "metadata": {},
   "outputs": [
    {
     "data": {
      "text/html": [
       "<div>\n",
       "<style scoped>\n",
       "    .dataframe tbody tr th:only-of-type {\n",
       "        vertical-align: middle;\n",
       "    }\n",
       "\n",
       "    .dataframe tbody tr th {\n",
       "        vertical-align: top;\n",
       "    }\n",
       "\n",
       "    .dataframe thead th {\n",
       "        text-align: right;\n",
       "    }\n",
       "</style>\n",
       "<table border=\"1\" class=\"dataframe\">\n",
       "  <thead>\n",
       "    <tr style=\"text-align: right;\">\n",
       "      <th></th>\n",
       "      <th>skill_application</th>\n",
       "      <th>skill_application development</th>\n",
       "      <th>skill_css</th>\n",
       "      <th>skill_css application</th>\n",
       "      <th>skill_development</th>\n",
       "      <th>user_id</th>\n",
       "      <th>total_skills</th>\n",
       "    </tr>\n",
       "  </thead>\n",
       "  <tbody>\n",
       "    <tr>\n",
       "      <th>0</th>\n",
       "      <td>1</td>\n",
       "      <td>0</td>\n",
       "      <td>1</td>\n",
       "      <td>1</td>\n",
       "      <td>0</td>\n",
       "      <td>A</td>\n",
       "      <td>3</td>\n",
       "    </tr>\n",
       "    <tr>\n",
       "      <th>1</th>\n",
       "      <td>1</td>\n",
       "      <td>1</td>\n",
       "      <td>0</td>\n",
       "      <td>0</td>\n",
       "      <td>2</td>\n",
       "      <td>B</td>\n",
       "      <td>4</td>\n",
       "    </tr>\n",
       "  </tbody>\n",
       "</table>\n",
       "</div>"
      ],
      "text/plain": [
       "   skill_application  skill_application development  skill_css  \\\n",
       "0                  1                              0          1   \n",
       "1                  1                              1          0   \n",
       "\n",
       "   skill_css application  skill_development user_id  total_skills  \n",
       "0                      1                  0       A             3  \n",
       "1                      0                  2       B             4  "
      ]
     },
     "execution_count": 15,
     "metadata": {},
     "output_type": "execute_result"
    }
   ],
   "source": [
    "#skill_df = pd.DataFrame(\n",
    "#    {\n",
    "#        \"user_id\": [\"A\", \"A\", \"B\", \"B\"],\n",
    "#        \"skill\": [\n",
    "#            \"html\",\n",
    "#            \"css ,application\",\n",
    "#            \"web development, mobile application development\",\n",
    "#            \" hadoop, oop\",\n",
    "#        ],\n",
    "#    }\n",
    "#)\n",
    "#\n",
    "#\n",
    "#skill_df[\"skill\"] = skill_df[\"skill\"].apply(lambda x: str(x).lower().strip())\n",
    "#skill_df[\"skill\"] = skill_df[\"skill\"].apply(lambda x: translation(str(x)))\n",
    "#skill_df[\"skill\"] = skill_df[\"skill\"].apply(lambda x: x.replace(\",,\", \",\"))\n",
    "#\n",
    "#total_skills = skill_df.groupby(by=\"user_id\", as_index=False).agg(\n",
    "#    total_skills=(\n",
    "#        \"skill\",\n",
    "#        lambda x: len([s.strip() for s in \", \".join(x.unique()).split(\",\")]),\n",
    "#    )\n",
    "#)\n",
    "#\n",
    "#\n",
    "#skill_df['skill'] = skill_df['skill'].apply(lambda x: x.replace(',', ' '))\n",
    "#skill_df = skill_df.groupby(by=\"user_id\", as_index=False).agg(\n",
    "#    {\"skill\": lambda x: \" \".join(x.unique())}\n",
    "#)\n",
    "#\n",
    "#\n",
    "#vectorizer = CountVectorizer(\n",
    "#    max_features=5, stop_words=stopwords.words(\"english\"), ngram_range=(1, 2), tokenizer=my_tokenizer\n",
    "#)\n",
    "#\n",
    "#\n",
    "#pd.DataFrame(\n",
    "#        vectorizer.fit_transform(skill_df[\"skill\"]).toarray(),\n",
    "#        columns=[f\"skill_{str(f)}\" for f in vectorizer.get_feature_names()],\n",
    "#    ).assign(user_id=skill_df[\"user_id\"]).merge(total_skills, on=[\"user_id\"], how=\"left\")"
   ]
  },
  {
   "cell_type": "code",
   "execution_count": 46,
   "metadata": {},
   "outputs": [],
   "source": [
    "#df_ = df_.drop_duplicates()\n",
    "#total_skills = df_.groupby(by=\"user_id\", as_index=False).agg(\n",
    "#    total_skills=(\n",
    "#        \"skill\",\n",
    "#        lambda x: len([s.strip() for s in \", \".join(x.unique()).split(\",\")]),\n",
    "#    )\n",
    "#)\n",
    "#df_ = df_.groupby(by=\"user_id\", as_index=False).agg(\n",
    "#    {\"skill\": lambda x: \" \".join(x.unique())}\n",
    "#)\n",
    "#\n",
    "#vectorizer = CountVectorizer(\n",
    "#    max_features=size, stop_words=stopwords.words(\"english\"), ngram_range=(1, 2), tokenizer=my_tokenizer\n",
    "#)\n",
    "#\n",
    "#return (\n",
    "#    pd.DataFrame(\n",
    "#        vectorizer.fit_transform(df_[\"skill\"]).toarray(),\n",
    "#        columns=[f\"{seperator}_{str(f)}\" for f in vectorizer.get_feature_names()],\n",
    "#    )\n",
    "#    .assign(user_id=df_[\"user_id\"])\n",
    "#    .merge(total_skills, on=[\"user_id\"], how=\"left\")\n",
    "#)"
   ]
  },
  {
   "cell_type": "code",
   "execution_count": 21,
   "metadata": {},
   "outputs": [],
   "source": [
    "#'A, B'.replace(', ', ',').split(',')"
   ]
  },
  {
   "cell_type": "code",
   "execution_count": 11,
   "metadata": {},
   "outputs": [],
   "source": [
    "#df['skill'].value_counts()[:20]"
   ]
  },
  {
   "cell_type": "code",
   "execution_count": 12,
   "metadata": {},
   "outputs": [],
   "source": [
    "#df.loc[df['skill'].str.contains('c#'), 'skill'].value_counts()"
   ]
  },
  {
   "cell_type": "code",
   "execution_count": null,
   "metadata": {},
   "outputs": [],
   "source": [
    "#df = df.groupby(by = 'user_id', as_index=False).agg({'skill': lambda x: ' '.join(x.unique())})\n",
    "#\n",
    "#vectorizer = CountVectorizer(max_features=200, stop_words=stopwords.words(\"english\"))\n",
    "#\n",
    "#pd.DataFrame(\n",
    "#    vectorizer.fit_transform(df[\"skill\"]).toarray(),\n",
    "#    columns=vectorizer.get_feature_names(),\n",
    "#).assign(user_id = df['user_id'])"
   ]
  },
  {
   "cell_type": "code",
   "execution_count": null,
   "metadata": {},
   "outputs": [],
   "source": [
    "#df.loc[df['skill'].str.contains('Back', regex=False), 'skill'].value_counts()[:20]"
   ]
  },
  {
   "cell_type": "code",
   "execution_count": null,
   "metadata": {},
   "outputs": [],
   "source": []
  }
 ],
 "metadata": {
  "kernelspec": {
   "display_name": "Python 3.9.13 ('base')",
   "language": "python",
   "name": "python3"
  },
  "language_info": {
   "codemirror_mode": {
    "name": "ipython",
    "version": 3
   },
   "file_extension": ".py",
   "mimetype": "text/x-python",
   "name": "python",
   "nbconvert_exporter": "python",
   "pygments_lexer": "ipython3",
   "version": "3.9.13"
  },
  "orig_nbformat": 4,
  "vscode": {
   "interpreter": {
    "hash": "35371f657a4770bb32286f2b1d2d1b12c4bc2be917cf11a1e3547ec3dbe6c433"
   }
  }
 },
 "nbformat": 4,
 "nbformat_minor": 2
}

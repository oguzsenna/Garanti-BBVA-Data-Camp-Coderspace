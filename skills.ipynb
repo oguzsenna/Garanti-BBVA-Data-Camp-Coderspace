{
 "cells": [
  {
   "cell_type": "code",
   "execution_count": 35,
   "metadata": {},
   "outputs": [],
   "source": [
    "import warnings\n",
    "import pandas as pd\n",
    "from tqdm import tqdm\n",
    "warnings.filterwarnings('ignore')"
   ]
  },
  {
   "cell_type": "code",
   "execution_count": 140,
   "metadata": {},
   "outputs": [],
   "source": [
    "def load_skills(path: str, size: int = 20, seperator: str = 'skill') -> pd.DataFrame:\n",
    "\n",
    "    df_ = pd.read_csv(path)\n",
    "    print(f'Frequency of top 20 skills before preprocess: {df_[\"skill\"].value_counts()[:20].values.sum()}')\n",
    "    df_['skill'] = df_['skill'].apply(lambda x: x.strip())\n",
    "\n",
    "    df_.loc[df_['skill'] == 'Web Geliştirme', 'skill'] = 'Web Development'\n",
    "    df_.loc[df_['skill'] == 'Web Uygulamaları', 'skill'] = 'Web Applications'\n",
    "    df_.loc[df_['skill'] == 'Proje Yönetimi', 'skill'] = 'Project Management'\n",
    "    df_.loc[df_['skill'] == 'Programlama', 'skill'] = 'Programming'\n",
    "    df_.loc[df_['skill'] == 'Object-Oriented Programming (OOP)', 'skill'] = 'OOP'\n",
    "    df_.loc[df_['skill'] == 'Object Oriented Programming (OOP)', 'skill'] = 'OOP'\n",
    "    df_.loc[df_['skill'] == 'OOP (Nesne Yönelimli Programlama)', 'skill'] = 'OOP'\n",
    "    df_.loc[df_['skill'] == 'OOP(Object Oriented Programming)', 'skill'] = 'OOP'\n",
    "    df_.loc[df_['skill'] == 'OOP (Object Oriented Programming)', 'skill'] = 'OOP'\n",
    "    df_.loc[df_['skill'] == 'Objektorientierte Programmierung (OOP)', 'skill'] = 'OOP'\n",
    "    df_.loc[df_['skill'] == 'Object-Oriented Programming(OOP)', 'skill'] = 'OOP'\n",
    "    df_.loc[df_['skill'] == 'OOP(Object Orianted Programming)', 'skill'] = 'OOP'\n",
    "    df_.loc[df_['skill'] == 'OOP (Nesne Yönelimli Programlama', 'skill'] = 'OOP'\n",
    "    df_.loc[df_['skill'] == 'OOP programming and implementing design patterns', 'skill'] = 'OOP'\n",
    "    df_.loc[df_['skill'] == 'OOP(Object-Oriented Programming)', 'skill'] = 'OOP'\n",
    "    df_.loc[df_['skill'] == 'Nesne Yönelimli Programlama(OOP)', 'skill'] = 'OOP'\n",
    "    df_.loc[df_['skill'] == 'Object Oriented Programming(OOP)', 'skill'] = 'OOP'\n",
    "    df_.loc[df_['skill'] == 'Programación orientada a objetos (OOP)', 'skill'] = 'OOP'\n",
    "    df_.loc[df_['skill'] == 'OOP ( Object Oriented Programming )', 'skill'] = 'OOP'\n",
    "    df_.loc[df_['skill'] == 'OOP (Object-Oriented Programming)', 'skill'] = 'OOP'\n",
    "    df_.loc[df_['skill'] == 'OOP ( Object - Oriented Programming )', 'skill'] = 'OOP'\n",
    "    df_.loc[df_['skill'] == 'OOP(Nesne Yönelimli Programlama)', 'skill'] = 'OOP'\n",
    "    df_.loc[df_['skill'] == 'Object-oriented Programming (OOP)', 'skill'] = 'OOP'\n",
    "    df_.loc[df_['skill'] == 'C, C++ (OOP), Linux', 'skill'] = 'OOP'\n",
    "    df_.loc[df_['skill'] == 'OOP Design', 'skill'] = 'OOP'\n",
    "    df_.loc[df_['skill'] == 'Advanced OOP', 'skill'] = 'OOP'\n",
    "    df_.loc[df_['skill'] == 'Python (Programming Language)', 'skill'] = 'Python'\n",
    "    df_.loc[df_['skill'] == 'Python (Programmiersprache)', 'skill'] = 'Python'\n",
    "    df_.loc[df_['skill'] == 'Python Programming Language', 'skill'] = 'Python'\n",
    "    df_.loc[df_['skill'] == 'Ptyhon', 'skill'] = 'Python'\n",
    "    df_.loc[df_['skill'] == 'Phyton', 'skill'] = 'Python'\n",
    "    df_.loc[df_['skill'] == 'C (Programming Language)', 'skill'] = 'C'\n",
    "    df_.loc[df_['skill'] == 'Swift (Programming Language)', 'skill'] = 'Swift'\n",
    "    df_.loc[df_['skill'] == 'Go (Programming Language)', 'skill'] = 'Go'\n",
    "    df_.loc[df_['skill'] == 'R (Programming Language)', 'skill'] = 'R'\n",
    "    df_.loc[df_['skill'] == 'data science', 'skill'] = 'Data Science'\n",
    "    df_.loc[df_['skill'] == 'Data science', 'skill'] = 'Data Science'\n",
    "    df_.loc[df_['skill'] == 'Microsoft Teknolojileri', 'skill'] = 'Microsoft Technologies'\n",
    "    df_.loc[df_['skill'] == 'Microsoft Sunucular', 'skill'] = 'Microsoft Servers'\n",
    "    df_.loc[df_['skill'] == 'microsoft', 'skill'] = 'Microsoft'\n",
    "    df_.loc[df_['skill'] == 'MsSQL database', 'skill'] = 'Microsoft SQL Server'\n",
    "    df_.loc[df_['skill'] == 'MsSQL Server', 'skill'] = 'Microsoft SQL Server'\n",
    "    df_.loc[df_['skill'] == 'MsSQL', 'skill'] = 'Microsoft SQL Server'\n",
    "    df_.loc[df_['skill'] == 'Amazon Web Services (AWS)', 'skill'] = 'AWS'\n",
    "    df_.loc[df_['skill'] == 'Amazon Web Hizmetleri (AWS)', 'skill'] = 'AWS'\n",
    "    df_.loc[df_['skill'] == 'Amazon Web Services', 'skill'] = 'AWS'\n",
    "    df_.loc[df_['skill'] == 'machine learning', 'skill'] = 'Machine Learning'\n",
    "    df_.loc[df_['skill'] == 'Machine learning', 'skill'] = 'Machine Learning'\n",
    "    df_.loc[df_['skill'] == 'Makine Öğrenmesi/Machine Learning', 'skill'] = 'Machine Learning'\n",
    "    df_.loc[df_['skill'] == 'Artificial Intelligence (AI)', 'skill'] = 'Artificial Intelligence'\n",
    "    df_.loc[df_['skill'] == 'Artificial intelligence', 'skill'] = 'Artificial Intelligence'\n",
    "    df_.loc[df_['skill'] == 'Yazılım Proje Yönetimi', 'skill'] = 'Software Project Management'\n",
    "    df_.loc[df_['skill'] == 'Proje Planlama', 'skill'] = 'Project Planning'\n",
    "    df_.loc[df_['skill'] == 'İngilizce', 'skill'] = 'English'\n",
    "    df_.loc[df_['skill'] == 'english', 'skill'] = 'English'\n",
    "    df_.loc[df_['skill'] == 'git', 'skill'] = 'Git'\n",
    "    df_.loc[df_['skill'] == 'github', 'skill'] = 'GitHub'\n",
    "    df_.loc[df_['skill'] == 'Yazılım Geliştirme', 'skill'] = 'Software Development'\n",
    "    df_.loc[df_['skill'] == 'Yazılım Mühendisliği', 'skill'] = 'Software Engineering'\n",
    "    df_.loc[df_['skill'] == 'Yazılım Mühendisleri', 'skill'] = 'Software Engineering'\n",
    "    df_.loc[df_['skill'] == 'Yazılım Tasarımı', 'skill'] = 'Software Design'\n",
    "    df_.loc[df_['skill'] == 'Yazılım', 'skill'] = 'Software'\n",
    "    df_.loc[df_['skill'] == 'yazılım', 'skill'] = 'Software'\n",
    "    df_.loc[df_['skill'] == 'Açık Kaynak Yazılımı', 'skill'] = 'Open Source Software'\n",
    "    df_.loc[df_['skill'] == 'Yazılım Geliştirme Metodolojileri', 'skill'] = 'Software Development Methodologies'\n",
    "    df_.loc[df_['skill'] == 'Yazılım Kalitesi', 'skill'] = 'Software Quality'\n",
    "    df_.loc[df_['skill'] == 'Yazılım Konfigürasyon Yönetimi', 'skill'] = 'Software Configuration Management'\n",
    "    df_.loc[df_['skill'] == 'Yazılım Çözümleri', 'skill'] = 'Software Solutions'\n",
    "    df_.loc[df_['skill'] == 'Yazılım Dokümantasyonu', 'skill'] = 'Software Documentation'\n",
    "    df_.loc[df_['skill'] == 'Yazılım Kalite Güvencesi', 'skill'] = 'Software Quality Assurance'\n",
    "    df_.loc[df_['skill'] == 'matlab', 'skill'] = 'Matlab'\n",
    "    df_.loc[df_['skill'] == 'Php', 'skill'] = 'PHP'   \n",
    "    df_.loc[df_['skill'] == 'java', 'skill'] = 'Java' \n",
    "    df_.loc[df_['skill'] == 'java dili', 'skill'] = 'Java' \n",
    "    df_.loc[df_['skill'] == 'javascript', 'skill'] = 'JavaScript'\n",
    "    df_.loc[df_['skill'] == 'java script', 'skill'] = 'JavaScript'\n",
    "    df_.loc[df_['skill'] == 'html', 'skill'] = 'HTML'\n",
    "    df_.loc[df_['skill'] == 'My Sql', 'skill'] = 'MySQL'\n",
    "    df_.loc[df_['skill'] == 'English B2', 'skill'] = 'English'\n",
    "    df_.loc[df_['skill'] == 'English C1', 'skill'] = 'English'\n",
    "    df_.loc[df_['skill'] == 'jquery', 'skill'] = 'jQuery' \n",
    "    df_.loc[df_['skill'] == 'Mssql', 'skill'] = 'Microsoft SQL Server'\n",
    "    df_.loc[df_['skill'] == 'mssql', 'skill'] = 'Microsoft SQL Server'\n",
    "    df_.loc[df_['skill'] == 'proje yönetimi', 'skill'] = 'Project Management'\n",
    "    df_.loc[df_['skill'] == 'project management', 'skill'] = 'Project Management'\n",
    "    \n",
    "    print(f'Frequency of top 20 skills after preprocess: {df_[\"skill\"].value_counts()[:20].values.sum()}')\n",
    "\n",
    "    df_ = df_.drop_duplicates()\n",
    "    \n",
    "    most_freq_skills = df_['skill'].value_counts().keys()[:size].tolist()\n",
    "    grouped = df_.groupby(by='user_id', as_index=False).agg({'skill': 'unique'})\n",
    "    for skill in tqdm(most_freq_skills):\n",
    "        grouped[f'{seperator}_{skill}'] = grouped['skill'].apply(lambda x: 1 if skill in x else 0)\n",
    "\n",
    "    grouped = grouped.drop(columns=['skill'], axis=1)\n",
    "    return grouped\n"
   ]
  },
  {
   "cell_type": "code",
   "execution_count": 150,
   "metadata": {},
   "outputs": [],
   "source": [
    "#df = load_skills('../../../datasets/garanti-bbva-data-camp/skills.csv')\n",
    "\n",
    "#df"
   ]
  },
  {
   "cell_type": "code",
   "execution_count": 151,
   "metadata": {},
   "outputs": [],
   "source": [
    "#df['skill'].value_counts()[20:40]"
   ]
  },
  {
   "cell_type": "code",
   "execution_count": 152,
   "metadata": {},
   "outputs": [],
   "source": [
    "#df.loc[df['skill'].str.contains('web'), 'skill'].value_counts()[:20]"
   ]
  },
  {
   "cell_type": "code",
   "execution_count": null,
   "metadata": {},
   "outputs": [],
   "source": []
  }
 ],
 "metadata": {
  "kernelspec": {
   "display_name": "Python 3.9.13 ('base')",
   "language": "python",
   "name": "python3"
  },
  "language_info": {
   "codemirror_mode": {
    "name": "ipython",
    "version": 3
   },
   "file_extension": ".py",
   "mimetype": "text/x-python",
   "name": "python",
   "nbconvert_exporter": "python",
   "pygments_lexer": "ipython3",
   "version": "3.9.13"
  },
  "orig_nbformat": 4,
  "vscode": {
   "interpreter": {
    "hash": "35371f657a4770bb32286f2b1d2d1b12c4bc2be917cf11a1e3547ec3dbe6c433"
   }
  }
 },
 "nbformat": 4,
 "nbformat_minor": 2
}

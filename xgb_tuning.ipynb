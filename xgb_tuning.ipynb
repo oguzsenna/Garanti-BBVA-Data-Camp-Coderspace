{
 "cells": [
  {
   "cell_type": "code",
   "execution_count": 1,
   "metadata": {},
   "outputs": [],
   "source": [
    "import os\n",
    "import gc\n",
    "import optuna\n",
    "import warnings\n",
    "import numpy as np\n",
    "from utils import *\n",
    "import pandas as pd\n",
    "from copy import deepcopy\n",
    "from xgboost import XGBClassifier\n",
    "from catboost import CatBoostClassifier\n",
    "from train_models import get_model_scores\n",
    "from sklearn.model_selection import train_test_split, KFold, StratifiedKFold, cross_val_score\n",
    "from sklearn.metrics import accuracy_score, f1_score, classification_report\n",
    "warnings.filterwarnings('ignore')\n",
    "%run skills.ipynb\n",
    "%run languages.ipynb\n",
    "%run work_experiences.ipynb\n",
    "%run education.ipynb\n",
    "\n",
    "class config:\n",
    "    train_path = '../../../datasets/garanti-bbva-data-camp/train_users.csv'\n",
    "    test_path = '../../../datasets/garanti-bbva-data-camp/test_users.csv'\n",
    "    sub_path = '../../../datasets/garanti-bbva-data-camp/submission.csv'\n",
    "    skills_path = '../../../datasets/garanti-bbva-data-camp/clean_skills_v2.csv'\n",
    "    languages_path = '../../../datasets/garanti-bbva-data-camp/clean_language.csv'\n",
    "    education_path = '../../../datasets/garanti-bbva-data-camp/clean_education_v2.csv'\n",
    "    exp_path = '../../../datasets/garanti-bbva-data-camp/work_experiences.csv'\n",
    "    seed = 42\n",
    "    n_folds = 8"
   ]
  },
  {
   "cell_type": "code",
   "execution_count": 2,
   "metadata": {},
   "outputs": [
    {
     "name": "stdout",
     "output_type": "stream",
     "text": [
      "train_df shape: (53019, 4)\n",
      "test_df shape: (13255, 3)\n"
     ]
    },
    {
     "name": "stderr",
     "output_type": "stream",
     "text": [
      "100%|██████████| 50/50 [00:01<00:00, 29.39it/s]\n",
      "100%|██████████| 18/18 [00:00<00:00, 31.10it/s]\n"
     ]
    },
    {
     "data": {
      "text/html": [
       "<div>\n",
       "<style scoped>\n",
       "    .dataframe tbody tr th:only-of-type {\n",
       "        vertical-align: middle;\n",
       "    }\n",
       "\n",
       "    .dataframe tbody tr th {\n",
       "        vertical-align: top;\n",
       "    }\n",
       "\n",
       "    .dataframe thead th {\n",
       "        text-align: right;\n",
       "    }\n",
       "</style>\n",
       "<table border=\"1\" class=\"dataframe\">\n",
       "  <thead>\n",
       "    <tr style=\"text-align: right;\">\n",
       "      <th></th>\n",
       "      <th>user_id</th>\n",
       "      <th>industry</th>\n",
       "      <th>location</th>\n",
       "      <th>moved_after_2019</th>\n",
       "      <th>location_based_on_tr</th>\n",
       "      <th>skill_.net</th>\n",
       "      <th>skill_administration</th>\n",
       "      <th>skill_agile</th>\n",
       "      <th>skill_agile methodologies</th>\n",
       "      <th>skill_ajax</th>\n",
       "      <th>...</th>\n",
       "      <th>company_nunique_employees</th>\n",
       "      <th>company_lifetime</th>\n",
       "      <th>company_last_hire</th>\n",
       "      <th>avg_days_to_quit_diff</th>\n",
       "      <th>avg_days_to_quit_ratio</th>\n",
       "      <th>company_hire_ratio</th>\n",
       "      <th>population</th>\n",
       "      <th>nunique_company_by_industries</th>\n",
       "      <th>active_employees_by_companies</th>\n",
       "      <th>nunique_industries_by_companies</th>\n",
       "    </tr>\n",
       "  </thead>\n",
       "  <tbody>\n",
       "    <tr>\n",
       "      <th>0</th>\n",
       "      <td>1301</td>\n",
       "      <td>Information Technology and Services</td>\n",
       "      <td>ISTANBUL</td>\n",
       "      <td>1.0</td>\n",
       "      <td>1</td>\n",
       "      <td>0.0</td>\n",
       "      <td>0.0</td>\n",
       "      <td>1.0</td>\n",
       "      <td>1.0</td>\n",
       "      <td>0.0</td>\n",
       "      <td>...</td>\n",
       "      <td>1410.0</td>\n",
       "      <td>11902.0</td>\n",
       "      <td>31.0</td>\n",
       "      <td>465.280537</td>\n",
       "      <td>2.040896</td>\n",
       "      <td>8.441135</td>\n",
       "      <td>15907951.0</td>\n",
       "      <td>3285.0</td>\n",
       "      <td>665.0</td>\n",
       "      <td>28.0</td>\n",
       "    </tr>\n",
       "    <tr>\n",
       "      <th>1</th>\n",
       "      <td>6950</td>\n",
       "      <td>Internet</td>\n",
       "      <td>ISTANBUL</td>\n",
       "      <td>0.0</td>\n",
       "      <td>1</td>\n",
       "      <td>0.0</td>\n",
       "      <td>0.0</td>\n",
       "      <td>0.0</td>\n",
       "      <td>0.0</td>\n",
       "      <td>0.0</td>\n",
       "      <td>...</td>\n",
       "      <td>66.0</td>\n",
       "      <td>1887.0</td>\n",
       "      <td>61.0</td>\n",
       "      <td>-131.480769</td>\n",
       "      <td>0.749680</td>\n",
       "      <td>28.590909</td>\n",
       "      <td>15907951.0</td>\n",
       "      <td>744.0</td>\n",
       "      <td>53.0</td>\n",
       "      <td>6.0</td>\n",
       "    </tr>\n",
       "    <tr>\n",
       "      <th>2</th>\n",
       "      <td>4880</td>\n",
       "      <td>Online Media</td>\n",
       "      <td>TURKEY</td>\n",
       "      <td>0.0</td>\n",
       "      <td>1</td>\n",
       "      <td>0.0</td>\n",
       "      <td>0.0</td>\n",
       "      <td>0.0</td>\n",
       "      <td>0.0</td>\n",
       "      <td>1.0</td>\n",
       "      <td>...</td>\n",
       "      <td>4.0</td>\n",
       "      <td>610.0</td>\n",
       "      <td>610.0</td>\n",
       "      <td>NaN</td>\n",
       "      <td>NaN</td>\n",
       "      <td>152.500000</td>\n",
       "      <td>NaN</td>\n",
       "      <td>32.0</td>\n",
       "      <td>4.0</td>\n",
       "      <td>1.0</td>\n",
       "    </tr>\n",
       "    <tr>\n",
       "      <th>3</th>\n",
       "      <td>26046</td>\n",
       "      <td>Telecommunications</td>\n",
       "      <td>ISTANBUL</td>\n",
       "      <td>0.0</td>\n",
       "      <td>1</td>\n",
       "      <td>0.0</td>\n",
       "      <td>0.0</td>\n",
       "      <td>0.0</td>\n",
       "      <td>0.0</td>\n",
       "      <td>0.0</td>\n",
       "      <td>...</td>\n",
       "      <td>1410.0</td>\n",
       "      <td>11902.0</td>\n",
       "      <td>31.0</td>\n",
       "      <td>-2496.719463</td>\n",
       "      <td>0.267609</td>\n",
       "      <td>8.441135</td>\n",
       "      <td>15907951.0</td>\n",
       "      <td>680.0</td>\n",
       "      <td>665.0</td>\n",
       "      <td>28.0</td>\n",
       "    </tr>\n",
       "    <tr>\n",
       "      <th>4</th>\n",
       "      <td>11005</td>\n",
       "      <td>Banking</td>\n",
       "      <td>ISTANBUL</td>\n",
       "      <td>0.0</td>\n",
       "      <td>1</td>\n",
       "      <td>1.0</td>\n",
       "      <td>0.0</td>\n",
       "      <td>0.0</td>\n",
       "      <td>0.0</td>\n",
       "      <td>0.0</td>\n",
       "      <td>...</td>\n",
       "      <td>678.0</td>\n",
       "      <td>5235.0</td>\n",
       "      <td>31.0</td>\n",
       "      <td>-299.166667</td>\n",
       "      <td>0.736726</td>\n",
       "      <td>7.721239</td>\n",
       "      <td>15907951.0</td>\n",
       "      <td>429.0</td>\n",
       "      <td>402.0</td>\n",
       "      <td>17.0</td>\n",
       "    </tr>\n",
       "  </tbody>\n",
       "</table>\n",
       "<p>5 rows × 291 columns</p>\n",
       "</div>"
      ],
      "text/plain": [
       "   user_id                             industry  location  moved_after_2019  \\\n",
       "0     1301  Information Technology and Services  ISTANBUL               1.0   \n",
       "1     6950                             Internet  ISTANBUL               0.0   \n",
       "2     4880                         Online Media    TURKEY               0.0   \n",
       "3    26046                   Telecommunications  ISTANBUL               0.0   \n",
       "4    11005                              Banking  ISTANBUL               0.0   \n",
       "\n",
       "   location_based_on_tr  skill_.net  skill_administration  skill_agile  \\\n",
       "0                     1         0.0                   0.0          1.0   \n",
       "1                     1         0.0                   0.0          0.0   \n",
       "2                     1         0.0                   0.0          0.0   \n",
       "3                     1         0.0                   0.0          0.0   \n",
       "4                     1         1.0                   0.0          0.0   \n",
       "\n",
       "   skill_agile methodologies  skill_ajax  ...  company_nunique_employees  \\\n",
       "0                        1.0         0.0  ...                     1410.0   \n",
       "1                        0.0         0.0  ...                       66.0   \n",
       "2                        0.0         1.0  ...                        4.0   \n",
       "3                        0.0         0.0  ...                     1410.0   \n",
       "4                        0.0         0.0  ...                      678.0   \n",
       "\n",
       "   company_lifetime  company_last_hire  avg_days_to_quit_diff  \\\n",
       "0           11902.0               31.0             465.280537   \n",
       "1            1887.0               61.0            -131.480769   \n",
       "2             610.0              610.0                    NaN   \n",
       "3           11902.0               31.0           -2496.719463   \n",
       "4            5235.0               31.0            -299.166667   \n",
       "\n",
       "   avg_days_to_quit_ratio  company_hire_ratio  population  \\\n",
       "0                2.040896            8.441135  15907951.0   \n",
       "1                0.749680           28.590909  15907951.0   \n",
       "2                     NaN          152.500000         NaN   \n",
       "3                0.267609            8.441135  15907951.0   \n",
       "4                0.736726            7.721239  15907951.0   \n",
       "\n",
       "   nunique_company_by_industries  active_employees_by_companies  \\\n",
       "0                         3285.0                          665.0   \n",
       "1                          744.0                           53.0   \n",
       "2                           32.0                            4.0   \n",
       "3                          680.0                          665.0   \n",
       "4                          429.0                          402.0   \n",
       "\n",
       "   nunique_industries_by_companies  \n",
       "0                             28.0  \n",
       "1                              6.0  \n",
       "2                              1.0  \n",
       "3                             28.0  \n",
       "4                             17.0  \n",
       "\n",
       "[5 rows x 291 columns]"
      ]
     },
     "execution_count": 2,
     "metadata": {},
     "output_type": "execute_result"
    }
   ],
   "source": [
    "train_df = pd.read_csv(config.train_path)\n",
    "test_df = pd.read_csv(config.test_path)\n",
    "sub = pd.read_csv(config.sub_path)\n",
    "\n",
    "print(f'train_df shape: {train_df.shape}')\n",
    "print(f'test_df shape: {test_df.shape}')\n",
    "df = train_df.append(test_df).reset_index(drop = True)\n",
    "\n",
    "def fix_location(dataframe: pd.DataFrame, feature: str = 'location') -> pd.DataFrame:\n",
    "\n",
    "    tr_cities = load_tr_cities()\n",
    "    df_ = dataframe.copy()\n",
    "    df_.loc[df_[feature].astype(str).str.contains('Kahraman Maras'), feature] = 'Kahramanmaras, Turkey'\n",
    "    df_.loc[df_[feature].astype(str).str.contains('Şanliurfa'), feature] = 'Sanliurfa, Turkey'\n",
    "    df_.loc[df_[feature].astype(str).str.contains('İçel'), feature] = 'Mersin, Turkey'\n",
    "    df_.loc[df_[feature].astype(str).str.contains('Afyon'), feature] = 'Afyonkarahisar, Turkey'\n",
    "    df_[feature] = df_[feature].apply(lambda x: str(x).replace('Türkiye', 'Turkey'))\n",
    "    df_[feature] = df_[feature].apply(lambda x: x.upper().strip())\n",
    "    df_[feature] = df_[feature].apply(lambda x: translation(str(x)))\n",
    "    for city in tr_cities:\n",
    "        df_[feature] = df_[feature].apply(lambda x: city if city in x else x)\n",
    "    df_[f'{feature}_based_on_tr'] = df_[feature].apply(lambda x: 1 if x in tr_cities or x == 'TURKEY' else 0)\n",
    "        \n",
    "    return df_\n",
    "\n",
    "skills_df = load_skills(config.skills_path, 120, exact_match=False)\n",
    "lang_df = load_languages(config.languages_path)\n",
    "school_df = load_school(config.education_path, 50, exact_match = True)\n",
    "degree_df = load_degree(config.education_path, 18, exact_match = True)\n",
    "study_df = load_study(config.education_path, 55, exact_match = False)\n",
    "exp_df = load_work_experiences(config.exp_path)\n",
    "\n",
    "df = fix_location(df)\n",
    "df = df.merge(skills_df, on = ['user_id'], how = 'left')\n",
    "df = df.merge(lang_df, on = ['user_id'], how = 'left')\n",
    "df = df.merge(school_df, on = ['user_id'], how = 'left')\n",
    "df = df.merge(degree_df, on = ['user_id'], how = 'left')\n",
    "df = df.merge(study_df, on = ['user_id'], how = 'left')\n",
    "df = df.merge(exp_df, on = ['user_id'], how = 'left')\n",
    "df = add_populations(df)\n",
    "#df = add_employment(df)\n",
    "\n",
    "df['nunique_company_by_industries'] = df.groupby(by = 'industry')['company_id'].transform('nunique')\n",
    "df['active_employees_by_companies'] = df.groupby(by = 'company_id')['user_id'].transform('nunique')\n",
    "df['nunique_industries_by_companies'] = df.groupby(by = 'company_id')['industry'].transform('nunique')\n",
    "\n",
    "train_df = df.loc[df['moved_after_2019'].notnull()]\n",
    "test_df = df.loc[df['moved_after_2019'].isnull()]\n",
    "train_df, test_df = label_encode([\"company_id\", 'location'], train_df, test_df, fillna=True)\n",
    "df = train_df.append(test_df).reset_index(drop = True)\n",
    "\n",
    "df.head()"
   ]
  },
  {
   "cell_type": "code",
   "execution_count": 5,
   "metadata": {},
   "outputs": [
    {
     "name": "stdout",
     "output_type": "stream",
     "text": [
      "train_set: (53019, 290)\n",
      "test_set: (13255, 290)\n"
     ]
    }
   ],
   "source": [
    "target = 'moved_after_2019'\n",
    "cat_features = ['industry', 'location', 'company_id',\n",
    "                'employee_last_experience_year',\n",
    "                'employee_last_experience_month',\n",
    "                #'employee_last_location',\n",
    "                #'company_2th_id', 'company_3th_id'\n",
    "                'employee_first_experience_year',\n",
    "                #'employee_first_experience_month'\n",
    "                ]\n",
    "drop_features = ['user_id']\n",
    "\n",
    "for caterogical_col in cat_features:\n",
    "    df[caterogical_col] = df[caterogical_col].astype(str).astype(\"category\")\n",
    "\n",
    "train_set = df.loc[df[target].notnull()].drop(columns=drop_features, axis = 1)\n",
    "test_set = df.loc[df[target].isnull()].drop(columns=drop_features, axis = 1)\n",
    "\n",
    "print(f'train_set: {train_set.shape}')\n",
    "print(f'test_set: {test_set.shape}')"
   ]
  },
  {
   "cell_type": "code",
   "execution_count": 6,
   "metadata": {},
   "outputs": [],
   "source": [
    "X = train_set.drop(columns = [target], axis = 1)\n",
    "y = train_set[target]\n",
    "skf = StratifiedKFold(n_splits=config.n_folds, shuffle=True, random_state=config.seed)\n",
    "\n",
    "def objective(trial):\n",
    "    \n",
    "    params = {\n",
    "              'max_depth': trial.suggest_int('max_depth', 6, 13),\n",
    "              'learning_rate': trial.suggest_float('learning_rate', 0.005, 0.03),\n",
    "              'subsample': trial.suggest_float('subsample', 0.5, 0.99),\n",
    "              'tree_method': trial.suggest_categorical('tree_method', ['hist']),\n",
    "              'enable_categorical': trial.suggest_categorical('enable_categorical', [True]),\n",
    "              'random_state': trial.suggest_categorical('random_state', [config.seed]),\n",
    "              'n_estimators': trial.suggest_categorical('n_estimators', [5000]),\n",
    "              \"objective\": trial.suggest_categorical('objective', [\"binary:logistic\"]),\n",
    "              }\n",
    "\n",
    "    #scores = list()\n",
    "    #for idx, (train_ind, val_ind) in enumerate(skf.split(X, y)):\n",
    "    #    print(f\"fold: {idx+1}\")\n",
    "    #    model = XGBClassifier(**params)\n",
    "    #    X_train = X.iloc[train_ind]\n",
    "    #    y_train = y.iloc[train_ind]\n",
    "    #    X_val = X.iloc[val_ind]\n",
    "    #    y_val = y.iloc[val_ind]\n",
    "#\n",
    "    #    model.fit(\n",
    "    #        X_train,\n",
    "    #        y_train,\n",
    "    #        eval_set=[(X_val, y_val)],\n",
    "    #        early_stopping_rounds=500,\n",
    "    #        verbose=False,\n",
    "    #    )\n",
    "#\n",
    "    #    val_pred = model.predict(X_val)\n",
    "    #    scores.append(accuracy_score(y_val, val_pred))\n",
    "    #    del X_train, y_train, X_val, y_val\n",
    "    #    gc.collect()\n",
    "\n",
    "    return np.mean(scores)"
   ]
  },
  {
   "cell_type": "code",
   "execution_count": 7,
   "metadata": {},
   "outputs": [
    {
     "name": "stderr",
     "output_type": "stream",
     "text": [
      "\u001b[32m[I 2023-02-24 02:48:25,258]\u001b[0m A new study created in memory with name: no-name-58f370d1-4dbb-4aae-baae-f8f154aac031\u001b[0m\n"
     ]
    },
    {
     "name": "stdout",
     "output_type": "stream",
     "text": [
      "fold: 1\n",
      "fold: 2\n",
      "fold: 3\n",
      "fold: 4\n",
      "fold: 5\n",
      "fold: 6\n",
      "fold: 7\n",
      "fold: 8\n"
     ]
    },
    {
     "name": "stderr",
     "output_type": "stream",
     "text": [
      "\u001b[32m[I 2023-02-24 03:09:41,028]\u001b[0m Trial 0 finished with value: 0.7890377817416161 and parameters: {'max_depth': 12, 'learning_rate': 0.023456041389859038, 'subsample': 0.6639195818676509, 'tree_method': 'hist', 'enable_categorical': True, 'random_state': 42, 'n_estimators': 5000, 'objective': 'binary:logistic'}. Best is trial 0 with value: 0.7890377817416161.\u001b[0m\n"
     ]
    },
    {
     "name": "stdout",
     "output_type": "stream",
     "text": [
      "fold: 1\n",
      "fold: 2\n",
      "fold: 3\n",
      "fold: 4\n",
      "fold: 5\n",
      "fold: 6\n",
      "fold: 7\n",
      "fold: 8\n"
     ]
    },
    {
     "name": "stderr",
     "output_type": "stream",
     "text": [
      "\u001b[32m[I 2023-02-24 03:29:59,072]\u001b[0m Trial 1 finished with value: 0.7865482547758439 and parameters: {'max_depth': 9, 'learning_rate': 0.02850759027704462, 'subsample': 0.5571214533980214, 'tree_method': 'hist', 'enable_categorical': True, 'random_state': 42, 'n_estimators': 5000, 'objective': 'binary:logistic'}. Best is trial 0 with value: 0.7890377817416161.\u001b[0m\n"
     ]
    },
    {
     "name": "stdout",
     "output_type": "stream",
     "text": [
      "fold: 1\n",
      "fold: 2\n",
      "fold: 3\n",
      "fold: 4\n",
      "fold: 5\n",
      "fold: 6\n",
      "fold: 7\n",
      "fold: 8\n"
     ]
    },
    {
     "name": "stderr",
     "output_type": "stream",
     "text": [
      "\u001b[32m[I 2023-02-24 03:56:00,413]\u001b[0m Trial 2 finished with value: 0.7786643576200541 and parameters: {'max_depth': 6, 'learning_rate': 0.024714958709652846, 'subsample': 0.7458732190278717, 'tree_method': 'hist', 'enable_categorical': True, 'random_state': 42, 'n_estimators': 5000, 'objective': 'binary:logistic'}. Best is trial 0 with value: 0.7890377817416161.\u001b[0m\n"
     ]
    },
    {
     "name": "stdout",
     "output_type": "stream",
     "text": [
      "fold: 1\n",
      "fold: 2\n",
      "fold: 3\n",
      "fold: 4\n",
      "fold: 5\n",
      "fold: 6\n",
      "fold: 7\n",
      "fold: 8\n"
     ]
    },
    {
     "name": "stderr",
     "output_type": "stream",
     "text": [
      "\u001b[32m[I 2023-02-24 04:29:37,864]\u001b[0m Trial 3 finished with value: 0.7846998017428201 and parameters: {'max_depth': 8, 'learning_rate': 0.012277874607545966, 'subsample': 0.8465991434718548, 'tree_method': 'hist', 'enable_categorical': True, 'random_state': 42, 'n_estimators': 5000, 'objective': 'binary:logistic'}. Best is trial 0 with value: 0.7890377817416161.\u001b[0m\n"
     ]
    },
    {
     "name": "stdout",
     "output_type": "stream",
     "text": [
      "fold: 1\n",
      "fold: 2\n",
      "fold: 3\n",
      "fold: 4\n",
      "fold: 5\n",
      "fold: 6\n",
      "fold: 7\n",
      "fold: 8\n"
     ]
    },
    {
     "name": "stderr",
     "output_type": "stream",
     "text": [
      "\u001b[32m[I 2023-02-24 05:00:23,169]\u001b[0m Trial 4 finished with value: 0.7899621505501488 and parameters: {'max_depth': 11, 'learning_rate': 0.015238768735012887, 'subsample': 0.8023883794058948, 'tree_method': 'hist', 'enable_categorical': True, 'random_state': 42, 'n_estimators': 5000, 'objective': 'binary:logistic'}. Best is trial 4 with value: 0.7899621505501488.\u001b[0m\n"
     ]
    },
    {
     "name": "stdout",
     "output_type": "stream",
     "text": [
      "fold: 1\n",
      "fold: 2\n",
      "fold: 3\n",
      "fold: 4\n",
      "fold: 5\n",
      "fold: 6\n",
      "fold: 7\n",
      "fold: 8\n"
     ]
    },
    {
     "name": "stderr",
     "output_type": "stream",
     "text": [
      "\u001b[32m[I 2023-02-24 05:22:54,874]\u001b[0m Trial 5 finished with value: 0.7884343269733126 and parameters: {'max_depth': 11, 'learning_rate': 0.02111281915838466, 'subsample': 0.9171492031145694, 'tree_method': 'hist', 'enable_categorical': True, 'random_state': 42, 'n_estimators': 5000, 'objective': 'binary:logistic'}. Best is trial 4 with value: 0.7899621505501488.\u001b[0m\n"
     ]
    },
    {
     "name": "stdout",
     "output_type": "stream",
     "text": [
      "fold: 1\n",
      "fold: 2\n",
      "fold: 3\n",
      "fold: 4\n",
      "fold: 5\n",
      "fold: 6\n",
      "fold: 7\n",
      "fold: 8\n"
     ]
    },
    {
     "name": "stderr",
     "output_type": "stream",
     "text": [
      "\u001b[32m[I 2023-02-24 05:57:59,995]\u001b[0m Trial 6 finished with value: 0.7880571079804741 and parameters: {'max_depth': 10, 'learning_rate': 0.013849515737488254, 'subsample': 0.5209863401036159, 'tree_method': 'hist', 'enable_categorical': True, 'random_state': 42, 'n_estimators': 5000, 'objective': 'binary:logistic'}. Best is trial 4 with value: 0.7899621505501488.\u001b[0m\n"
     ]
    },
    {
     "name": "stdout",
     "output_type": "stream",
     "text": [
      "fold: 1\n",
      "fold: 2\n",
      "fold: 3\n",
      "fold: 4\n",
      "fold: 5\n",
      "fold: 6\n",
      "fold: 7\n",
      "fold: 8\n"
     ]
    },
    {
     "name": "stderr",
     "output_type": "stream",
     "text": [
      "\u001b[32m[I 2023-02-24 06:24:45,321]\u001b[0m Trial 7 finished with value: 0.7826815744081631 and parameters: {'max_depth': 7, 'learning_rate': 0.02560079409413906, 'subsample': 0.5647782965347632, 'tree_method': 'hist', 'enable_categorical': True, 'random_state': 42, 'n_estimators': 5000, 'objective': 'binary:logistic'}. Best is trial 4 with value: 0.7899621505501488.\u001b[0m\n"
     ]
    },
    {
     "name": "stdout",
     "output_type": "stream",
     "text": [
      "fold: 1\n",
      "fold: 2\n",
      "fold: 3\n",
      "fold: 4\n",
      "fold: 5\n",
      "fold: 6\n",
      "fold: 7\n",
      "fold: 8\n"
     ]
    },
    {
     "name": "stderr",
     "output_type": "stream",
     "text": [
      "\u001b[32m[I 2023-02-24 06:49:28,959]\u001b[0m Trial 8 finished with value: 0.7787773659429308 and parameters: {'max_depth': 6, 'learning_rate': 0.024895553214203985, 'subsample': 0.8336779189458778, 'tree_method': 'hist', 'enable_categorical': True, 'random_state': 42, 'n_estimators': 5000, 'objective': 'binary:logistic'}. Best is trial 4 with value: 0.7899621505501488.\u001b[0m\n"
     ]
    },
    {
     "name": "stdout",
     "output_type": "stream",
     "text": [
      "fold: 1\n",
      "fold: 2\n",
      "fold: 3\n",
      "fold: 4\n",
      "fold: 5\n",
      "fold: 6\n",
      "fold: 7\n",
      "fold: 8\n"
     ]
    },
    {
     "name": "stderr",
     "output_type": "stream",
     "text": [
      "\u001b[32m[I 2023-02-24 07:11:39,305]\u001b[0m Trial 9 finished with value: 0.7842471139080183 and parameters: {'max_depth': 7, 'learning_rate': 0.028988215816605885, 'subsample': 0.9105408707452315, 'tree_method': 'hist', 'enable_categorical': True, 'random_state': 42, 'n_estimators': 5000, 'objective': 'binary:logistic'}. Best is trial 4 with value: 0.7899621505501488.\u001b[0m\n"
     ]
    },
    {
     "name": "stdout",
     "output_type": "stream",
     "text": [
      "fold: 1\n",
      "fold: 2\n",
      "fold: 3\n",
      "fold: 4\n",
      "fold: 5\n",
      "fold: 6\n",
      "fold: 7\n",
      "fold: 8\n"
     ]
    },
    {
     "name": "stderr",
     "output_type": "stream",
     "text": [
      "\u001b[32m[I 2023-02-24 08:11:02,627]\u001b[0m Trial 10 finished with value: 0.7894527707284414 and parameters: {'max_depth': 13, 'learning_rate': 0.005928973695653176, 'subsample': 0.9868255639429704, 'tree_method': 'hist', 'enable_categorical': True, 'random_state': 42, 'n_estimators': 5000, 'objective': 'binary:logistic'}. Best is trial 4 with value: 0.7899621505501488.\u001b[0m\n"
     ]
    },
    {
     "name": "stdout",
     "output_type": "stream",
     "text": [
      "fold: 1\n",
      "fold: 2\n",
      "fold: 3\n",
      "fold: 4\n",
      "fold: 5\n",
      "fold: 6\n",
      "fold: 7\n",
      "fold: 8\n"
     ]
    },
    {
     "name": "stderr",
     "output_type": "stream",
     "text": [
      "\u001b[32m[I 2023-02-24 09:11:26,228]\u001b[0m Trial 11 finished with value: 0.7889247022727292 and parameters: {'max_depth': 13, 'learning_rate': 0.0054079847513112365, 'subsample': 0.9888178033711534, 'tree_method': 'hist', 'enable_categorical': True, 'random_state': 42, 'n_estimators': 5000, 'objective': 'binary:logistic'}. Best is trial 4 with value: 0.7899621505501488.\u001b[0m\n"
     ]
    },
    {
     "name": "stdout",
     "output_type": "stream",
     "text": [
      "fold: 1\n"
     ]
    },
    {
     "name": "stderr",
     "output_type": "stream",
     "text": [
      "\u001b[33m[W 2023-02-24 09:15:42,957]\u001b[0m Trial 12 failed because of the following error: KeyboardInterrupt()\u001b[0m\n",
      "Traceback (most recent call last):\n",
      "  File \"/Users/sercanyesiloz/opt/anaconda3/lib/python3.9/site-packages/optuna/study/_optimize.py\", line 196, in _run_trial\n",
      "    value_or_values = func(trial)\n",
      "  File \"/var/folders/67/wq_xsymd3jvc5w2fx1ld_18h0000gn/T/ipykernel_99820/2527391267.py\", line 27, in objective\n",
      "    model.fit(\n",
      "  File \"/Users/sercanyesiloz/opt/anaconda3/lib/python3.9/site-packages/xgboost/core.py\", line 620, in inner_f\n",
      "    return func(**kwargs)\n",
      "  File \"/Users/sercanyesiloz/opt/anaconda3/lib/python3.9/site-packages/xgboost/sklearn.py\", line 1516, in fit\n",
      "    self._Booster = train(\n",
      "  File \"/Users/sercanyesiloz/opt/anaconda3/lib/python3.9/site-packages/xgboost/core.py\", line 620, in inner_f\n",
      "    return func(**kwargs)\n",
      "  File \"/Users/sercanyesiloz/opt/anaconda3/lib/python3.9/site-packages/xgboost/training.py\", line 185, in train\n",
      "    bst.update(dtrain, i, obj)\n",
      "  File \"/Users/sercanyesiloz/opt/anaconda3/lib/python3.9/site-packages/xgboost/core.py\", line 1918, in update\n",
      "    _check_call(_LIB.XGBoosterUpdateOneIter(self.handle,\n",
      "KeyboardInterrupt\n"
     ]
    },
    {
     "ename": "KeyboardInterrupt",
     "evalue": "",
     "output_type": "error",
     "traceback": [
      "\u001b[0;31m---------------------------------------------------------------------------\u001b[0m",
      "\u001b[0;31mKeyboardInterrupt\u001b[0m                         Traceback (most recent call last)",
      "\u001b[0;32m/var/folders/67/wq_xsymd3jvc5w2fx1ld_18h0000gn/T/ipykernel_99820/2258614957.py\u001b[0m in \u001b[0;36m<module>\u001b[0;34m\u001b[0m\n\u001b[1;32m      1\u001b[0m \u001b[0mstudy\u001b[0m \u001b[0;34m=\u001b[0m \u001b[0moptuna\u001b[0m\u001b[0;34m.\u001b[0m\u001b[0mcreate_study\u001b[0m\u001b[0;34m(\u001b[0m\u001b[0mdirection\u001b[0m\u001b[0;34m=\u001b[0m\u001b[0;34m\"maximize\"\u001b[0m\u001b[0;34m)\u001b[0m\u001b[0;34m\u001b[0m\u001b[0;34m\u001b[0m\u001b[0m\n\u001b[0;32m----> 2\u001b[0;31m \u001b[0mstudy\u001b[0m\u001b[0;34m.\u001b[0m\u001b[0moptimize\u001b[0m\u001b[0;34m(\u001b[0m\u001b[0mobjective\u001b[0m\u001b[0;34m,\u001b[0m \u001b[0mn_trials\u001b[0m\u001b[0;34m=\u001b[0m\u001b[0;36m50\u001b[0m\u001b[0;34m,\u001b[0m \u001b[0mgc_after_trial\u001b[0m\u001b[0;34m=\u001b[0m\u001b[0;32mTrue\u001b[0m\u001b[0;34m)\u001b[0m\u001b[0;34m\u001b[0m\u001b[0;34m\u001b[0m\u001b[0m\n\u001b[0m",
      "\u001b[0;32m~/opt/anaconda3/lib/python3.9/site-packages/optuna/study/study.py\u001b[0m in \u001b[0;36moptimize\u001b[0;34m(self, func, n_trials, timeout, n_jobs, catch, callbacks, gc_after_trial, show_progress_bar)\u001b[0m\n\u001b[1;32m    417\u001b[0m         \"\"\"\n\u001b[1;32m    418\u001b[0m \u001b[0;34m\u001b[0m\u001b[0m\n\u001b[0;32m--> 419\u001b[0;31m         _optimize(\n\u001b[0m\u001b[1;32m    420\u001b[0m             \u001b[0mstudy\u001b[0m\u001b[0;34m=\u001b[0m\u001b[0mself\u001b[0m\u001b[0;34m,\u001b[0m\u001b[0;34m\u001b[0m\u001b[0;34m\u001b[0m\u001b[0m\n\u001b[1;32m    421\u001b[0m             \u001b[0mfunc\u001b[0m\u001b[0;34m=\u001b[0m\u001b[0mfunc\u001b[0m\u001b[0;34m,\u001b[0m\u001b[0;34m\u001b[0m\u001b[0;34m\u001b[0m\u001b[0m\n",
      "\u001b[0;32m~/opt/anaconda3/lib/python3.9/site-packages/optuna/study/_optimize.py\u001b[0m in \u001b[0;36m_optimize\u001b[0;34m(study, func, n_trials, timeout, n_jobs, catch, callbacks, gc_after_trial, show_progress_bar)\u001b[0m\n\u001b[1;32m     64\u001b[0m     \u001b[0;32mtry\u001b[0m\u001b[0;34m:\u001b[0m\u001b[0;34m\u001b[0m\u001b[0;34m\u001b[0m\u001b[0m\n\u001b[1;32m     65\u001b[0m         \u001b[0;32mif\u001b[0m \u001b[0mn_jobs\u001b[0m \u001b[0;34m==\u001b[0m \u001b[0;36m1\u001b[0m\u001b[0;34m:\u001b[0m\u001b[0;34m\u001b[0m\u001b[0;34m\u001b[0m\u001b[0m\n\u001b[0;32m---> 66\u001b[0;31m             _optimize_sequential(\n\u001b[0m\u001b[1;32m     67\u001b[0m                 \u001b[0mstudy\u001b[0m\u001b[0;34m,\u001b[0m\u001b[0;34m\u001b[0m\u001b[0;34m\u001b[0m\u001b[0m\n\u001b[1;32m     68\u001b[0m                 \u001b[0mfunc\u001b[0m\u001b[0;34m,\u001b[0m\u001b[0;34m\u001b[0m\u001b[0;34m\u001b[0m\u001b[0m\n",
      "\u001b[0;32m~/opt/anaconda3/lib/python3.9/site-packages/optuna/study/_optimize.py\u001b[0m in \u001b[0;36m_optimize_sequential\u001b[0;34m(study, func, n_trials, timeout, catch, callbacks, gc_after_trial, reseed_sampler_rng, time_start, progress_bar)\u001b[0m\n\u001b[1;32m    158\u001b[0m \u001b[0;34m\u001b[0m\u001b[0m\n\u001b[1;32m    159\u001b[0m         \u001b[0;32mtry\u001b[0m\u001b[0;34m:\u001b[0m\u001b[0;34m\u001b[0m\u001b[0;34m\u001b[0m\u001b[0m\n\u001b[0;32m--> 160\u001b[0;31m             \u001b[0mfrozen_trial\u001b[0m \u001b[0;34m=\u001b[0m \u001b[0m_run_trial\u001b[0m\u001b[0;34m(\u001b[0m\u001b[0mstudy\u001b[0m\u001b[0;34m,\u001b[0m \u001b[0mfunc\u001b[0m\u001b[0;34m,\u001b[0m \u001b[0mcatch\u001b[0m\u001b[0;34m)\u001b[0m\u001b[0;34m\u001b[0m\u001b[0;34m\u001b[0m\u001b[0m\n\u001b[0m\u001b[1;32m    161\u001b[0m         \u001b[0;32mfinally\u001b[0m\u001b[0;34m:\u001b[0m\u001b[0;34m\u001b[0m\u001b[0;34m\u001b[0m\u001b[0m\n\u001b[1;32m    162\u001b[0m             \u001b[0;31m# The following line mitigates memory problems that can be occurred in some\u001b[0m\u001b[0;34m\u001b[0m\u001b[0;34m\u001b[0m\u001b[0m\n",
      "\u001b[0;32m~/opt/anaconda3/lib/python3.9/site-packages/optuna/study/_optimize.py\u001b[0m in \u001b[0;36m_run_trial\u001b[0;34m(study, func, catch)\u001b[0m\n\u001b[1;32m    232\u001b[0m         \u001b[0;32mand\u001b[0m \u001b[0;32mnot\u001b[0m \u001b[0misinstance\u001b[0m\u001b[0;34m(\u001b[0m\u001b[0mfunc_err\u001b[0m\u001b[0;34m,\u001b[0m \u001b[0mcatch\u001b[0m\u001b[0;34m)\u001b[0m\u001b[0;34m\u001b[0m\u001b[0;34m\u001b[0m\u001b[0m\n\u001b[1;32m    233\u001b[0m     ):\n\u001b[0;32m--> 234\u001b[0;31m         \u001b[0;32mraise\u001b[0m \u001b[0mfunc_err\u001b[0m\u001b[0;34m\u001b[0m\u001b[0;34m\u001b[0m\u001b[0m\n\u001b[0m\u001b[1;32m    235\u001b[0m     \u001b[0;32mreturn\u001b[0m \u001b[0mfrozen_trial\u001b[0m\u001b[0;34m\u001b[0m\u001b[0;34m\u001b[0m\u001b[0m\n\u001b[1;32m    236\u001b[0m \u001b[0;34m\u001b[0m\u001b[0m\n",
      "\u001b[0;32m~/opt/anaconda3/lib/python3.9/site-packages/optuna/study/_optimize.py\u001b[0m in \u001b[0;36m_run_trial\u001b[0;34m(study, func, catch)\u001b[0m\n\u001b[1;32m    194\u001b[0m     \u001b[0;32mwith\u001b[0m \u001b[0mget_heartbeat_thread\u001b[0m\u001b[0;34m(\u001b[0m\u001b[0mtrial\u001b[0m\u001b[0;34m.\u001b[0m\u001b[0m_trial_id\u001b[0m\u001b[0;34m,\u001b[0m \u001b[0mstudy\u001b[0m\u001b[0;34m.\u001b[0m\u001b[0m_storage\u001b[0m\u001b[0;34m)\u001b[0m\u001b[0;34m:\u001b[0m\u001b[0;34m\u001b[0m\u001b[0;34m\u001b[0m\u001b[0m\n\u001b[1;32m    195\u001b[0m         \u001b[0;32mtry\u001b[0m\u001b[0;34m:\u001b[0m\u001b[0;34m\u001b[0m\u001b[0;34m\u001b[0m\u001b[0m\n\u001b[0;32m--> 196\u001b[0;31m             \u001b[0mvalue_or_values\u001b[0m \u001b[0;34m=\u001b[0m \u001b[0mfunc\u001b[0m\u001b[0;34m(\u001b[0m\u001b[0mtrial\u001b[0m\u001b[0;34m)\u001b[0m\u001b[0;34m\u001b[0m\u001b[0;34m\u001b[0m\u001b[0m\n\u001b[0m\u001b[1;32m    197\u001b[0m         \u001b[0;32mexcept\u001b[0m \u001b[0mexceptions\u001b[0m\u001b[0;34m.\u001b[0m\u001b[0mTrialPruned\u001b[0m \u001b[0;32mas\u001b[0m \u001b[0me\u001b[0m\u001b[0;34m:\u001b[0m\u001b[0;34m\u001b[0m\u001b[0;34m\u001b[0m\u001b[0m\n\u001b[1;32m    198\u001b[0m             \u001b[0;31m# TODO(mamu): Handle multi-objective cases.\u001b[0m\u001b[0;34m\u001b[0m\u001b[0;34m\u001b[0m\u001b[0m\n",
      "\u001b[0;32m/var/folders/67/wq_xsymd3jvc5w2fx1ld_18h0000gn/T/ipykernel_99820/2527391267.py\u001b[0m in \u001b[0;36mobjective\u001b[0;34m(trial)\u001b[0m\n\u001b[1;32m     25\u001b[0m         \u001b[0my_val\u001b[0m \u001b[0;34m=\u001b[0m \u001b[0my\u001b[0m\u001b[0;34m.\u001b[0m\u001b[0miloc\u001b[0m\u001b[0;34m[\u001b[0m\u001b[0mval_ind\u001b[0m\u001b[0;34m]\u001b[0m\u001b[0;34m\u001b[0m\u001b[0;34m\u001b[0m\u001b[0m\n\u001b[1;32m     26\u001b[0m \u001b[0;34m\u001b[0m\u001b[0m\n\u001b[0;32m---> 27\u001b[0;31m         model.fit(\n\u001b[0m\u001b[1;32m     28\u001b[0m             \u001b[0mX_train\u001b[0m\u001b[0;34m,\u001b[0m\u001b[0;34m\u001b[0m\u001b[0;34m\u001b[0m\u001b[0m\n\u001b[1;32m     29\u001b[0m             \u001b[0my_train\u001b[0m\u001b[0;34m,\u001b[0m\u001b[0;34m\u001b[0m\u001b[0;34m\u001b[0m\u001b[0m\n",
      "\u001b[0;32m~/opt/anaconda3/lib/python3.9/site-packages/xgboost/core.py\u001b[0m in \u001b[0;36minner_f\u001b[0;34m(*args, **kwargs)\u001b[0m\n\u001b[1;32m    618\u001b[0m             \u001b[0;32mfor\u001b[0m \u001b[0mk\u001b[0m\u001b[0;34m,\u001b[0m \u001b[0marg\u001b[0m \u001b[0;32min\u001b[0m \u001b[0mzip\u001b[0m\u001b[0;34m(\u001b[0m\u001b[0msig\u001b[0m\u001b[0;34m.\u001b[0m\u001b[0mparameters\u001b[0m\u001b[0;34m,\u001b[0m \u001b[0margs\u001b[0m\u001b[0;34m)\u001b[0m\u001b[0;34m:\u001b[0m\u001b[0;34m\u001b[0m\u001b[0;34m\u001b[0m\u001b[0m\n\u001b[1;32m    619\u001b[0m                 \u001b[0mkwargs\u001b[0m\u001b[0;34m[\u001b[0m\u001b[0mk\u001b[0m\u001b[0;34m]\u001b[0m \u001b[0;34m=\u001b[0m \u001b[0marg\u001b[0m\u001b[0;34m\u001b[0m\u001b[0;34m\u001b[0m\u001b[0m\n\u001b[0;32m--> 620\u001b[0;31m             \u001b[0;32mreturn\u001b[0m \u001b[0mfunc\u001b[0m\u001b[0;34m(\u001b[0m\u001b[0;34m**\u001b[0m\u001b[0mkwargs\u001b[0m\u001b[0;34m)\u001b[0m\u001b[0;34m\u001b[0m\u001b[0;34m\u001b[0m\u001b[0m\n\u001b[0m\u001b[1;32m    621\u001b[0m \u001b[0;34m\u001b[0m\u001b[0m\n\u001b[1;32m    622\u001b[0m         \u001b[0;32mreturn\u001b[0m \u001b[0minner_f\u001b[0m\u001b[0;34m\u001b[0m\u001b[0;34m\u001b[0m\u001b[0m\n",
      "\u001b[0;32m~/opt/anaconda3/lib/python3.9/site-packages/xgboost/sklearn.py\u001b[0m in \u001b[0;36mfit\u001b[0;34m(self, X, y, sample_weight, base_margin, eval_set, eval_metric, early_stopping_rounds, verbose, xgb_model, sample_weight_eval_set, base_margin_eval_set, feature_weights, callbacks)\u001b[0m\n\u001b[1;32m   1514\u001b[0m             )\n\u001b[1;32m   1515\u001b[0m \u001b[0;34m\u001b[0m\u001b[0m\n\u001b[0;32m-> 1516\u001b[0;31m             self._Booster = train(\n\u001b[0m\u001b[1;32m   1517\u001b[0m                 \u001b[0mparams\u001b[0m\u001b[0;34m,\u001b[0m\u001b[0;34m\u001b[0m\u001b[0;34m\u001b[0m\u001b[0m\n\u001b[1;32m   1518\u001b[0m                 \u001b[0mtrain_dmatrix\u001b[0m\u001b[0;34m,\u001b[0m\u001b[0;34m\u001b[0m\u001b[0;34m\u001b[0m\u001b[0m\n",
      "\u001b[0;32m~/opt/anaconda3/lib/python3.9/site-packages/xgboost/core.py\u001b[0m in \u001b[0;36minner_f\u001b[0;34m(*args, **kwargs)\u001b[0m\n\u001b[1;32m    618\u001b[0m             \u001b[0;32mfor\u001b[0m \u001b[0mk\u001b[0m\u001b[0;34m,\u001b[0m \u001b[0marg\u001b[0m \u001b[0;32min\u001b[0m \u001b[0mzip\u001b[0m\u001b[0;34m(\u001b[0m\u001b[0msig\u001b[0m\u001b[0;34m.\u001b[0m\u001b[0mparameters\u001b[0m\u001b[0;34m,\u001b[0m \u001b[0margs\u001b[0m\u001b[0;34m)\u001b[0m\u001b[0;34m:\u001b[0m\u001b[0;34m\u001b[0m\u001b[0;34m\u001b[0m\u001b[0m\n\u001b[1;32m    619\u001b[0m                 \u001b[0mkwargs\u001b[0m\u001b[0;34m[\u001b[0m\u001b[0mk\u001b[0m\u001b[0;34m]\u001b[0m \u001b[0;34m=\u001b[0m \u001b[0marg\u001b[0m\u001b[0;34m\u001b[0m\u001b[0;34m\u001b[0m\u001b[0m\n\u001b[0;32m--> 620\u001b[0;31m             \u001b[0;32mreturn\u001b[0m \u001b[0mfunc\u001b[0m\u001b[0;34m(\u001b[0m\u001b[0;34m**\u001b[0m\u001b[0mkwargs\u001b[0m\u001b[0;34m)\u001b[0m\u001b[0;34m\u001b[0m\u001b[0;34m\u001b[0m\u001b[0m\n\u001b[0m\u001b[1;32m    621\u001b[0m \u001b[0;34m\u001b[0m\u001b[0m\n\u001b[1;32m    622\u001b[0m         \u001b[0;32mreturn\u001b[0m \u001b[0minner_f\u001b[0m\u001b[0;34m\u001b[0m\u001b[0;34m\u001b[0m\u001b[0m\n",
      "\u001b[0;32m~/opt/anaconda3/lib/python3.9/site-packages/xgboost/training.py\u001b[0m in \u001b[0;36mtrain\u001b[0;34m(params, dtrain, num_boost_round, evals, obj, feval, maximize, early_stopping_rounds, evals_result, verbose_eval, xgb_model, callbacks, custom_metric)\u001b[0m\n\u001b[1;32m    183\u001b[0m         \u001b[0;32mif\u001b[0m \u001b[0mcb_container\u001b[0m\u001b[0;34m.\u001b[0m\u001b[0mbefore_iteration\u001b[0m\u001b[0;34m(\u001b[0m\u001b[0mbst\u001b[0m\u001b[0;34m,\u001b[0m \u001b[0mi\u001b[0m\u001b[0;34m,\u001b[0m \u001b[0mdtrain\u001b[0m\u001b[0;34m,\u001b[0m \u001b[0mevals\u001b[0m\u001b[0;34m)\u001b[0m\u001b[0;34m:\u001b[0m\u001b[0;34m\u001b[0m\u001b[0;34m\u001b[0m\u001b[0m\n\u001b[1;32m    184\u001b[0m             \u001b[0;32mbreak\u001b[0m\u001b[0;34m\u001b[0m\u001b[0;34m\u001b[0m\u001b[0m\n\u001b[0;32m--> 185\u001b[0;31m         \u001b[0mbst\u001b[0m\u001b[0;34m.\u001b[0m\u001b[0mupdate\u001b[0m\u001b[0;34m(\u001b[0m\u001b[0mdtrain\u001b[0m\u001b[0;34m,\u001b[0m \u001b[0mi\u001b[0m\u001b[0;34m,\u001b[0m \u001b[0mobj\u001b[0m\u001b[0;34m)\u001b[0m\u001b[0;34m\u001b[0m\u001b[0;34m\u001b[0m\u001b[0m\n\u001b[0m\u001b[1;32m    186\u001b[0m         \u001b[0;32mif\u001b[0m \u001b[0mcb_container\u001b[0m\u001b[0;34m.\u001b[0m\u001b[0mafter_iteration\u001b[0m\u001b[0;34m(\u001b[0m\u001b[0mbst\u001b[0m\u001b[0;34m,\u001b[0m \u001b[0mi\u001b[0m\u001b[0;34m,\u001b[0m \u001b[0mdtrain\u001b[0m\u001b[0;34m,\u001b[0m \u001b[0mevals\u001b[0m\u001b[0;34m)\u001b[0m\u001b[0;34m:\u001b[0m\u001b[0;34m\u001b[0m\u001b[0;34m\u001b[0m\u001b[0m\n\u001b[1;32m    187\u001b[0m             \u001b[0;32mbreak\u001b[0m\u001b[0;34m\u001b[0m\u001b[0;34m\u001b[0m\u001b[0m\n",
      "\u001b[0;32m~/opt/anaconda3/lib/python3.9/site-packages/xgboost/core.py\u001b[0m in \u001b[0;36mupdate\u001b[0;34m(self, dtrain, iteration, fobj)\u001b[0m\n\u001b[1;32m   1916\u001b[0m \u001b[0;34m\u001b[0m\u001b[0m\n\u001b[1;32m   1917\u001b[0m         \u001b[0;32mif\u001b[0m \u001b[0mfobj\u001b[0m \u001b[0;32mis\u001b[0m \u001b[0;32mNone\u001b[0m\u001b[0;34m:\u001b[0m\u001b[0;34m\u001b[0m\u001b[0;34m\u001b[0m\u001b[0m\n\u001b[0;32m-> 1918\u001b[0;31m             _check_call(_LIB.XGBoosterUpdateOneIter(self.handle,\n\u001b[0m\u001b[1;32m   1919\u001b[0m                                                     \u001b[0mctypes\u001b[0m\u001b[0;34m.\u001b[0m\u001b[0mc_int\u001b[0m\u001b[0;34m(\u001b[0m\u001b[0miteration\u001b[0m\u001b[0;34m)\u001b[0m\u001b[0;34m,\u001b[0m\u001b[0;34m\u001b[0m\u001b[0;34m\u001b[0m\u001b[0m\n\u001b[1;32m   1920\u001b[0m                                                     dtrain.handle))\n",
      "\u001b[0;31mKeyboardInterrupt\u001b[0m: "
     ]
    }
   ],
   "source": [
    "study = optuna.create_study(direction=\"maximize\")\n",
    "study.optimize(objective, n_trials=50, gc_after_trial=True)"
   ]
  },
  {
   "cell_type": "code",
   "execution_count": null,
   "metadata": {},
   "outputs": [],
   "source": []
  }
 ],
 "metadata": {
  "kernelspec": {
   "display_name": "Python 3.9.13 ('base')",
   "language": "python",
   "name": "python3"
  },
  "language_info": {
   "codemirror_mode": {
    "name": "ipython",
    "version": 3
   },
   "file_extension": ".py",
   "mimetype": "text/x-python",
   "name": "python",
   "nbconvert_exporter": "python",
   "pygments_lexer": "ipython3",
   "version": "3.9.13"
  },
  "orig_nbformat": 4,
  "vscode": {
   "interpreter": {
    "hash": "35371f657a4770bb32286f2b1d2d1b12c4bc2be917cf11a1e3547ec3dbe6c433"
   }
  }
 },
 "nbformat": 4,
 "nbformat_minor": 2
}

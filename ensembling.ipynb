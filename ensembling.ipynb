{
 "cells": [
  {
   "cell_type": "code",
   "execution_count": 1,
   "metadata": {},
   "outputs": [],
   "source": [
    "import pandas as pd\n",
    "import numpy as np\n",
    "class config:\n",
    "    train_path = '../../../datasets/garanti-bbva-data-camp/train_users.csv'\n",
    "    test_path = '../../../datasets/garanti-bbva-data-camp/test_users.csv'\n",
    "    sub_path = '../../../datasets/garanti-bbva-data-camp/submission.csv'\n",
    "    skills_path = '../../../datasets/garanti-bbva-data-camp/clean_skills.csv'\n",
    "    languages_path = '../../../datasets/garanti-bbva-data-camp/clean_language.csv'\n",
    "    education_path = '../../../datasets/garanti-bbva-data-camp/clean_education.csv'\n",
    "    exp_path = '../../../datasets/garanti-bbva-data-camp/work_experiences.csv'\n",
    "    seed = 42\n",
    "    n_folds = 6\n",
    "sub = pd.read_csv(config.sub_path)"
   ]
  },
  {
   "cell_type": "code",
   "execution_count": 5,
   "metadata": {},
   "outputs": [],
   "source": [
    "target = 'moved_after_2019'\n",
    "sub1 = pd.read_csv('../submissions/ensemble_cat_xgb_v21.csv')\n",
    "sub2 = pd.read_csv('../submissions/ensemble_cat_xgb_v25.csv')\n",
    "sub3 = pd.read_csv('../submissions/ensemble_cat_xgb_v45.csv')\n",
    "sub4 = pd.read_csv('../submissions/ensemble_cat_xgb_v24.csv')\n",
    "#sub5 = pd.read_csv('../submissions/ensemble_cat_xgb_0.792489.csv')\n",
    "#sub6 = pd.read_csv('../submissions/ensemble_cat_xgb_0.792452.csv')\n",
    "#sub7 = pd.read_csv('../submissions/ensemble_cat_xgb_0.794055.csv')\n",
    "#sub8 = pd.read_csv('../submissions/ensemble_cat_xgb_0.792697.csv')\n",
    "#sub9 = pd.read_csv('../submissions/ensemble_cat_xgb_0.792886.csv')\n",
    "#sub10 = pd.read_csv('../submissions/ensemble_cat_xgb_0.792867.csv')"
   ]
  },
  {
   "cell_type": "code",
   "execution_count": 15,
   "metadata": {},
   "outputs": [
    {
     "data": {
      "text/plain": [
       "0    9077\n",
       "1    4178\n",
       "Name: moved_after_2019, dtype: int64"
      ]
     },
     "execution_count": 15,
     "metadata": {},
     "output_type": "execute_result"
    }
   ],
   "source": [
    "ae = pd.read_csv('../submissions/all_ensemble_v8.csv')\n",
    "\n",
    "ae[target].value_counts()"
   ]
  },
  {
   "cell_type": "code",
   "execution_count": 16,
   "metadata": {},
   "outputs": [
    {
     "data": {
      "text/plain": [
       "0    9086\n",
       "1    4169\n",
       "Name: moved_after_2019, dtype: int64"
      ]
     },
     "execution_count": 16,
     "metadata": {},
     "output_type": "execute_result"
    }
   ],
   "source": [
    "ae = pd.read_csv('../submissions/ensemble_cat_xgb_v21.csv')\n",
    "\n",
    "ae[target].value_counts()"
   ]
  },
  {
   "cell_type": "code",
   "execution_count": 7,
   "metadata": {},
   "outputs": [
    {
     "name": "stdout",
     "output_type": "stream",
     "text": [
      "0    9083\n",
      "1    4172\n",
      "Name: moved_after_2019, dtype: int64\n"
     ]
    },
    {
     "data": {
      "text/html": [
       "<div>\n",
       "<style scoped>\n",
       "    .dataframe tbody tr th:only-of-type {\n",
       "        vertical-align: middle;\n",
       "    }\n",
       "\n",
       "    .dataframe tbody tr th {\n",
       "        vertical-align: top;\n",
       "    }\n",
       "\n",
       "    .dataframe thead th {\n",
       "        text-align: right;\n",
       "    }\n",
       "</style>\n",
       "<table border=\"1\" class=\"dataframe\">\n",
       "  <thead>\n",
       "    <tr style=\"text-align: right;\">\n",
       "      <th></th>\n",
       "      <th>user_id</th>\n",
       "      <th>moved_after_2019</th>\n",
       "    </tr>\n",
       "  </thead>\n",
       "  <tbody>\n",
       "    <tr>\n",
       "      <th>0</th>\n",
       "      <td>17449</td>\n",
       "      <td>0</td>\n",
       "    </tr>\n",
       "    <tr>\n",
       "      <th>1</th>\n",
       "      <td>33967</td>\n",
       "      <td>0</td>\n",
       "    </tr>\n",
       "    <tr>\n",
       "      <th>2</th>\n",
       "      <td>2110</td>\n",
       "      <td>0</td>\n",
       "    </tr>\n",
       "    <tr>\n",
       "      <th>3</th>\n",
       "      <td>55082</td>\n",
       "      <td>0</td>\n",
       "    </tr>\n",
       "    <tr>\n",
       "      <th>4</th>\n",
       "      <td>37165</td>\n",
       "      <td>0</td>\n",
       "    </tr>\n",
       "    <tr>\n",
       "      <th>5</th>\n",
       "      <td>42841</td>\n",
       "      <td>1</td>\n",
       "    </tr>\n",
       "    <tr>\n",
       "      <th>6</th>\n",
       "      <td>8407</td>\n",
       "      <td>0</td>\n",
       "    </tr>\n",
       "    <tr>\n",
       "      <th>7</th>\n",
       "      <td>17053</td>\n",
       "      <td>0</td>\n",
       "    </tr>\n",
       "    <tr>\n",
       "      <th>8</th>\n",
       "      <td>24437</td>\n",
       "      <td>1</td>\n",
       "    </tr>\n",
       "    <tr>\n",
       "      <th>9</th>\n",
       "      <td>44394</td>\n",
       "      <td>0</td>\n",
       "    </tr>\n",
       "  </tbody>\n",
       "</table>\n",
       "</div>"
      ],
      "text/plain": [
       "   user_id  moved_after_2019\n",
       "0    17449                 0\n",
       "1    33967                 0\n",
       "2     2110                 0\n",
       "3    55082                 0\n",
       "4    37165                 0\n",
       "5    42841                 1\n",
       "6     8407                 0\n",
       "7    17053                 0\n",
       "8    24437                 1\n",
       "9    44394                 0"
      ]
     },
     "execution_count": 7,
     "metadata": {},
     "output_type": "execute_result"
    }
   ],
   "source": [
    "sub[target] = np.where((sub1[target] * 0.25) + (sub2[target] * 0.25) + (sub3[target] * 0.25) + (sub4[target] * 0.25) >= 0.5, 1, 0)\n",
    "\n",
    "print(sub[target].value_counts())\n",
    "\n",
    "sub.head(10)"
   ]
  },
  {
   "cell_type": "code",
   "execution_count": 9,
   "metadata": {},
   "outputs": [],
   "source": [
    "sub.to_csv(f'../submissions/all_ensemble_v10.csv', index = False)"
   ]
  }
 ],
 "metadata": {
  "kernelspec": {
   "display_name": "Python 3.9.13 ('base')",
   "language": "python",
   "name": "python3"
  },
  "language_info": {
   "codemirror_mode": {
    "name": "ipython",
    "version": 3
   },
   "file_extension": ".py",
   "mimetype": "text/x-python",
   "name": "python",
   "nbconvert_exporter": "python",
   "pygments_lexer": "ipython3",
   "version": "3.9.13"
  },
  "orig_nbformat": 4,
  "vscode": {
   "interpreter": {
    "hash": "35371f657a4770bb32286f2b1d2d1b12c4bc2be917cf11a1e3547ec3dbe6c433"
   }
  }
 },
 "nbformat": 4,
 "nbformat_minor": 2
}

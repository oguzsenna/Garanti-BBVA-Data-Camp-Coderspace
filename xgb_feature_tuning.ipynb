{
 "cells": [
  {
   "cell_type": "code",
   "execution_count": 1,
   "metadata": {},
   "outputs": [],
   "source": [
    "import os\n",
    "import gc\n",
    "import optuna\n",
    "import warnings\n",
    "import numpy as np\n",
    "from utils import *\n",
    "import pandas as pd\n",
    "from copy import deepcopy\n",
    "from xgboost import XGBClassifier\n",
    "from catboost import CatBoostClassifier\n",
    "from train_models import get_model_scores\n",
    "from sklearn.model_selection import train_test_split, KFold, StratifiedKFold, cross_val_score\n",
    "from sklearn.metrics import accuracy_score, f1_score, classification_report\n",
    "warnings.filterwarnings('ignore')\n",
    "%run skills.ipynb\n",
    "%run languages.ipynb\n",
    "%run work_experiences.ipynb\n",
    "%run education.ipynb\n",
    "\n",
    "class config:\n",
    "    train_path = '../../../datasets/garanti-bbva-data-camp/train_users.csv'\n",
    "    test_path = '../../../datasets/garanti-bbva-data-camp/test_users.csv'\n",
    "    sub_path = '../../../datasets/garanti-bbva-data-camp/submission.csv'\n",
    "    skills_path = '../../../datasets/garanti-bbva-data-camp/clean_skills_v2.csv'\n",
    "    languages_path = '../../../datasets/garanti-bbva-data-camp/clean_language.csv'\n",
    "    education_path = '../../../datasets/garanti-bbva-data-camp/clean_education_v2.csv'\n",
    "    exp_path = '../../../datasets/garanti-bbva-data-camp/work_experiences.csv'\n",
    "    seed = 42\n",
    "    n_folds = 8"
   ]
  },
  {
   "cell_type": "code",
   "execution_count": 2,
   "metadata": {},
   "outputs": [],
   "source": [
    "def fix_location(dataframe: pd.DataFrame, feature: str = 'location') -> pd.DataFrame:\n",
    "\n",
    "    tr_cities = load_tr_cities()\n",
    "    df_ = dataframe.copy()\n",
    "    df_.loc[df_[feature].astype(str).str.contains('Kahraman Maras'), feature] = 'Kahramanmaras, Turkey'\n",
    "    df_.loc[df_[feature].astype(str).str.contains('Şanliurfa'), feature] = 'Sanliurfa, Turkey'\n",
    "    df_.loc[df_[feature].astype(str).str.contains('İçel'), feature] = 'Mersin, Turkey'\n",
    "    df_.loc[df_[feature].astype(str).str.contains('Afyon'), feature] = 'Afyonkarahisar, Turkey'\n",
    "    df_[feature] = df_[feature].apply(lambda x: str(x).replace('Türkiye', 'Turkey'))\n",
    "    df_[feature] = df_[feature].apply(lambda x: x.upper().strip())\n",
    "    df_[feature] = df_[feature].apply(lambda x: translation(str(x)))\n",
    "    for city in tr_cities:\n",
    "        df_[feature] = df_[feature].apply(lambda x: city if city in x else x)\n",
    "    df_[f'{feature}_based_on_tr'] = df_[feature].apply(lambda x: 1 if x in tr_cities or x == 'TURKEY' else 0)\n",
    "        \n",
    "    return df_"
   ]
  },
  {
   "cell_type": "code",
   "execution_count": 3,
   "metadata": {},
   "outputs": [],
   "source": [
    "def objective(trial):\n",
    "\n",
    "    train_df = pd.read_csv(config.train_path)\n",
    "    test_df = pd.read_csv(config.test_path)\n",
    "    df = train_df.append(test_df).reset_index(drop = True)\n",
    "    \n",
    "    params = {\n",
    "              'study_size': trial.suggest_int('study_size', 30, 90),\n",
    "              'school_size': trial.suggest_int('school_size', 30, 90),\n",
    "              'language_size': trial.suggest_int('language_size', 6, 15),\n",
    "              'degree_size': trial.suggest_int('degree_size', 8, 30),\n",
    "              'skill_size': trial.suggest_int('skill_size', 70, 180),\n",
    "              'skill_exact_match': trial.suggest_categorical('skill_exact_match', [True, False]),\n",
    "              'degree_exact_match': trial.suggest_categorical('degree_exact_match', [True, False]),\n",
    "              'school_exact_match': trial.suggest_categorical('school_exact_match', [True, False]),\n",
    "              'study_exact_match': trial.suggest_categorical('study_exact_match', [True, False]),\n",
    "              }\n",
    "\n",
    "    skills_df = load_skills(config.skills_path, params['skill_size'], exact_match=params['skill_exact_match'])\n",
    "    lang_df = load_languages(config.languages_path, params['language_size'])\n",
    "    school_df = load_school(config.education_path, params['school_size'], exact_match = params['school_exact_match'])\n",
    "    degree_df = load_degree(config.education_path, params['degree_size'], exact_match = params['degree_exact_match'])\n",
    "    study_df = load_study(config.education_path, params['study_size'], exact_match = params['study_exact_match'])\n",
    "    exp_df = load_work_experiences(config.exp_path)\n",
    "\n",
    "    df = fix_location(df)\n",
    "    df = df.merge(skills_df, on = ['user_id'], how = 'left')\n",
    "    df = df.merge(lang_df, on = ['user_id'], how = 'left')\n",
    "    df = df.merge(school_df, on = ['user_id'], how = 'left')\n",
    "    df = df.merge(degree_df, on = ['user_id'], how = 'left')\n",
    "    df = df.merge(study_df, on = ['user_id'], how = 'left')\n",
    "    df = df.merge(exp_df, on = ['user_id'], how = 'left')\n",
    "    df = add_populations(df)\n",
    "\n",
    "    df['nunique_company_by_industries'] = df.groupby(by = 'industry')['company_id'].transform('nunique')\n",
    "    df['active_employees_by_companies'] = df.groupby(by = 'company_id')['user_id'].transform('nunique')\n",
    "    df['nunique_industries_by_companies'] = df.groupby(by = 'company_id')['industry'].transform('nunique')\n",
    "    \n",
    "    target = 'moved_after_2019'\n",
    "    cat_features = ['industry', 'location', 'company_id',\n",
    "                    'employee_last_experience_year',\n",
    "                    'employee_last_experience_month',\n",
    "                    'employee_first_experience_year']\n",
    "    drop_features = ['user_id']\n",
    "\n",
    "    regex = re.compile(r\"\\[|\\]|<\", re.IGNORECASE)\n",
    "    df.columns = [regex.sub(\"_\", col) if any(x in str(col) for x in set(('[', ']', '<'))) else col for col in df.columns.values]\n",
    "\n",
    "    for caterogical_col in cat_features:\n",
    "        df[caterogical_col] = df[caterogical_col].astype(str).astype(\"category\")\n",
    "\n",
    "    train_set = df.loc[df[target].notnull()].drop(columns=drop_features, axis = 1)\n",
    "    test_set = df.loc[df[target].isnull()].drop(columns=drop_features, axis = 1)\n",
    "\n",
    "    X = train_set.drop(columns = [target], axis = 1)\n",
    "    y = train_set[target]\n",
    "    skf = StratifiedKFold(n_splits=config.n_folds, shuffle=True, random_state=config.seed)\n",
    "\n",
    "    xgb_params = {'max_depth': 11, 'learning_rate': 0.015238768735012887,\n",
    "                 'subsample': 0.8023883794058948, 'tree_method': 'hist',\n",
    "                 'enable_categorical': True, 'random_state': 42, 'n_estimators': 5000,\n",
    "                 'objective': 'binary:logistic'}\n",
    "\n",
    "    scores = list()\n",
    "    for idx, (train_ind, val_ind) in enumerate(skf.split(X, y)):\n",
    "        print(f\"fold: {idx+1}\")\n",
    "        model = XGBClassifier(**xgb_params)\n",
    "        X_train = X.iloc[train_ind]\n",
    "        y_train = y.iloc[train_ind]\n",
    "        X_val = X.iloc[val_ind]\n",
    "        y_val = y.iloc[val_ind]\n",
    "\n",
    "        model.fit(\n",
    "            X_train,\n",
    "            y_train,\n",
    "            eval_set=[(X_val, y_val)],\n",
    "            early_stopping_rounds=500,\n",
    "            verbose=False,\n",
    "        )\n",
    "\n",
    "        val_pred = model.predict(X_val)\n",
    "        scores.append(accuracy_score(y_val, val_pred))\n",
    "        del X_train, y_train, X_val, y_val\n",
    "        gc.collect()\n",
    "    del df, train_set, test_set\n",
    "    gc.collect()\n",
    "\n",
    "    return np.mean(scores)"
   ]
  },
  {
   "cell_type": "code",
   "execution_count": 4,
   "metadata": {},
   "outputs": [
    {
     "name": "stderr",
     "output_type": "stream",
     "text": [
      "\u001b[32m[I 2023-02-25 07:54:32,463]\u001b[0m A new study created in memory with name: no-name-76defa3a-6469-45cd-875c-75f886d615a6\u001b[0m\n",
      "100%|██████████| 175/175 [00:52<00:00,  3.35it/s]\n",
      "100%|██████████| 56/56 [00:01<00:00, 31.72it/s]\n",
      "100%|██████████| 27/27 [00:00<00:00, 31.92it/s]\n"
     ]
    },
    {
     "name": "stdout",
     "output_type": "stream",
     "text": [
      "fold: 1\n",
      "fold: 2\n",
      "fold: 3\n",
      "fold: 4\n",
      "fold: 5\n",
      "fold: 6\n",
      "fold: 7\n",
      "fold: 8\n"
     ]
    },
    {
     "name": "stderr",
     "output_type": "stream",
     "text": [
      "\u001b[32m[I 2023-02-25 08:30:27,469]\u001b[0m Trial 0 finished with value: 0.7890377675124141 and parameters: {'study_size': 66, 'school_size': 56, 'language_size': 14, 'degree_size': 27, 'skill_size': 175, 'skill_exact_match': True, 'degree_exact_match': True, 'school_exact_match': True, 'study_exact_match': False}. Best is trial 0 with value: 0.7890377675124141.\u001b[0m\n",
      "100%|██████████| 90/90 [00:02<00:00, 31.50it/s]\n",
      "100%|██████████| 8/8 [00:00<00:00, 31.73it/s]\n",
      "100%|██████████| 64/64 [00:02<00:00, 31.97it/s]\n"
     ]
    },
    {
     "name": "stdout",
     "output_type": "stream",
     "text": [
      "fold: 1\n",
      "fold: 2\n",
      "fold: 3\n",
      "fold: 4\n",
      "fold: 5\n",
      "fold: 6\n",
      "fold: 7\n",
      "fold: 8\n"
     ]
    },
    {
     "name": "stderr",
     "output_type": "stream",
     "text": [
      "\u001b[32m[I 2023-02-25 09:07:20,480]\u001b[0m Trial 1 finished with value: 0.7887925926689876 and parameters: {'study_size': 64, 'school_size': 90, 'language_size': 11, 'degree_size': 8, 'skill_size': 161, 'skill_exact_match': False, 'degree_exact_match': True, 'school_exact_match': True, 'study_exact_match': True}. Best is trial 0 with value: 0.7890377675124141.\u001b[0m\n",
      "100%|██████████| 8/8 [00:00<00:00, 30.46it/s]\n",
      "100%|██████████| 56/56 [00:01<00:00, 31.80it/s]\n"
     ]
    },
    {
     "name": "stdout",
     "output_type": "stream",
     "text": [
      "fold: 1\n",
      "fold: 2\n",
      "fold: 3\n",
      "fold: 4\n",
      "fold: 5\n",
      "fold: 6\n",
      "fold: 7\n",
      "fold: 8\n"
     ]
    },
    {
     "name": "stderr",
     "output_type": "stream",
     "text": [
      "\u001b[32m[I 2023-02-25 09:39:30,067]\u001b[0m Trial 2 finished with value: 0.7882645526716796 and parameters: {'study_size': 56, 'school_size': 66, 'language_size': 8, 'degree_size': 8, 'skill_size': 85, 'skill_exact_match': False, 'degree_exact_match': True, 'school_exact_match': False, 'study_exact_match': True}. Best is trial 0 with value: 0.7890377675124141.\u001b[0m\n",
      "100%|██████████| 20/20 [00:00<00:00, 31.49it/s]\n"
     ]
    },
    {
     "name": "stdout",
     "output_type": "stream",
     "text": [
      "fold: 1\n",
      "fold: 2\n",
      "fold: 3\n",
      "fold: 4\n",
      "fold: 5\n",
      "fold: 6\n",
      "fold: 7\n",
      "fold: 8\n"
     ]
    },
    {
     "name": "stderr",
     "output_type": "stream",
     "text": [
      "\u001b[32m[I 2023-02-25 10:15:52,444]\u001b[0m Trial 3 finished with value: 0.7895094086443792 and parameters: {'study_size': 73, 'school_size': 66, 'language_size': 11, 'degree_size': 20, 'skill_size': 165, 'skill_exact_match': False, 'degree_exact_match': True, 'school_exact_match': False, 'study_exact_match': False}. Best is trial 3 with value: 0.7895094086443792.\u001b[0m\n",
      "100%|██████████| 77/77 [00:23<00:00,  3.33it/s]\n",
      "100%|██████████| 23/23 [00:00<00:00, 31.58it/s]\n",
      "100%|██████████| 82/82 [00:02<00:00, 31.88it/s]\n"
     ]
    },
    {
     "name": "stdout",
     "output_type": "stream",
     "text": [
      "fold: 1\n",
      "fold: 2\n",
      "fold: 3\n",
      "fold: 4\n",
      "fold: 5\n",
      "fold: 6\n",
      "fold: 7\n",
      "fold: 8\n"
     ]
    },
    {
     "name": "stderr",
     "output_type": "stream",
     "text": [
      "\u001b[32m[I 2023-02-25 10:47:37,566]\u001b[0m Trial 4 finished with value: 0.788245619295399 and parameters: {'study_size': 82, 'school_size': 48, 'language_size': 13, 'degree_size': 23, 'skill_size': 77, 'skill_exact_match': True, 'degree_exact_match': True, 'school_exact_match': False, 'study_exact_match': True}. Best is trial 3 with value: 0.7895094086443792.\u001b[0m\n",
      "100%|██████████| 50/50 [00:01<00:00, 31.53it/s]\n",
      "100%|██████████| 15/15 [00:00<00:00, 31.78it/s]\n",
      "100%|██████████| 88/88 [00:02<00:00, 32.00it/s]\n"
     ]
    },
    {
     "name": "stdout",
     "output_type": "stream",
     "text": [
      "fold: 1\n",
      "fold: 2\n",
      "fold: 3\n",
      "fold: 4\n",
      "fold: 5\n",
      "fold: 6\n",
      "fold: 7\n",
      "fold: 8\n"
     ]
    },
    {
     "name": "stderr",
     "output_type": "stream",
     "text": [
      "\u001b[32m[I 2023-02-25 11:23:53,101]\u001b[0m Trial 5 finished with value: 0.7890378585793073 and parameters: {'study_size': 88, 'school_size': 50, 'language_size': 14, 'degree_size': 15, 'skill_size': 166, 'skill_exact_match': False, 'degree_exact_match': True, 'school_exact_match': True, 'study_exact_match': True}. Best is trial 3 with value: 0.7895094086443792.\u001b[0m\n",
      "100%|██████████| 12/12 [00:00<00:00, 30.91it/s]\n"
     ]
    },
    {
     "name": "stdout",
     "output_type": "stream",
     "text": [
      "fold: 1\n",
      "fold: 2\n",
      "fold: 3\n",
      "fold: 4\n",
      "fold: 5\n",
      "fold: 6\n",
      "fold: 7\n",
      "fold: 8\n"
     ]
    },
    {
     "name": "stderr",
     "output_type": "stream",
     "text": [
      "\u001b[32m[I 2023-02-25 11:58:39,960]\u001b[0m Trial 6 finished with value: 0.789679188637693 and parameters: {'study_size': 89, 'school_size': 62, 'language_size': 6, 'degree_size': 12, 'skill_size': 161, 'skill_exact_match': False, 'degree_exact_match': True, 'school_exact_match': False, 'study_exact_match': False}. Best is trial 6 with value: 0.789679188637693.\u001b[0m\n",
      "100%|██████████| 64/64 [00:02<00:00, 31.94it/s]\n"
     ]
    },
    {
     "name": "stdout",
     "output_type": "stream",
     "text": [
      "fold: 1\n",
      "fold: 2\n",
      "fold: 3\n",
      "fold: 4\n",
      "fold: 5\n",
      "fold: 6\n",
      "fold: 7\n",
      "fold: 8\n"
     ]
    },
    {
     "name": "stderr",
     "output_type": "stream",
     "text": [
      "\u001b[32m[I 2023-02-25 12:35:12,239]\u001b[0m Trial 7 finished with value: 0.7899620367165322 and parameters: {'study_size': 64, 'school_size': 79, 'language_size': 14, 'degree_size': 24, 'skill_size': 134, 'skill_exact_match': False, 'degree_exact_match': False, 'school_exact_match': False, 'study_exact_match': True}. Best is trial 7 with value: 0.7899620367165322.\u001b[0m\n",
      "100%|██████████| 97/97 [00:29<00:00,  3.34it/s]\n",
      "100%|██████████| 85/85 [00:02<00:00, 31.55it/s]\n",
      "100%|██████████| 28/28 [00:00<00:00, 31.84it/s]\n"
     ]
    },
    {
     "name": "stdout",
     "output_type": "stream",
     "text": [
      "fold: 1\n",
      "fold: 2\n",
      "fold: 3\n",
      "fold: 4\n",
      "fold: 5\n",
      "fold: 6\n",
      "fold: 7\n",
      "fold: 8\n"
     ]
    },
    {
     "name": "stderr",
     "output_type": "stream",
     "text": [
      "\u001b[32m[I 2023-02-25 13:10:51,613]\u001b[0m Trial 8 finished with value: 0.7882645754384028 and parameters: {'study_size': 72, 'school_size': 85, 'language_size': 14, 'degree_size': 28, 'skill_size': 97, 'skill_exact_match': True, 'degree_exact_match': True, 'school_exact_match': True, 'study_exact_match': False}. Best is trial 7 with value: 0.7899620367165322.\u001b[0m\n",
      "100%|██████████| 27/27 [00:00<00:00, 31.56it/s]\n",
      "100%|██████████| 32/32 [00:01<00:00, 31.93it/s]\n"
     ]
    },
    {
     "name": "stdout",
     "output_type": "stream",
     "text": [
      "fold: 1\n",
      "fold: 2\n",
      "fold: 3\n",
      "fold: 4\n",
      "fold: 5\n",
      "fold: 6\n",
      "fold: 7\n",
      "fold: 8\n"
     ]
    },
    {
     "name": "stderr",
     "output_type": "stream",
     "text": [
      "\u001b[32m[I 2023-02-25 13:44:19,539]\u001b[0m Trial 9 finished with value: 0.7904146534053236 and parameters: {'study_size': 32, 'school_size': 68, 'language_size': 9, 'degree_size': 27, 'skill_size': 146, 'skill_exact_match': False, 'degree_exact_match': True, 'school_exact_match': False, 'study_exact_match': True}. Best is trial 9 with value: 0.7904146534053236.\u001b[0m\n",
      "100%|██████████| 32/32 [00:01<00:00, 31.91it/s]\n"
     ]
    },
    {
     "name": "stdout",
     "output_type": "stream",
     "text": [
      "fold: 1\n",
      "fold: 2\n",
      "fold: 3\n",
      "fold: 4\n",
      "fold: 5\n",
      "fold: 6\n",
      "fold: 7\n",
      "fold: 8\n"
     ]
    },
    {
     "name": "stderr",
     "output_type": "stream",
     "text": [
      "\u001b[32m[I 2023-02-25 14:15:56,875]\u001b[0m Trial 10 finished with value: 0.7881702443661694 and parameters: {'study_size': 32, 'school_size': 30, 'language_size': 9, 'degree_size': 30, 'skill_size': 129, 'skill_exact_match': False, 'degree_exact_match': False, 'school_exact_match': False, 'study_exact_match': True}. Best is trial 9 with value: 0.7904146534053236.\u001b[0m\n",
      "100%|██████████| 49/49 [00:01<00:00, 31.97it/s]\n"
     ]
    },
    {
     "name": "stdout",
     "output_type": "stream",
     "text": [
      "fold: 1\n",
      "fold: 2\n",
      "fold: 3\n",
      "fold: 4\n",
      "fold: 5\n",
      "fold: 6\n",
      "fold: 7\n",
      "fold: 8\n"
     ]
    },
    {
     "name": "stderr",
     "output_type": "stream",
     "text": [
      "\u001b[32m[I 2023-02-25 14:49:41,799]\u001b[0m Trial 11 finished with value: 0.7892075361223662 and parameters: {'study_size': 49, 'school_size': 77, 'language_size': 9, 'degree_size': 23, 'skill_size': 132, 'skill_exact_match': False, 'degree_exact_match': False, 'school_exact_match': False, 'study_exact_match': True}. Best is trial 9 with value: 0.7904146534053236.\u001b[0m\n",
      "100%|██████████| 40/40 [00:01<00:00, 31.53it/s]\n"
     ]
    },
    {
     "name": "stdout",
     "output_type": "stream",
     "text": [
      "fold: 1\n",
      "fold: 2\n",
      "fold: 3\n",
      "fold: 4\n",
      "fold: 5\n",
      "fold: 6\n",
      "fold: 7\n",
      "fold: 8\n"
     ]
    },
    {
     "name": "stderr",
     "output_type": "stream",
     "text": [
      "\u001b[32m[I 2023-02-25 15:22:56,680]\u001b[0m Trial 12 finished with value: 0.7884153224510217 and parameters: {'study_size': 40, 'school_size': 76, 'language_size': 12, 'degree_size': 24, 'skill_size': 143, 'skill_exact_match': False, 'degree_exact_match': False, 'school_exact_match': False, 'study_exact_match': True}. Best is trial 9 with value: 0.7904146534053236.\u001b[0m\n",
      "100%|██████████| 51/51 [00:01<00:00, 31.44it/s]\n"
     ]
    },
    {
     "name": "stdout",
     "output_type": "stream",
     "text": [
      "fold: 1\n",
      "fold: 2\n",
      "fold: 3\n",
      "fold: 4\n",
      "fold: 5\n",
      "fold: 6\n",
      "fold: 7\n",
      "fold: 8\n"
     ]
    },
    {
     "name": "stderr",
     "output_type": "stream",
     "text": [
      "\u001b[32m[I 2023-02-25 15:55:49,318]\u001b[0m Trial 13 finished with value: 0.7897168675647865 and parameters: {'study_size': 51, 'school_size': 76, 'language_size': 6, 'degree_size': 19, 'skill_size': 109, 'skill_exact_match': False, 'degree_exact_match': False, 'school_exact_match': False, 'study_exact_match': True}. Best is trial 9 with value: 0.7904146534053236.\u001b[0m\n",
      "100%|██████████| 31/31 [00:00<00:00, 31.69it/s]\n"
     ]
    },
    {
     "name": "stdout",
     "output_type": "stream",
     "text": [
      "fold: 1\n",
      "fold: 2\n",
      "fold: 3\n",
      "fold: 4\n",
      "fold: 5\n",
      "fold: 6\n",
      "fold: 7\n",
      "fold: 8\n"
     ]
    },
    {
     "name": "stderr",
     "output_type": "stream",
     "text": [
      "\u001b[32m[I 2023-02-25 16:29:59,285]\u001b[0m Trial 14 finished with value: 0.7881513508316547 and parameters: {'study_size': 31, 'school_size': 81, 'language_size': 15, 'degree_size': 26, 'skill_size': 144, 'skill_exact_match': False, 'degree_exact_match': False, 'school_exact_match': False, 'study_exact_match': True}. Best is trial 9 with value: 0.7904146534053236.\u001b[0m\n",
      "100%|██████████| 114/114 [00:34<00:00,  3.34it/s]\n",
      "100%|██████████| 43/43 [00:01<00:00, 31.79it/s]\n"
     ]
    },
    {
     "name": "stdout",
     "output_type": "stream",
     "text": [
      "fold: 1\n",
      "fold: 2\n",
      "fold: 3\n",
      "fold: 4\n",
      "fold: 5\n",
      "fold: 6\n",
      "fold: 7\n",
      "fold: 8\n"
     ]
    },
    {
     "name": "stderr",
     "output_type": "stream",
     "text": [
      "\u001b[32m[I 2023-02-25 17:02:24,102]\u001b[0m Trial 15 finished with value: 0.7881891179798012 and parameters: {'study_size': 43, 'school_size': 70, 'language_size': 8, 'degree_size': 18, 'skill_size': 114, 'skill_exact_match': True, 'degree_exact_match': False, 'school_exact_match': False, 'study_exact_match': True}. Best is trial 9 with value: 0.7904146534053236.\u001b[0m\n",
      "\u001b[33m[W 2023-02-25 17:02:30,157]\u001b[0m Trial 16 failed because of the following error: KeyboardInterrupt()\u001b[0m\n",
      "Traceback (most recent call last):\n",
      "  File \"/Users/sercanyesiloz/opt/anaconda3/lib/python3.9/site-packages/optuna/study/_optimize.py\", line 196, in _run_trial\n",
      "    value_or_values = func(trial)\n",
      "  File \"/var/folders/67/wq_xsymd3jvc5w2fx1ld_18h0000gn/T/ipykernel_44675/2923264329.py\", line 19, in objective\n",
      "    skills_df = load_skills(config.skills_path, params['skill_size'], exact_match=params['skill_exact_match'])\n",
      "  File \"/var/folders/67/wq_xsymd3jvc5w2fx1ld_18h0000gn/T/ipykernel_44675/2639614005.py\", line 34, in load_skills\n",
      "    vectorizer.fit_transform(df_[\"skill\"]).toarray(),\n",
      "  File \"/Users/sercanyesiloz/opt/anaconda3/lib/python3.9/site-packages/sklearn/feature_extraction/text.py\", line 1330, in fit_transform\n",
      "    vocabulary, X = self._count_vocab(raw_documents, self.fixed_vocabulary_)\n",
      "  File \"/Users/sercanyesiloz/opt/anaconda3/lib/python3.9/site-packages/sklearn/feature_extraction/text.py\", line 1237, in _count_vocab\n",
      "    j_indices = np.asarray(j_indices, dtype=indices_dtype)\n",
      "KeyboardInterrupt\n"
     ]
    },
    {
     "ename": "KeyboardInterrupt",
     "evalue": "",
     "output_type": "error",
     "traceback": [
      "\u001b[0;31m---------------------------------------------------------------------------\u001b[0m",
      "\u001b[0;31mKeyboardInterrupt\u001b[0m                         Traceback (most recent call last)",
      "\u001b[0;32m/var/folders/67/wq_xsymd3jvc5w2fx1ld_18h0000gn/T/ipykernel_44675/2258614957.py\u001b[0m in \u001b[0;36m<module>\u001b[0;34m\u001b[0m\n\u001b[1;32m      1\u001b[0m \u001b[0mstudy\u001b[0m \u001b[0;34m=\u001b[0m \u001b[0moptuna\u001b[0m\u001b[0;34m.\u001b[0m\u001b[0mcreate_study\u001b[0m\u001b[0;34m(\u001b[0m\u001b[0mdirection\u001b[0m\u001b[0;34m=\u001b[0m\u001b[0;34m\"maximize\"\u001b[0m\u001b[0;34m)\u001b[0m\u001b[0;34m\u001b[0m\u001b[0;34m\u001b[0m\u001b[0m\n\u001b[0;32m----> 2\u001b[0;31m \u001b[0mstudy\u001b[0m\u001b[0;34m.\u001b[0m\u001b[0moptimize\u001b[0m\u001b[0;34m(\u001b[0m\u001b[0mobjective\u001b[0m\u001b[0;34m,\u001b[0m \u001b[0mn_trials\u001b[0m\u001b[0;34m=\u001b[0m\u001b[0;36m50\u001b[0m\u001b[0;34m,\u001b[0m \u001b[0mgc_after_trial\u001b[0m\u001b[0;34m=\u001b[0m\u001b[0;32mTrue\u001b[0m\u001b[0;34m)\u001b[0m\u001b[0;34m\u001b[0m\u001b[0;34m\u001b[0m\u001b[0m\n\u001b[0m",
      "\u001b[0;32m~/opt/anaconda3/lib/python3.9/site-packages/optuna/study/study.py\u001b[0m in \u001b[0;36moptimize\u001b[0;34m(self, func, n_trials, timeout, n_jobs, catch, callbacks, gc_after_trial, show_progress_bar)\u001b[0m\n\u001b[1;32m    417\u001b[0m         \"\"\"\n\u001b[1;32m    418\u001b[0m \u001b[0;34m\u001b[0m\u001b[0m\n\u001b[0;32m--> 419\u001b[0;31m         _optimize(\n\u001b[0m\u001b[1;32m    420\u001b[0m             \u001b[0mstudy\u001b[0m\u001b[0;34m=\u001b[0m\u001b[0mself\u001b[0m\u001b[0;34m,\u001b[0m\u001b[0;34m\u001b[0m\u001b[0;34m\u001b[0m\u001b[0m\n\u001b[1;32m    421\u001b[0m             \u001b[0mfunc\u001b[0m\u001b[0;34m=\u001b[0m\u001b[0mfunc\u001b[0m\u001b[0;34m,\u001b[0m\u001b[0;34m\u001b[0m\u001b[0;34m\u001b[0m\u001b[0m\n",
      "\u001b[0;32m~/opt/anaconda3/lib/python3.9/site-packages/optuna/study/_optimize.py\u001b[0m in \u001b[0;36m_optimize\u001b[0;34m(study, func, n_trials, timeout, n_jobs, catch, callbacks, gc_after_trial, show_progress_bar)\u001b[0m\n\u001b[1;32m     64\u001b[0m     \u001b[0;32mtry\u001b[0m\u001b[0;34m:\u001b[0m\u001b[0;34m\u001b[0m\u001b[0;34m\u001b[0m\u001b[0m\n\u001b[1;32m     65\u001b[0m         \u001b[0;32mif\u001b[0m \u001b[0mn_jobs\u001b[0m \u001b[0;34m==\u001b[0m \u001b[0;36m1\u001b[0m\u001b[0;34m:\u001b[0m\u001b[0;34m\u001b[0m\u001b[0;34m\u001b[0m\u001b[0m\n\u001b[0;32m---> 66\u001b[0;31m             _optimize_sequential(\n\u001b[0m\u001b[1;32m     67\u001b[0m                 \u001b[0mstudy\u001b[0m\u001b[0;34m,\u001b[0m\u001b[0;34m\u001b[0m\u001b[0;34m\u001b[0m\u001b[0m\n\u001b[1;32m     68\u001b[0m                 \u001b[0mfunc\u001b[0m\u001b[0;34m,\u001b[0m\u001b[0;34m\u001b[0m\u001b[0;34m\u001b[0m\u001b[0m\n",
      "\u001b[0;32m~/opt/anaconda3/lib/python3.9/site-packages/optuna/study/_optimize.py\u001b[0m in \u001b[0;36m_optimize_sequential\u001b[0;34m(study, func, n_trials, timeout, catch, callbacks, gc_after_trial, reseed_sampler_rng, time_start, progress_bar)\u001b[0m\n\u001b[1;32m    158\u001b[0m \u001b[0;34m\u001b[0m\u001b[0m\n\u001b[1;32m    159\u001b[0m         \u001b[0;32mtry\u001b[0m\u001b[0;34m:\u001b[0m\u001b[0;34m\u001b[0m\u001b[0;34m\u001b[0m\u001b[0m\n\u001b[0;32m--> 160\u001b[0;31m             \u001b[0mfrozen_trial\u001b[0m \u001b[0;34m=\u001b[0m \u001b[0m_run_trial\u001b[0m\u001b[0;34m(\u001b[0m\u001b[0mstudy\u001b[0m\u001b[0;34m,\u001b[0m \u001b[0mfunc\u001b[0m\u001b[0;34m,\u001b[0m \u001b[0mcatch\u001b[0m\u001b[0;34m)\u001b[0m\u001b[0;34m\u001b[0m\u001b[0;34m\u001b[0m\u001b[0m\n\u001b[0m\u001b[1;32m    161\u001b[0m         \u001b[0;32mfinally\u001b[0m\u001b[0;34m:\u001b[0m\u001b[0;34m\u001b[0m\u001b[0;34m\u001b[0m\u001b[0m\n\u001b[1;32m    162\u001b[0m             \u001b[0;31m# The following line mitigates memory problems that can be occurred in some\u001b[0m\u001b[0;34m\u001b[0m\u001b[0;34m\u001b[0m\u001b[0m\n",
      "\u001b[0;32m~/opt/anaconda3/lib/python3.9/site-packages/optuna/study/_optimize.py\u001b[0m in \u001b[0;36m_run_trial\u001b[0;34m(study, func, catch)\u001b[0m\n\u001b[1;32m    232\u001b[0m         \u001b[0;32mand\u001b[0m \u001b[0;32mnot\u001b[0m \u001b[0misinstance\u001b[0m\u001b[0;34m(\u001b[0m\u001b[0mfunc_err\u001b[0m\u001b[0;34m,\u001b[0m \u001b[0mcatch\u001b[0m\u001b[0;34m)\u001b[0m\u001b[0;34m\u001b[0m\u001b[0;34m\u001b[0m\u001b[0m\n\u001b[1;32m    233\u001b[0m     ):\n\u001b[0;32m--> 234\u001b[0;31m         \u001b[0;32mraise\u001b[0m \u001b[0mfunc_err\u001b[0m\u001b[0;34m\u001b[0m\u001b[0;34m\u001b[0m\u001b[0m\n\u001b[0m\u001b[1;32m    235\u001b[0m     \u001b[0;32mreturn\u001b[0m \u001b[0mfrozen_trial\u001b[0m\u001b[0;34m\u001b[0m\u001b[0;34m\u001b[0m\u001b[0m\n\u001b[1;32m    236\u001b[0m \u001b[0;34m\u001b[0m\u001b[0m\n",
      "\u001b[0;32m~/opt/anaconda3/lib/python3.9/site-packages/optuna/study/_optimize.py\u001b[0m in \u001b[0;36m_run_trial\u001b[0;34m(study, func, catch)\u001b[0m\n\u001b[1;32m    194\u001b[0m     \u001b[0;32mwith\u001b[0m \u001b[0mget_heartbeat_thread\u001b[0m\u001b[0;34m(\u001b[0m\u001b[0mtrial\u001b[0m\u001b[0;34m.\u001b[0m\u001b[0m_trial_id\u001b[0m\u001b[0;34m,\u001b[0m \u001b[0mstudy\u001b[0m\u001b[0;34m.\u001b[0m\u001b[0m_storage\u001b[0m\u001b[0;34m)\u001b[0m\u001b[0;34m:\u001b[0m\u001b[0;34m\u001b[0m\u001b[0;34m\u001b[0m\u001b[0m\n\u001b[1;32m    195\u001b[0m         \u001b[0;32mtry\u001b[0m\u001b[0;34m:\u001b[0m\u001b[0;34m\u001b[0m\u001b[0;34m\u001b[0m\u001b[0m\n\u001b[0;32m--> 196\u001b[0;31m             \u001b[0mvalue_or_values\u001b[0m \u001b[0;34m=\u001b[0m \u001b[0mfunc\u001b[0m\u001b[0;34m(\u001b[0m\u001b[0mtrial\u001b[0m\u001b[0;34m)\u001b[0m\u001b[0;34m\u001b[0m\u001b[0;34m\u001b[0m\u001b[0m\n\u001b[0m\u001b[1;32m    197\u001b[0m         \u001b[0;32mexcept\u001b[0m \u001b[0mexceptions\u001b[0m\u001b[0;34m.\u001b[0m\u001b[0mTrialPruned\u001b[0m \u001b[0;32mas\u001b[0m \u001b[0me\u001b[0m\u001b[0;34m:\u001b[0m\u001b[0;34m\u001b[0m\u001b[0;34m\u001b[0m\u001b[0m\n\u001b[1;32m    198\u001b[0m             \u001b[0;31m# TODO(mamu): Handle multi-objective cases.\u001b[0m\u001b[0;34m\u001b[0m\u001b[0;34m\u001b[0m\u001b[0m\n",
      "\u001b[0;32m/var/folders/67/wq_xsymd3jvc5w2fx1ld_18h0000gn/T/ipykernel_44675/2923264329.py\u001b[0m in \u001b[0;36mobjective\u001b[0;34m(trial)\u001b[0m\n\u001b[1;32m     17\u001b[0m               }\n\u001b[1;32m     18\u001b[0m \u001b[0;34m\u001b[0m\u001b[0m\n\u001b[0;32m---> 19\u001b[0;31m     \u001b[0mskills_df\u001b[0m \u001b[0;34m=\u001b[0m \u001b[0mload_skills\u001b[0m\u001b[0;34m(\u001b[0m\u001b[0mconfig\u001b[0m\u001b[0;34m.\u001b[0m\u001b[0mskills_path\u001b[0m\u001b[0;34m,\u001b[0m \u001b[0mparams\u001b[0m\u001b[0;34m[\u001b[0m\u001b[0;34m'skill_size'\u001b[0m\u001b[0;34m]\u001b[0m\u001b[0;34m,\u001b[0m \u001b[0mexact_match\u001b[0m\u001b[0;34m=\u001b[0m\u001b[0mparams\u001b[0m\u001b[0;34m[\u001b[0m\u001b[0;34m'skill_exact_match'\u001b[0m\u001b[0;34m]\u001b[0m\u001b[0;34m)\u001b[0m\u001b[0;34m\u001b[0m\u001b[0;34m\u001b[0m\u001b[0m\n\u001b[0m\u001b[1;32m     20\u001b[0m     \u001b[0mlang_df\u001b[0m \u001b[0;34m=\u001b[0m \u001b[0mload_languages\u001b[0m\u001b[0;34m(\u001b[0m\u001b[0mconfig\u001b[0m\u001b[0;34m.\u001b[0m\u001b[0mlanguages_path\u001b[0m\u001b[0;34m,\u001b[0m \u001b[0mparams\u001b[0m\u001b[0;34m[\u001b[0m\u001b[0;34m'language_size'\u001b[0m\u001b[0;34m]\u001b[0m\u001b[0;34m)\u001b[0m\u001b[0;34m\u001b[0m\u001b[0;34m\u001b[0m\u001b[0m\n\u001b[1;32m     21\u001b[0m     \u001b[0mschool_df\u001b[0m \u001b[0;34m=\u001b[0m \u001b[0mload_school\u001b[0m\u001b[0;34m(\u001b[0m\u001b[0mconfig\u001b[0m\u001b[0;34m.\u001b[0m\u001b[0meducation_path\u001b[0m\u001b[0;34m,\u001b[0m \u001b[0mparams\u001b[0m\u001b[0;34m[\u001b[0m\u001b[0;34m'school_size'\u001b[0m\u001b[0;34m]\u001b[0m\u001b[0;34m,\u001b[0m \u001b[0mexact_match\u001b[0m \u001b[0;34m=\u001b[0m \u001b[0mparams\u001b[0m\u001b[0;34m[\u001b[0m\u001b[0;34m'school_exact_match'\u001b[0m\u001b[0;34m]\u001b[0m\u001b[0;34m)\u001b[0m\u001b[0;34m\u001b[0m\u001b[0;34m\u001b[0m\u001b[0m\n",
      "\u001b[0;32m/var/folders/67/wq_xsymd3jvc5w2fx1ld_18h0000gn/T/ipykernel_44675/2639614005.py\u001b[0m in \u001b[0;36mload_skills\u001b[0;34m(path, size, exact_match)\u001b[0m\n\u001b[1;32m     32\u001b[0m         return (\n\u001b[1;32m     33\u001b[0m             pd.DataFrame(\n\u001b[0;32m---> 34\u001b[0;31m                 \u001b[0mvectorizer\u001b[0m\u001b[0;34m.\u001b[0m\u001b[0mfit_transform\u001b[0m\u001b[0;34m(\u001b[0m\u001b[0mdf_\u001b[0m\u001b[0;34m[\u001b[0m\u001b[0;34m\"skill\"\u001b[0m\u001b[0;34m]\u001b[0m\u001b[0;34m)\u001b[0m\u001b[0;34m.\u001b[0m\u001b[0mtoarray\u001b[0m\u001b[0;34m(\u001b[0m\u001b[0;34m)\u001b[0m\u001b[0;34m,\u001b[0m\u001b[0;34m\u001b[0m\u001b[0;34m\u001b[0m\u001b[0m\n\u001b[0m\u001b[1;32m     35\u001b[0m                 \u001b[0mcolumns\u001b[0m\u001b[0;34m=\u001b[0m\u001b[0;34m[\u001b[0m\u001b[0;34mf\"skill_{str(f)}\"\u001b[0m \u001b[0;32mfor\u001b[0m \u001b[0mf\u001b[0m \u001b[0;32min\u001b[0m \u001b[0mvectorizer\u001b[0m\u001b[0;34m.\u001b[0m\u001b[0mget_feature_names\u001b[0m\u001b[0;34m(\u001b[0m\u001b[0;34m)\u001b[0m\u001b[0;34m]\u001b[0m\u001b[0;34m,\u001b[0m\u001b[0;34m\u001b[0m\u001b[0;34m\u001b[0m\u001b[0m\n\u001b[1;32m     36\u001b[0m             )\n",
      "\u001b[0;32m~/opt/anaconda3/lib/python3.9/site-packages/sklearn/feature_extraction/text.py\u001b[0m in \u001b[0;36mfit_transform\u001b[0;34m(self, raw_documents, y)\u001b[0m\n\u001b[1;32m   1328\u001b[0m                     \u001b[0;32mbreak\u001b[0m\u001b[0;34m\u001b[0m\u001b[0;34m\u001b[0m\u001b[0m\n\u001b[1;32m   1329\u001b[0m \u001b[0;34m\u001b[0m\u001b[0m\n\u001b[0;32m-> 1330\u001b[0;31m         \u001b[0mvocabulary\u001b[0m\u001b[0;34m,\u001b[0m \u001b[0mX\u001b[0m \u001b[0;34m=\u001b[0m \u001b[0mself\u001b[0m\u001b[0;34m.\u001b[0m\u001b[0m_count_vocab\u001b[0m\u001b[0;34m(\u001b[0m\u001b[0mraw_documents\u001b[0m\u001b[0;34m,\u001b[0m \u001b[0mself\u001b[0m\u001b[0;34m.\u001b[0m\u001b[0mfixed_vocabulary_\u001b[0m\u001b[0;34m)\u001b[0m\u001b[0;34m\u001b[0m\u001b[0;34m\u001b[0m\u001b[0m\n\u001b[0m\u001b[1;32m   1331\u001b[0m \u001b[0;34m\u001b[0m\u001b[0m\n\u001b[1;32m   1332\u001b[0m         \u001b[0;32mif\u001b[0m \u001b[0mself\u001b[0m\u001b[0;34m.\u001b[0m\u001b[0mbinary\u001b[0m\u001b[0;34m:\u001b[0m\u001b[0;34m\u001b[0m\u001b[0;34m\u001b[0m\u001b[0m\n",
      "\u001b[0;32m~/opt/anaconda3/lib/python3.9/site-packages/sklearn/feature_extraction/text.py\u001b[0m in \u001b[0;36m_count_vocab\u001b[0;34m(self, raw_documents, fixed_vocab)\u001b[0m\n\u001b[1;32m   1235\u001b[0m         \u001b[0;32melse\u001b[0m\u001b[0;34m:\u001b[0m\u001b[0;34m\u001b[0m\u001b[0;34m\u001b[0m\u001b[0m\n\u001b[1;32m   1236\u001b[0m             \u001b[0mindices_dtype\u001b[0m \u001b[0;34m=\u001b[0m \u001b[0mnp\u001b[0m\u001b[0;34m.\u001b[0m\u001b[0mint32\u001b[0m\u001b[0;34m\u001b[0m\u001b[0;34m\u001b[0m\u001b[0m\n\u001b[0;32m-> 1237\u001b[0;31m         \u001b[0mj_indices\u001b[0m \u001b[0;34m=\u001b[0m \u001b[0mnp\u001b[0m\u001b[0;34m.\u001b[0m\u001b[0masarray\u001b[0m\u001b[0;34m(\u001b[0m\u001b[0mj_indices\u001b[0m\u001b[0;34m,\u001b[0m \u001b[0mdtype\u001b[0m\u001b[0;34m=\u001b[0m\u001b[0mindices_dtype\u001b[0m\u001b[0;34m)\u001b[0m\u001b[0;34m\u001b[0m\u001b[0;34m\u001b[0m\u001b[0m\n\u001b[0m\u001b[1;32m   1238\u001b[0m         \u001b[0mindptr\u001b[0m \u001b[0;34m=\u001b[0m \u001b[0mnp\u001b[0m\u001b[0;34m.\u001b[0m\u001b[0masarray\u001b[0m\u001b[0;34m(\u001b[0m\u001b[0mindptr\u001b[0m\u001b[0;34m,\u001b[0m \u001b[0mdtype\u001b[0m\u001b[0;34m=\u001b[0m\u001b[0mindices_dtype\u001b[0m\u001b[0;34m)\u001b[0m\u001b[0;34m\u001b[0m\u001b[0;34m\u001b[0m\u001b[0m\n\u001b[1;32m   1239\u001b[0m         \u001b[0mvalues\u001b[0m \u001b[0;34m=\u001b[0m \u001b[0mnp\u001b[0m\u001b[0;34m.\u001b[0m\u001b[0mfrombuffer\u001b[0m\u001b[0;34m(\u001b[0m\u001b[0mvalues\u001b[0m\u001b[0;34m,\u001b[0m \u001b[0mdtype\u001b[0m\u001b[0;34m=\u001b[0m\u001b[0mnp\u001b[0m\u001b[0;34m.\u001b[0m\u001b[0mintc\u001b[0m\u001b[0;34m)\u001b[0m\u001b[0;34m\u001b[0m\u001b[0;34m\u001b[0m\u001b[0m\n",
      "\u001b[0;31mKeyboardInterrupt\u001b[0m: "
     ]
    }
   ],
   "source": [
    "study = optuna.create_study(direction=\"maximize\")\n",
    "study.optimize(objective, n_trials=50, gc_after_trial=True)"
   ]
  },
  {
   "cell_type": "code",
   "execution_count": null,
   "metadata": {},
   "outputs": [],
   "source": []
  }
 ],
 "metadata": {
  "kernelspec": {
   "display_name": "Python 3.9.13 ('base')",
   "language": "python",
   "name": "python3"
  },
  "language_info": {
   "codemirror_mode": {
    "name": "ipython",
    "version": 3
   },
   "file_extension": ".py",
   "mimetype": "text/x-python",
   "name": "python",
   "nbconvert_exporter": "python",
   "pygments_lexer": "ipython3",
   "version": "3.9.13"
  },
  "orig_nbformat": 4,
  "vscode": {
   "interpreter": {
    "hash": "35371f657a4770bb32286f2b1d2d1b12c4bc2be917cf11a1e3547ec3dbe6c433"
   }
  }
 },
 "nbformat": 4,
 "nbformat_minor": 2
}
